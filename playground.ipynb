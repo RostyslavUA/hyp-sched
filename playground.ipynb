{
 "cells": [
  {
   "cell_type": "code",
   "execution_count": 1,
   "metadata": {},
   "outputs": [],
   "source": [
    "from utils import get_hyperedges, get_data, get_H, check_feasibility\n",
    "from model import CustomLossBatch, utility_fn\n",
    "from datagen import generate_data\n",
    "from linsat import linsat_layer_modified\n",
    "import torch\n",
    "import time\n",
    "import numpy as np\n",
    "import pickle"
   ]
  },
  {
   "cell_type": "markdown",
   "metadata": {
    "jp-MarkdownHeadingCollapsed": true
   },
   "source": [
    "# Pyomo Solver"
   ]
  },
  {
   "cell_type": "code",
   "execution_count": 2,
   "metadata": {
    "scrolled": true
   },
   "outputs": [],
   "source": [
    "# from pyomo.environ import (\n",
    "#     ConcreteModel, Var, Objective, ConstraintList, SolverFactory, NonNegativeReals, Binary, maximize\n",
    "# )\n",
    "# # Step 2: Create Pyomo model\n",
    "# model = ConcreteModel()\n",
    "\n",
    "# # Step 3: Define binary decision variables for each link (b_i)\n",
    "# model.b = Var(range(V_H), domain=Binary)  # b[i] = 1 if link i is active, 0 otherwise\n",
    "\n",
    "# # Step 4: Define the objective function (maximize throughput)\n",
    "# def throughput(model):\n",
    "#     total_throughput = 0\n",
    "#     for i in range(V_H):\n",
    "#         interference = sum(model.b[j] * I[i, j] for j in range(V_H) if j != i)  # Interference from other active links\n",
    "#         denominator = N[i] + interference  # Noise + interference\n",
    "#         total_throughput += (I[i,i] * model.b[i]) / denominator  # Contribution of link i to throughput\n",
    "#     return total_throughput\n",
    "\n",
    "# model.obj = Objective(rule=throughput, sense=maximize)\n",
    "\n",
    "# # Step 5: Add constraints for hyperedges (each hyperedge has a threshold)\n",
    "# model.constraints = ConstraintList()\n",
    "\n",
    "# for e_idx, hyperedge in enumerate(hyperedges):\n",
    "#     model.constraints.add(\n",
    "#         sum(model.b[i] for i in hyperedge) <= len(hyperedge)-1\n",
    "#     )\n",
    "\n",
    "# # Step 6: Solve the model\n",
    "# solver = SolverFactory('ipopt')  # Use Ipopt for nonlinear problems\n",
    "# result = solver.solve(model, tee=True)\n",
    "\n",
    "# # Step 7: Extract the results\n",
    "# optimal_decisions = [model.b[i].value for i in range(V_H)]\n",
    "\n",
    "# # Output the optimal link schedule\n",
    "# print(\"Optimal link schedule:\", optimal_decisions)\n",
    "# print(\"Maximum throughput:\", model.obj())"
   ]
  },
  {
   "cell_type": "markdown",
   "metadata": {},
   "source": [
    "# HyperDataset\n",
    "\n",
    "**Run this before Loading Saved Data**"
   ]
  },
  {
   "cell_type": "code",
   "execution_count": 3,
   "metadata": {},
   "outputs": [],
   "source": [
    "from torch.utils.data import Dataset, DataLoader\n",
    "\n",
    "class HyperDataset(Dataset):\n",
    "    def __init__(self, I, Dv_inv, De_inv, H, W):\n",
    "        self.I = I\n",
    "        self.Dv_inv = Dv_inv\n",
    "        self.De_inv = De_inv\n",
    "        self.H = H\n",
    "        self.W = W\n",
    "\n",
    "    def __len__(self):\n",
    "        return len(self.I)\n",
    "\n",
    "    def __getitem__(self, idx):\n",
    "        return self.I[idx], self.Dv_inv[idx], self.De_inv[idx], self.H[idx], self.W[idx]\n"
   ]
  },
  {
   "cell_type": "markdown",
   "metadata": {},
   "source": [
    "# Parameters"
   ]
  },
  {
   "cell_type": "code",
   "execution_count": 4,
   "metadata": {},
   "outputs": [],
   "source": [
    "# Step 1: Define problem parameters\n",
    "V_H = 10  # Number of nodes (links)\n",
    "E_H = 5   # Number of hyperedges\n",
    "# N = 0.1  # Noise power\n",
    "N_db = -136.87  # dB\n",
    "N = 10**(N_db/10)\n",
    "theta = 10  # Thresholds for hyperedges\n",
    "k = 5  # max hyperedge cardinality\n",
    "train_samples = 1000\n",
    "test_samples = 100\n",
    "batch_size = 100"
   ]
  },
  {
   "cell_type": "markdown",
   "metadata": {},
   "source": [
    "# Load Pre-Generated Data\n",
    "\n",
    "**Use this data for result evaluation**</br>\n",
    "<span style=\"color:cyan\">**Skip Generate Data and Data Prepration If you are using this part**</span>"
   ]
  },
  {
   "cell_type": "code",
   "execution_count": 5,
   "metadata": {},
   "outputs": [],
   "source": [
    "with open('train_dataset_n10_xylim4000.pkl', 'rb') as f:\n",
    "    train_dataset = pickle.load(f)\n",
    "with open('test_dataset_n10_xylim4000.pkl', 'rb') as f:\n",
    "    test_dataset = pickle.load(f)\n",
    "\n",
    "\n",
    "# defining a data loader\n",
    "batch_size = 64\n",
    "train_loader = DataLoader(train_dataset, batch_size=batch_size, shuffle=True)\n",
    "test_loader = DataLoader(test_dataset, batch_size=batch_size, shuffle=False)"
   ]
  },
  {
   "cell_type": "markdown",
   "metadata": {},
   "source": [
    "# Generate data"
   ]
  },
  {
   "cell_type": "code",
   "execution_count": 98,
   "metadata": {},
   "outputs": [],
   "source": [
    "xy_lim = 4000\n",
    "itens_train, hlist_train = get_data(train_samples, V_H, N, xy_lim, theta, k)\n",
    "itens_test, hlist_test = get_data(test_samples, V_H, N, xy_lim, theta, k)\n",
    "H_train = get_H(hlist_train, V_H, train_samples)\n",
    "H_test = get_H(hlist_test, V_H, test_samples)"
   ]
  },
  {
   "cell_type": "markdown",
   "metadata": {},
   "source": [
    "## Data Preparation"
   ]
  },
  {
   "cell_type": "markdown",
   "metadata": {},
   "source": [
    "Format of Data Should be as follows\n",
    "Dictionary Keys: \"$n$\": Number of hypernodes ($|\\mathcal{V}_H|$), \"$E$\": dictionray of hyperedges, \"$I \\in R^{n\\times n}$\": Interference and Power matrix, \"$H \\in \\{0,1\\}^{n\\times m}$: Incident matrix ($m$ is the size of hyperedges) "
   ]
  },
  {
   "cell_type": "code",
   "execution_count": 99,
   "metadata": {},
   "outputs": [],
   "source": [
    "def hypergraph_generation(V_H, I, hyperedges):\n",
    "    hypergraph = {}\n",
    "\n",
    "    \n",
    "\n",
    "    hypergraph[\"I\"] = torch.DoubleTensor(I)\n",
    "\n",
    "\n",
    "    H = torch.DoubleTensor(hyperedges)\n",
    "    Dv_inv = torch.diag(H.sum(0)**(-1/2))\n",
    "    De_inv = torch.diag(H.sum(1)**(-1))\n",
    "    W = torch.eye(V_H, dtype=torch.float64)\n",
    "    hypergraph[\"H\"] = H\n",
    "    hypergraph[\"Dv_inv\"] = Dv_inv\n",
    "    hypergraph[\"De_inv\"] = De_inv\n",
    "    hypergraph[\"W\"] = W\n",
    "    return hypergraph"
   ]
  },
  {
   "cell_type": "markdown",
   "metadata": {},
   "source": [
    "### Generating train and test dataste"
   ]
  },
  {
   "cell_type": "code",
   "execution_count": 100,
   "metadata": {},
   "outputs": [],
   "source": [
    "hyps_train, hyps_test = [], []\n",
    "\n",
    "Is = torch.zeros((len(itens_train), V_H, V_H), dtype=torch.float64)\n",
    "Dv_invs = torch.zeros((len(itens_train), V_H, V_H), dtype=torch.float64)\n",
    "De_invs = torch.zeros((len(itens_train), V_H, V_H), dtype=torch.float64)\n",
    "Hs = torch.zeros((len(itens_train), V_H, V_H), dtype=torch.float64)\n",
    "Ws = torch.zeros((len(itens_train), V_H, V_H), dtype=torch.float64)\n",
    "\n",
    "i = 0\n",
    "for I, hyperedges in zip(itens_train, H_train):\n",
    "    hyp = hypergraph_generation(V_H, I, hyperedges)\n",
    "    Is[i] = hyp[\"I\"]\n",
    "    Dv_invs[i] = hyp[\"Dv_inv\"]\n",
    "    De_invs[i] = hyp[\"De_inv\"]\n",
    "    Hs[i] = hyp[\"H\"]\n",
    "    Ws[i] = hyp[\"W\"]\n",
    "    i += 1\n",
    "\n",
    "train_dataset = HyperDataset(Is, Dv_invs, De_invs, Hs, Ws)\n",
    "\n",
    "Is = torch.zeros((len(itens_test), V_H, V_H), dtype=torch.float64)\n",
    "Dv_invs = torch.zeros((len(itens_test), V_H, V_H), dtype=torch.float64)\n",
    "De_invs = torch.zeros((len(itens_test), V_H, V_H), dtype=torch.float64)\n",
    "Hs = torch.zeros((len(itens_test), V_H, V_H), dtype=torch.float64)\n",
    "Ws = torch.zeros((len(itens_test), V_H, V_H), dtype=torch.float64)\n",
    "\n",
    "i = 0\n",
    "for I, hyperedges in zip(itens_test, H_test):\n",
    "    hyp = hypergraph_generation(V_H, I, hyperedges)\n",
    "    Is[i] = hyp[\"I\"]\n",
    "    Dv_invs[i] = hyp[\"Dv_inv\"]\n",
    "    De_invs[i] = hyp[\"De_inv\"]\n",
    "    Hs[i] = hyp[\"H\"]\n",
    "    Ws[i] = hyp[\"W\"]\n",
    "    i += 1\n",
    "\n",
    "test_dataset = HyperDataset(Is, Dv_invs, De_invs, Hs, Ws)"
   ]
  },
  {
   "cell_type": "code",
   "execution_count": 6,
   "metadata": {},
   "outputs": [],
   "source": [
    "# defining a data loader\n",
    "batch_size = 64\n",
    "train_loader = DataLoader(train_dataset, batch_size=batch_size, shuffle=True)\n",
    "test_loader = DataLoader(test_dataset, batch_size=batch_size, shuffle=False)"
   ]
  },
  {
   "cell_type": "markdown",
   "metadata": {},
   "source": [
    "# Exhaustive Search Solver"
   ]
  },
  {
   "cell_type": "code",
   "execution_count": 7,
   "metadata": {},
   "outputs": [],
   "source": [
    "# exhaustive search\n",
    "def exh_solver(V_H, E_H, N, I, hyperedges):\n",
    "    best_throughput = 0\n",
    "    best_schedule = None\n",
    "    for i in range(2**V_H):\n",
    "        schedule = np.array([int(x) for x in bin(i)[2:].zfill(V_H)])  # Numpy is faster than torch\n",
    "        throughput = 0\n",
    "        # check if the schedule satisfies the hyperedge constraints\n",
    "        valid_schedule = True\n",
    "        for hyperedge in hyperedges:\n",
    "            non_zero_idx = np.nonzero(hyperedge)[0]\n",
    "            is_not_trivial = len(non_zero_idx) > 1\n",
    "            if sum(schedule[non_zero_idx]) == len(non_zero_idx) and is_not_trivial:\n",
    "                valid_schedule = False\n",
    "                break\n",
    "        \n",
    "        if not valid_schedule:\n",
    "            continue\n",
    "        # calculate throughput\n",
    "        for i in range(V_H):\n",
    "            interference = sum(schedule[j] * I[i, j] for j in range(V_H) if j != i)\n",
    "            denominator = N[i] + interference\n",
    "            throughput += np.log2(1+(I[i,i] * schedule[i]) / denominator)\n",
    "        # print(schedule, throughput)\n",
    "        if throughput > best_throughput:\n",
    "            best_throughput = throughput\n",
    "            best_schedule = schedule\n",
    "\n",
    "    return best_throughput, best_schedule\n",
    "        "
   ]
  },
  {
   "cell_type": "code",
   "execution_count": 9,
   "metadata": {
    "scrolled": true
   },
   "outputs": [
    {
     "name": "stdout",
     "output_type": "stream",
     "text": [
      "Exhaustive search results:\n",
      "Optimal link schedule  [1 1 1 1 0 1 1 0 0 1]  Maximum throughput: 41.482053444676644 bits/s/Hz\n",
      "Optimal link schedule  [0 0 0 1 1 1 0 1 1 1]  Maximum throughput: 39.67631041482853 bits/s/Hz\n",
      "Optimal link schedule  [1 0 1 1 1 1 0 1 0 0]  Maximum throughput: 41.97374369182328 bits/s/Hz\n",
      "Optimal link schedule  [1 0 1 1 1 1 0 0 1 1]  Maximum throughput: 44.6222279502955 bits/s/Hz\n",
      "Optimal link schedule  [1 1 1 0 0 1 0 1 1 0]  Maximum throughput: 34.814148288445494 bits/s/Hz\n",
      "Optimal link schedule  [1 1 1 1 0 0 0 1 1 0]  Maximum throughput: 39.07697803547207 bits/s/Hz\n",
      "Optimal link schedule  [1 1 1 1 0 1 0 1 1 0]  Maximum throughput: 39.931263574752464 bits/s/Hz\n",
      "Optimal link schedule  [0 1 0 1 0 1 1 1 0 1]  Maximum throughput: 44.53329849579033 bits/s/Hz\n",
      "Optimal link schedule  [0 1 1 1 0 1 1 1 1 0]  Maximum throughput: 40.83653289886345 bits/s/Hz\n",
      "Optimal link schedule  [0 1 1 0 1 1 0 1 0 1]  Maximum throughput: 37.840323782984285 bits/s/Hz\n",
      "Optimal link schedule  [1 0 0 1 1 0 1 1 1 1]  Maximum throughput: 48.950904199103945 bits/s/Hz\n",
      "Optimal link schedule  [0 0 0 0 0 0 1 0 0 0]  Maximum throughput: 34.19989029893313 bits/s/Hz\n",
      "Optimal link schedule  [1 0 1 1 0 0 0 1 1 1]  Maximum throughput: 43.505101051424106 bits/s/Hz\n",
      "Optimal link schedule  [1 1 1 1 0 0 0 0 1 1]  Maximum throughput: 37.92723256636119 bits/s/Hz\n",
      "Optimal link schedule  [0 0 1 1 1 1 0 1 1 1]  Maximum throughput: 45.6912651285053 bits/s/Hz\n",
      "Optimal link schedule  [0 1 0 1 1 1 0 0 1 1]  Maximum throughput: 36.84321684327131 bits/s/Hz\n",
      "Optimal link schedule  [1 1 1 1 1 0 0 1 0 1]  Maximum throughput: 45.10966575280627 bits/s/Hz\n",
      "Optimal link schedule  [1 0 1 1 1 0 1 1 1 1]  Maximum throughput: 47.34399327658985 bits/s/Hz\n",
      "Optimal link schedule  [0 1 0 1 1 0 1 1 0 1]  Maximum throughput: 50.87824839728904 bits/s/Hz\n",
      "Optimal link schedule  [0 1 0 1 1 1 0 1 0 1]  Maximum throughput: 45.59014645829532 bits/s/Hz\n",
      "Optimal link schedule  [0 0 1 1 1 1 1 1 0 0]  Maximum throughput: 43.61570663877094 bits/s/Hz\n",
      "Optimal link schedule  [1 0 1 1 1 0 0 1 1 1]  Maximum throughput: 42.83497945553881 bits/s/Hz\n",
      "Optimal link schedule  [1 1 1 1 1 0 1 1 1 0]  Maximum throughput: 52.93042556516806 bits/s/Hz\n",
      "Optimal link schedule  [1 0 0 1 1 1 1 1 0 0]  Maximum throughput: 41.19736844812722 bits/s/Hz\n",
      "Optimal link schedule  [1 1 1 1 1 1 1 0 1 0]  Maximum throughput: 49.02359514364168 bits/s/Hz\n",
      "Optimal link schedule  [1 1 1 0 1 1 1 1 0 0]  Maximum throughput: 50.18653259217652 bits/s/Hz\n",
      "Optimal link schedule  [0 0 1 0 1 1 1 0 1 0]  Maximum throughput: 38.111339209429325 bits/s/Hz\n",
      "Optimal link schedule  [1 0 0 1 1 0 1 1 1 0]  Maximum throughput: 38.13423020372425 bits/s/Hz\n",
      "Optimal link schedule  [1 0 1 1 1 1 0 1 0 1]  Maximum throughput: 40.89291008410966 bits/s/Hz\n",
      "Optimal link schedule  [1 1 1 1 1 1 0 0 1 0]  Maximum throughput: 43.66821893817429 bits/s/Hz\n",
      "Optimal link schedule  [0 0 1 0 1 1 0 1 0 1]  Maximum throughput: 38.44751695983574 bits/s/Hz\n",
      "Optimal link schedule  [1 1 0 1 1 1 1 1 0 1]  Maximum throughput: 41.79611753219555 bits/s/Hz\n",
      "Optimal link schedule  [0 1 1 1 1 1 1 1 0 0]  Maximum throughput: 50.099415775722335 bits/s/Hz\n",
      "Optimal link schedule  [1 0 1 1 0 1 1 1 0 0]  Maximum throughput: 36.790549971784785 bits/s/Hz\n",
      "Optimal link schedule  [0 1 1 1 1 0 1 1 1 1]  Maximum throughput: 33.771772571339106 bits/s/Hz\n",
      "Optimal link schedule  [1 1 1 0 1 1 0 0 0 1]  Maximum throughput: 44.7488491334906 bits/s/Hz\n",
      "Optimal link schedule  [1 1 1 0 1 0 0 1 0 1]  Maximum throughput: 44.83710862934987 bits/s/Hz\n",
      "Optimal link schedule  [1 1 1 0 1 0 1 0 0 1]  Maximum throughput: 37.244842314782346 bits/s/Hz\n",
      "Optimal link schedule  [1 0 1 1 0 0 1 1 1 1]  Maximum throughput: 46.92210728847978 bits/s/Hz\n",
      "Optimal link schedule  [1 1 0 0 1 1 1 1 0 1]  Maximum throughput: 38.2928810349386 bits/s/Hz\n",
      "Optimal link schedule  [1 0 1 0 1 1 1 1 1 0]  Maximum throughput: 52.376425074745725 bits/s/Hz\n",
      "Optimal link schedule  [1 1 1 0 1 1 1 1 0 0]  Maximum throughput: 50.911583769435616 bits/s/Hz\n",
      "Optimal link schedule  [1 0 1 0 1 1 1 0 1 1]  Maximum throughput: 42.381627942541165 bits/s/Hz\n",
      "Optimal link schedule  [1 1 0 1 1 1 1 1 0 0]  Maximum throughput: 54.03028389802703 bits/s/Hz\n",
      "Optimal link schedule  [0 1 0 0 0 0 0 0 0 0]  Maximum throughput: 34.88910963455074 bits/s/Hz\n",
      "Optimal link schedule  [1 1 1 0 1 0 1 1 1 1]  Maximum throughput: 43.86699278166653 bits/s/Hz\n",
      "Optimal link schedule  [0 0 0 0 0 0 0 1 0 0]  Maximum throughput: 34.36547633123597 bits/s/Hz\n",
      "Optimal link schedule  [1 0 1 1 1 1 1 1 0 1]  Maximum throughput: 38.79536942681298 bits/s/Hz\n",
      "Optimal link schedule  [1 1 0 1 0 0 0 1 0 1]  Maximum throughput: 36.31856664157654 bits/s/Hz\n",
      "Optimal link schedule  [1 1 1 1 0 0 1 1 1 0]  Maximum throughput: 42.5391499694969 bits/s/Hz\n",
      "Optimal link schedule  [0 1 1 0 0 0 1 1 1 1]  Maximum throughput: 39.776656873913026 bits/s/Hz\n",
      "Optimal link schedule  [0 1 0 0 0 0 0 0 0 0]  Maximum throughput: 33.458002757085616 bits/s/Hz\n",
      "Optimal link schedule  [1 0 1 1 1 1 0 0 1 1]  Maximum throughput: 43.926901381804946 bits/s/Hz\n",
      "Optimal link schedule  [0 0 0 1 0 0 0 0 0 0]  Maximum throughput: 34.028122315522175 bits/s/Hz\n",
      "Optimal link schedule  [1 1 0 1 0 1 0 1 1 1]  Maximum throughput: 39.871907780941044 bits/s/Hz\n",
      "Optimal link schedule  [1 1 0 1 1 1 1 1 1 0]  Maximum throughput: 43.06442842861414 bits/s/Hz\n",
      "Optimal link schedule  [1 0 0 0 0 1 1 1 1 1]  Maximum throughput: 34.68264491662719 bits/s/Hz\n",
      "Optimal link schedule  [0 1 1 1 0 1 1 0 0 1]  Maximum throughput: 35.59126882853487 bits/s/Hz\n",
      "Optimal link schedule  [1 0 0 1 0 1 0 1 1 1]  Maximum throughput: 42.19615172398827 bits/s/Hz\n",
      "Optimal link schedule  [1 1 1 0 1 1 1 0 0 1]  Maximum throughput: 44.16764663500496 bits/s/Hz\n",
      "Optimal link schedule  [0 1 1 0 0 1 1 1 1 1]  Maximum throughput: 48.017053668817425 bits/s/Hz\n",
      "Optimal link schedule  [1 1 1 1 0 1 1 1 0 1]  Maximum throughput: 40.18272404807548 bits/s/Hz\n",
      "Optimal link schedule  [0 0 1 1 1 1 0 0 1 1]  Maximum throughput: 33.872095333311634 bits/s/Hz\n",
      "Optimal link schedule  [0 1 1 0 0 1 1 1 1 1]  Maximum throughput: 43.9963329744978 bits/s/Hz\n",
      "Optimal link schedule  [1 1 1 0 0 0 1 1 1 0]  Maximum throughput: 44.74655794019534 bits/s/Hz\n",
      "Optimal link schedule  [1 1 0 1 0 1 1 1 0 0]  Maximum throughput: 42.52884882280437 bits/s/Hz\n",
      "Optimal link schedule  [0 0 1 1 1 1 0 1 1 1]  Maximum throughput: 47.717361600296826 bits/s/Hz\n",
      "Optimal link schedule  [1 0 0 0 1 1 0 1 1 1]  Maximum throughput: 48.26843176222227 bits/s/Hz\n",
      "Optimal link schedule  [0 0 0 0 1 0 0 0 0 0]  Maximum throughput: 34.78817316476967 bits/s/Hz\n",
      "Optimal link schedule  [0 1 1 1 0 0 1 1 0 1]  Maximum throughput: 40.12822165468689 bits/s/Hz\n",
      "Optimal link schedule  [0 0 1 1 1 1 1 0 1 1]  Maximum throughput: 36.38009295898443 bits/s/Hz\n",
      "Optimal link schedule  [0 1 1 1 0 1 0 0 1 1]  Maximum throughput: 44.80288668630852 bits/s/Hz\n",
      "Optimal link schedule  [0 0 0 1 1 1 1 1 1 0]  Maximum throughput: 43.87211531431307 bits/s/Hz\n",
      "Optimal link schedule  [0 0 0 0 0 1 0 0 0 0]  Maximum throughput: 36.20926967443121 bits/s/Hz\n",
      "Optimal link schedule  [1 1 0 0 1 0 0 1 1 1]  Maximum throughput: 37.146604310833624 bits/s/Hz\n",
      "Optimal link schedule  [1 0 0 1 0 1 1 0 1 0]  Maximum throughput: 41.370188792203656 bits/s/Hz\n",
      "Optimal link schedule  [0 0 0 0 0 0 0 1 0 0]  Maximum throughput: 34.832335520860056 bits/s/Hz\n",
      "Optimal link schedule  [0 0 1 0 1 1 1 1 0 1]  Maximum throughput: 43.73900647632139 bits/s/Hz\n",
      "Optimal link schedule  [1 0 1 0 1 1 0 1 1 0]  Maximum throughput: 38.8945145031028 bits/s/Hz\n",
      "Optimal link schedule  [0 1 0 1 1 0 1 1 1 1]  Maximum throughput: 36.9173247950324 bits/s/Hz\n",
      "Optimal link schedule  [0 0 1 0 0 0 0 0 0 0]  Maximum throughput: 33.76774822280109 bits/s/Hz\n",
      "Optimal link schedule  [1 0 1 0 0 1 1 0 1 1]  Maximum throughput: 34.2905824849094 bits/s/Hz\n",
      "Optimal link schedule  [1 1 1 0 1 0 1 0 1 1]  Maximum throughput: 47.721681307412545 bits/s/Hz\n",
      "Optimal link schedule  [1 0 0 1 1 1 1 0 1 1]  Maximum throughput: 43.015413925756654 bits/s/Hz\n",
      "Optimal link schedule  [1 1 1 1 0 0 1 0 0 1]  Maximum throughput: 37.849202317067146 bits/s/Hz\n",
      "Optimal link schedule  [1 0 1 0 1 0 1 1 1 0]  Maximum throughput: 39.39607251831231 bits/s/Hz\n",
      "Optimal link schedule  [0 1 1 1 1 1 1 1 0 1]  Maximum throughput: 37.311236129923934 bits/s/Hz\n",
      "Optimal link schedule  [1 1 0 1 0 1 1 1 0 0]  Maximum throughput: 51.097133464786324 bits/s/Hz\n",
      "Optimal link schedule  [1 1 1 0 0 1 1 1 0 0]  Maximum throughput: 40.05543927707819 bits/s/Hz\n",
      "Optimal link schedule  [1 0 1 1 0 0 1 1 1 1]  Maximum throughput: 36.496027263488656 bits/s/Hz\n",
      "Optimal link schedule  [0 0 1 1 1 1 1 1 0 0]  Maximum throughput: 43.10462198457379 bits/s/Hz\n",
      "Optimal link schedule  [0 0 1 0 1 1 1 0 1 1]  Maximum throughput: 43.129083064593246 bits/s/Hz\n",
      "Optimal link schedule  [1 0 1 1 1 0 1 1 1 0]  Maximum throughput: 41.5934037267273 bits/s/Hz\n",
      "Optimal link schedule  [1 1 1 0 0 1 0 1 1 1]  Maximum throughput: 41.15935335560279 bits/s/Hz\n",
      "Optimal link schedule  [0 1 1 0 1 1 1 1 1 0]  Maximum throughput: 46.6247597512679 bits/s/Hz\n",
      "Optimal link schedule  [1 0 1 0 0 1 1 1 1 1]  Maximum throughput: 43.20088396949797 bits/s/Hz\n",
      "Optimal link schedule  [0 0 1 1 1 1 1 0 1 1]  Maximum throughput: 49.30091833863531 bits/s/Hz\n",
      "Optimal link schedule  [1 1 1 1 0 1 0 1 0 1]  Maximum throughput: 45.64428273213407 bits/s/Hz\n",
      "Optimal link schedule  [0 1 0 0 1 1 1 1 1 1]  Maximum throughput: 41.79977069026799 bits/s/Hz\n",
      "Optimal link schedule  [1 0 0 0 1 1 1 1 1 1]  Maximum throughput: 49.13702634914335 bits/s/Hz\n",
      "Mean average throughput: 41.79716110029465\n"
     ]
    }
   ],
   "source": [
    "print(\"Exhaustive search results:\")\n",
    "best_throughput_test = []\n",
    "for i, sample in enumerate(test_dataset):\n",
    "    X, _, _, H, _ = sample\n",
    "    best_throughput, best_schedule = exh_solver(X.shape[0], X.shape[0], X.shape[0]*[N], X.detach().numpy(), H.detach().numpy())\n",
    "    best_throughput_test.append(best_throughput)\n",
    "    # print(\"Optimal link schedule:\", best_schedule)\n",
    "    print(\"Optimal link schedule \" , best_schedule, \" Maximum throughput:\", best_throughput, \"bits/s/Hz\")\n",
    "tput_optimal_mean = np.mean(best_throughput_test)\n",
    "print(f\"Mean average throughput: {tput_optimal_mean}\")"
   ]
  },
  {
   "cell_type": "markdown",
   "metadata": {},
   "source": [
    "# Learning-Based"
   ]
  },
  {
   "cell_type": "code",
   "execution_count": 10,
   "metadata": {},
   "outputs": [],
   "source": [
    "import torch\n",
    "from torch import nn\n",
    "device = 'cuda' if torch.cuda.is_available() else 'cpu'"
   ]
  },
  {
   "cell_type": "markdown",
   "metadata": {},
   "source": [
    "# Training HGNN"
   ]
  },
  {
   "cell_type": "code",
   "execution_count": 11,
   "metadata": {},
   "outputs": [],
   "source": [
    "def get_learnable_parameters(V_H, device):\n",
    "    hidden_dim = [15, 15, 1]  # 3 layers\n",
    "    theta_1 = torch.empty(V_H, hidden_dim[0], dtype=torch.float64, requires_grad=True, device=device)\n",
    "    torch.nn.init.xavier_uniform_(theta_1)\n",
    "    theta_2 = torch.empty(hidden_dim[0], hidden_dim[1], dtype=torch.float64, requires_grad=True, device=device)\n",
    "    torch.nn.init.xavier_uniform_(theta_2)\n",
    "    theta_3 = torch.empty(hidden_dim[1], hidden_dim[2], dtype=torch.float64, requires_grad=True, device=device)\n",
    "    torch.nn.init.xavier_uniform_(theta_3)\n",
    "    theta_HGNN = [theta_1, theta_2, theta_3]\n",
    "    return theta_HGNN"
   ]
  },
  {
   "cell_type": "code",
   "execution_count": 12,
   "metadata": {},
   "outputs": [],
   "source": [
    "def HGNN(X, Dv_inv, De_inv, H, W, theta, batch_norm=[]):\n",
    "    theta_1, theta_2, theta_3 = theta\n",
    "    Xbar1 = Dv_inv @ H @ W @ De_inv @ H.transpose(1, 2) @ Dv_inv @ X @ theta_1.unsqueeze(0)\n",
    "    X1 = torch.nn.functional.relu(Xbar1)\n",
    "    if len(batch_norm)>0:\n",
    "        bn0 = batch_norm[0]\n",
    "        X1_t = X1.transpose(2, 1)  # Batch norm expects [batch, feat_channels, ...]\n",
    "        X1_t = bn0(X1_t)\n",
    "        X1 = X1_t.transpose(2, 1)\n",
    "    Xbar2 = Dv_inv @ H @ W @ De_inv @ H.transpose(1, 2) @ Dv_inv @ X1 @ theta_2.unsqueeze(0)\n",
    "    X2 = torch.nn.functional.relu(Xbar2)\n",
    "    if len(batch_norm)>0:\n",
    "        X2_t = X2.transpose(2, 1)  # Batch norm expects [batch, feat_channels, ...]\n",
    "        bn1 = batch_norm[1]\n",
    "        X2_t = bn1(X2_t)\n",
    "        X2 = X2_t.transpose(2, 1)\n",
    "    Xbar3 = Dv_inv @ H @ W @ De_inv @ H.transpose(1, 2) @ Dv_inv @ X2 @ theta_3.unsqueeze(0)\n",
    "    X3 = torch.nn.functional.sigmoid(Xbar3)\n",
    "    X3 = X3.squeeze()\n",
    "    return X3"
   ]
  },
  {
   "cell_type": "markdown",
   "metadata": {},
   "source": [
    "# Training"
   ]
  },
  {
   "cell_type": "code",
   "execution_count": 13,
   "metadata": {},
   "outputs": [],
   "source": [
    "bn1 = nn.BatchNorm1d(15, momentum=0.05, dtype=torch.float64).to(device)  # dims match those of HGNN\n",
    "bn2 = nn.BatchNorm1d(15, momentum=0.05, dtype=torch.float64).to(device)\n",
    "bn = [bn1, bn2]"
   ]
  },
  {
   "cell_type": "code",
   "execution_count": 14,
   "metadata": {
    "scrolled": true
   },
   "outputs": [],
   "source": [
    "theta_HGNN = get_learnable_parameters(V_H, device)\n",
    "gammas_list = [list(b.parameters()) for b in bn]\n",
    "gammas_learnable = [q for p in gammas_list for q in p]\n",
    "learnable_params = [nn.Parameter(theta) for theta in theta_HGNN] + gammas_learnable\n",
    "optimizer = torch.optim.Adam(learnable_params, lr=0.01)\n",
    "# optimizer = torch.optim.SGD(theta_HGNN, lr=0.01)\n",
    "\n",
    "loss_fn = CustomLossBatch()"
   ]
  },
  {
   "cell_type": "code",
   "execution_count": 15,
   "metadata": {},
   "outputs": [
    {
     "name": "stdout",
     "output_type": "stream",
     "text": [
      "Initial utility per hypergraph in Training: 7.880704636258418\n",
      "Initial utility per hypergraph in Testing: 6.1452099334598165\n"
     ]
    }
   ],
   "source": [
    "beta = 1\n",
    "tau = 1\n",
    "max_iter = 1000\n",
    "epochs = 1000\n",
    "train_utility, test_utility = [], []\n",
    "loss_train, loss_test = [], []\n",
    "\n",
    "# store the initial utilities without training\n",
    "with torch.no_grad():\n",
    "    bn = [b.eval() for b in bn]  # Set batch norm in evaluation mode\n",
    "    utility_epoch = []\n",
    "    loss_train_epoch = []\n",
    "    for (X, Dv_inv, De_inv, H, W) in train_loader:\n",
    "        X, H, W = X.to(device), H.to(device), W.to(device)\n",
    "        Dv_inv, De_inv = Dv_inv.to(device), De_inv.to(device)\n",
    "        z = HGNN(X, Dv_inv, De_inv, H, W, theta_HGNN, bn)\n",
    "        # Linsat\n",
    "        z = z * beta\n",
    "        RHS_const = H.transpose(2, 1).sum(dim=2) - 1\n",
    "        LHS_const = H.transpose(2, 1)\n",
    "        z = linsat_layer_modified(z.float(), A=LHS_const.float(), b=RHS_const.float(), tau=tau, max_iter=max_iter, dummy_val=0, no_warning=False, grouped=False).double()\n",
    "        z = z / beta\n",
    "        loss = loss_fn(z, X, N, gamma=0.0)[0]\n",
    "        utility = utility_fn(z, X, N)\n",
    "        utility_epoch.append(utility.item()/batch_size)\n",
    "        loss_train_epoch.append(loss.item()/batch_size)\n",
    "    utility_epoch_mean = np.mean(utility_epoch)\n",
    "    train_utility.append(utility_epoch_mean)\n",
    "    loss_train.append(np.mean(loss_train_epoch))\n",
    "    print(f\"Initial utility per hypergraph in Training: {train_utility[-1]}\")\n",
    "\n",
    "    # test\n",
    "    utility_epoch_test = []\n",
    "    loss_test_epoch = []\n",
    "    for (X, Dv_inv, De_inv, H, W) in test_loader:\n",
    "        X, H, W = X.to(device), H.to(device), W.to(device)\n",
    "        Dv_inv, De_inv = Dv_inv.to(device), De_inv.to(device)\n",
    "        z = HGNN(X, Dv_inv, De_inv, H, W, theta_HGNN, bn)\n",
    "        # Linsat \n",
    "        z = z * beta\n",
    "        RHS_const = H.transpose(2, 1).sum(dim=2) - 1\n",
    "        LHS_const = H.transpose(2, 1)\n",
    "        z = linsat_layer_modified(z.float(), A=LHS_const.float(), b=RHS_const.float(), tau=tau, max_iter=max_iter, dummy_val=0, no_warning=False, grouped=False).double()\n",
    "        z = z / beta\n",
    "        loss = loss_fn(z, X, N, gamma=0.0)[0]\n",
    "        utility = utility_fn(z, X, N)  # utility based on discrete values of z\n",
    "        utility_epoch_test.append(utility.item()/batch_size)\n",
    "        loss_test_epoch.append(loss.item()/batch_size)\n",
    "    utility_epoch_test_mean = np.mean(utility_epoch_test)\n",
    "    test_utility.append(utility_epoch_test_mean)\n",
    "    loss_test.append(np.mean(loss_test_epoch))\n",
    "    print(f\"Initial utility per hypergraph in Testing: {test_utility[-1]}\")\n",
    "        "
   ]
  },
  {
   "cell_type": "code",
   "execution_count": 16,
   "metadata": {},
   "outputs": [
    {
     "name": "stdout",
     "output_type": "stream",
     "text": [
      "tensor([0.4081, 0.4275, 0.3199, 0.3078, 0.3208, 0.2858, 0.4083, 0.4153, 0.2846,\n",
      "        0.3206], device='cuda:0', dtype=torch.float64)\n",
      "Epoch: 0, Loss:-44.67856 | Train Utility: 7.84880, Feasibility: 1.00 | Test Utility: 6.38508, Feasibility: 1.00\n",
      "tensor([0.4168, 0.4374, 0.3238, 0.3134, 0.3266, 0.2886, 0.4168, 0.4242, 0.2882,\n",
      "        0.3267], device='cuda:0', dtype=torch.float64)\n",
      "Epoch: 1, Loss:-44.70651 | Train Utility: 8.39307, Feasibility: 1.00 | Test Utility: 7.31213, Feasibility: 1.00\n",
      "tensor([0.4238, 0.4454, 0.3272, 0.3155, 0.3295, 0.2905, 0.4240, 0.4318, 0.2889,\n",
      "        0.3293], device='cuda:0', dtype=torch.float64)\n",
      "Epoch: 2, Loss:-44.72582 | Train Utility: 9.20390, Feasibility: 1.00 | Test Utility: 8.44962, Feasibility: 1.00\n",
      "tensor([0.4290, 0.4513, 0.3298, 0.3156, 0.3307, 0.2915, 0.4294, 0.4376, 0.2887,\n",
      "        0.3301], device='cuda:0', dtype=torch.float64)\n",
      "Epoch: 3, Loss:-44.73866 | Train Utility: 9.97444, Feasibility: 1.00 | Test Utility: 9.19806, Feasibility: 1.00\n",
      "tensor([0.4326, 0.4553, 0.3317, 0.3151, 0.3311, 0.2920, 0.4333, 0.4418, 0.2883,\n",
      "        0.3301], device='cuda:0', dtype=torch.float64)\n",
      "Epoch: 4, Loss:-44.74543 | Train Utility: 10.92376, Feasibility: 1.00 | Test Utility: 10.18148, Feasibility: 1.00\n",
      "tensor([0.4352, 0.4582, 0.3330, 0.3145, 0.3312, 0.2923, 0.4360, 0.4448, 0.2879,\n",
      "        0.3299], device='cuda:0', dtype=torch.float64)\n",
      "Epoch: 5, Loss:-44.74970 | Train Utility: 11.76325, Feasibility: 1.00 | Test Utility: 10.11590, Feasibility: 1.00\n",
      "tensor([0.4367, 0.4599, 0.3338, 0.3140, 0.3312, 0.2925, 0.4377, 0.4466, 0.2876,\n",
      "        0.3296], device='cuda:0', dtype=torch.float64)\n",
      "Epoch: 6, Loss:-44.75265 | Train Utility: 12.36562, Feasibility: 1.00 | Test Utility: 10.11590, Feasibility: 1.00\n",
      "tensor([0.4377, 0.4611, 0.3343, 0.3136, 0.3312, 0.2926, 0.4388, 0.4478, 0.2874,\n",
      "        0.3295], device='cuda:0', dtype=torch.float64)\n",
      "Epoch: 7, Loss:-44.75381 | Train Utility: 13.05979, Feasibility: 1.00 | Test Utility: 10.44061, Feasibility: 1.00\n",
      "tensor([0.4385, 0.4621, 0.3347, 0.3134, 0.3312, 0.2927, 0.4396, 0.4487, 0.2872,\n",
      "        0.3293], device='cuda:0', dtype=torch.float64)\n",
      "Epoch: 8, Loss:-44.75506 | Train Utility: 13.22015, Feasibility: 1.00 | Test Utility: 10.69903, Feasibility: 1.00\n",
      "tensor([0.4391, 0.4630, 0.3350, 0.3131, 0.3312, 0.2928, 0.4403, 0.4494, 0.2870,\n",
      "        0.3292], device='cuda:0', dtype=torch.float64)\n",
      "Epoch: 9, Loss:-44.75675 | Train Utility: 13.38910, Feasibility: 1.00 | Test Utility: 10.94676, Feasibility: 1.00\n",
      "tensor([0.4396, 0.4636, 0.3352, 0.3130, 0.3312, 0.2929, 0.4408, 0.4499, 0.2869,\n",
      "        0.3291], device='cuda:0', dtype=torch.float64)\n",
      "Epoch: 10, Loss:-44.75687 | Train Utility: 13.53239, Feasibility: 1.00 | Test Utility: 11.26380, Feasibility: 1.00\n",
      "tensor([0.4399, 0.4641, 0.3353, 0.3129, 0.3312, 0.2930, 0.4411, 0.4502, 0.2868,\n",
      "        0.3290], device='cuda:0', dtype=torch.float64)\n",
      "Epoch: 11, Loss:-44.75748 | Train Utility: 13.73576, Feasibility: 1.00 | Test Utility: 11.51953, Feasibility: 1.00\n",
      "tensor([0.4401, 0.4645, 0.3355, 0.3128, 0.3312, 0.2930, 0.4414, 0.4505, 0.2867,\n",
      "        0.3289], device='cuda:0', dtype=torch.float64)\n",
      "Epoch: 12, Loss:-44.75802 | Train Utility: 13.61720, Feasibility: 1.00 | Test Utility: 11.78801, Feasibility: 1.00\n",
      "tensor([0.4403, 0.4648, 0.3355, 0.3127, 0.3312, 0.2930, 0.4416, 0.4506, 0.2867,\n",
      "        0.3288], device='cuda:0', dtype=torch.float64)\n",
      "Epoch: 13, Loss:-44.75795 | Train Utility: 13.74640, Feasibility: 1.00 | Test Utility: 11.89276, Feasibility: 1.00\n",
      "tensor([0.4404, 0.4649, 0.3356, 0.3127, 0.3311, 0.2930, 0.4417, 0.4507, 0.2866,\n",
      "        0.3288], device='cuda:0', dtype=torch.float64)\n",
      "Epoch: 14, Loss:-44.75881 | Train Utility: 13.95264, Feasibility: 1.00 | Test Utility: 11.89276, Feasibility: 1.00\n",
      "tensor([0.4407, 0.4652, 0.3357, 0.3126, 0.3311, 0.2931, 0.4420, 0.4510, 0.2866,\n",
      "        0.3287], device='cuda:0', dtype=torch.float64)\n",
      "Epoch: 15, Loss:-44.75863 | Train Utility: 13.93954, Feasibility: 1.00 | Test Utility: 11.94293, Feasibility: 1.00\n",
      "tensor([0.4408, 0.4654, 0.3358, 0.3125, 0.3311, 0.2931, 0.4422, 0.4512, 0.2865,\n",
      "        0.3287], device='cuda:0', dtype=torch.float64)\n",
      "Epoch: 16, Loss:-44.75888 | Train Utility: 14.23136, Feasibility: 1.00 | Test Utility: 12.12568, Feasibility: 1.00\n",
      "tensor([0.4409, 0.4656, 0.3359, 0.3124, 0.3311, 0.2931, 0.4423, 0.4514, 0.2865,\n",
      "        0.3287], device='cuda:0', dtype=torch.float64)\n",
      "Epoch: 17, Loss:-44.76002 | Train Utility: 14.67514, Feasibility: 1.00 | Test Utility: 12.06101, Feasibility: 1.00\n",
      "tensor([0.4411, 0.4661, 0.3360, 0.3123, 0.3311, 0.2931, 0.4425, 0.4518, 0.2864,\n",
      "        0.3286], device='cuda:0', dtype=torch.float64)\n",
      "Epoch: 18, Loss:-44.75981 | Train Utility: 15.28112, Feasibility: 1.00 | Test Utility: 13.37126, Feasibility: 1.00\n",
      "tensor([0.4413, 0.4663, 0.3361, 0.3122, 0.3311, 0.2931, 0.4427, 0.4521, 0.2863,\n",
      "        0.3285], device='cuda:0', dtype=torch.float64)\n",
      "Epoch: 19, Loss:-44.76010 | Train Utility: 15.84335, Feasibility: 1.00 | Test Utility: 13.84293, Feasibility: 1.00\n",
      "tensor([0.4413, 0.4662, 0.3361, 0.3122, 0.3311, 0.2931, 0.4427, 0.4521, 0.2864,\n",
      "        0.3285], device='cuda:0', dtype=torch.float64)\n",
      "Epoch: 20, Loss:-44.75956 | Train Utility: 15.80549, Feasibility: 1.00 | Test Utility: 13.79216, Feasibility: 1.00\n",
      "tensor([0.4414, 0.4663, 0.3361, 0.3121, 0.3311, 0.2931, 0.4429, 0.4522, 0.2863,\n",
      "        0.3285], device='cuda:0', dtype=torch.float64)\n",
      "Epoch: 21, Loss:-44.76057 | Train Utility: 15.81000, Feasibility: 1.00 | Test Utility: 13.75375, Feasibility: 1.00\n",
      "tensor([0.4414, 0.4664, 0.3362, 0.3121, 0.3311, 0.2931, 0.4429, 0.4523, 0.2863,\n",
      "        0.3285], device='cuda:0', dtype=torch.float64)\n",
      "Epoch: 22, Loss:-44.76075 | Train Utility: 15.76818, Feasibility: 1.00 | Test Utility: 13.75375, Feasibility: 1.00\n",
      "tensor([0.4415, 0.4666, 0.3362, 0.3121, 0.3311, 0.2931, 0.4429, 0.4523, 0.2863,\n",
      "        0.3285], device='cuda:0', dtype=torch.float64)\n",
      "Epoch: 23, Loss:-44.76062 | Train Utility: 16.06446, Feasibility: 1.00 | Test Utility: 13.61695, Feasibility: 1.00\n",
      "tensor([0.4416, 0.4668, 0.3362, 0.3120, 0.3311, 0.2932, 0.4431, 0.4525, 0.2862,\n",
      "        0.3284], device='cuda:0', dtype=torch.float64)\n",
      "Epoch: 24, Loss:-44.76037 | Train Utility: 15.97350, Feasibility: 1.00 | Test Utility: 14.00465, Feasibility: 1.00\n",
      "tensor([0.4417, 0.4669, 0.3363, 0.3119, 0.3310, 0.2932, 0.4432, 0.4527, 0.2862,\n",
      "        0.3284], device='cuda:0', dtype=torch.float64)\n",
      "Epoch: 25, Loss:-44.76014 | Train Utility: 16.13728, Feasibility: 1.00 | Test Utility: 14.18932, Feasibility: 1.00\n",
      "tensor([0.4416, 0.4667, 0.3363, 0.3120, 0.3310, 0.2931, 0.4431, 0.4526, 0.2862,\n",
      "        0.3284], device='cuda:0', dtype=torch.float64)\n",
      "Epoch: 26, Loss:-44.76060 | Train Utility: 15.93588, Feasibility: 1.00 | Test Utility: 13.93515, Feasibility: 1.00\n",
      "tensor([0.4417, 0.4670, 0.3363, 0.3119, 0.3310, 0.2932, 0.4432, 0.4528, 0.2862,\n",
      "        0.3284], device='cuda:0', dtype=torch.float64)\n",
      "Epoch: 27, Loss:-44.76090 | Train Utility: 16.03284, Feasibility: 1.00 | Test Utility: 13.92928, Feasibility: 1.00\n",
      "tensor([0.4418, 0.4671, 0.3364, 0.3119, 0.3310, 0.2932, 0.4433, 0.4528, 0.2861,\n",
      "        0.3284], device='cuda:0', dtype=torch.float64)\n",
      "Epoch: 28, Loss:-44.76086 | Train Utility: 16.10404, Feasibility: 1.00 | Test Utility: 13.92928, Feasibility: 1.00\n",
      "tensor([0.4418, 0.4672, 0.3364, 0.3118, 0.3310, 0.2932, 0.4434, 0.4529, 0.2861,\n",
      "        0.3284], device='cuda:0', dtype=torch.float64)\n",
      "Epoch: 29, Loss:-44.76065 | Train Utility: 16.00293, Feasibility: 1.00 | Test Utility: 13.92928, Feasibility: 1.00\n",
      "tensor([0.4419, 0.4671, 0.3364, 0.3118, 0.3310, 0.2932, 0.4434, 0.4530, 0.2861,\n",
      "        0.3283], device='cuda:0', dtype=torch.float64)\n",
      "Epoch: 30, Loss:-44.76079 | Train Utility: 16.04387, Feasibility: 1.00 | Test Utility: 13.92928, Feasibility: 1.00\n",
      "tensor([0.4418, 0.4671, 0.3364, 0.3118, 0.3310, 0.2932, 0.4433, 0.4529, 0.2861,\n",
      "        0.3284], device='cuda:0', dtype=torch.float64)\n",
      "Epoch: 31, Loss:-44.75970 | Train Utility: 16.06889, Feasibility: 1.00 | Test Utility: 13.79248, Feasibility: 1.00\n",
      "tensor([0.4418, 0.4673, 0.3364, 0.3118, 0.3310, 0.2932, 0.4434, 0.4530, 0.2861,\n",
      "        0.3283], device='cuda:0', dtype=torch.float64)\n",
      "Epoch: 32, Loss:-44.76032 | Train Utility: 16.17227, Feasibility: 1.00 | Test Utility: 13.79248, Feasibility: 1.00\n",
      "tensor([0.4419, 0.4675, 0.3365, 0.3118, 0.3310, 0.2932, 0.4435, 0.4531, 0.2860,\n",
      "        0.3283], device='cuda:0', dtype=torch.float64)\n",
      "Epoch: 33, Loss:-44.76111 | Train Utility: 16.09545, Feasibility: 1.00 | Test Utility: 13.92928, Feasibility: 1.00\n",
      "tensor([0.4420, 0.4676, 0.3365, 0.3117, 0.3310, 0.2932, 0.4436, 0.4532, 0.2860,\n",
      "        0.3283], device='cuda:0', dtype=torch.float64)\n",
      "Epoch: 34, Loss:-44.76136 | Train Utility: 16.14583, Feasibility: 1.00 | Test Utility: 14.18932, Feasibility: 1.00\n",
      "tensor([0.4421, 0.4676, 0.3365, 0.3117, 0.3310, 0.2932, 0.4436, 0.4533, 0.2860,\n",
      "        0.3283], device='cuda:0', dtype=torch.float64)\n",
      "Epoch: 35, Loss:-44.76123 | Train Utility: 16.07525, Feasibility: 1.00 | Test Utility: 14.18932, Feasibility: 1.00\n",
      "tensor([0.4420, 0.4674, 0.3365, 0.3117, 0.3310, 0.2932, 0.4435, 0.4532, 0.2861,\n",
      "        0.3283], device='cuda:0', dtype=torch.float64)\n",
      "Epoch: 36, Loss:-44.76112 | Train Utility: 16.23045, Feasibility: 1.00 | Test Utility: 13.92928, Feasibility: 1.00\n",
      "tensor([0.4420, 0.4675, 0.3365, 0.3117, 0.3310, 0.2932, 0.4436, 0.4532, 0.2860,\n",
      "        0.3283], device='cuda:0', dtype=torch.float64)\n",
      "Epoch: 37, Loss:-44.76126 | Train Utility: 16.21134, Feasibility: 1.00 | Test Utility: 13.92928, Feasibility: 1.00\n",
      "tensor([0.4421, 0.4677, 0.3365, 0.3117, 0.3310, 0.2932, 0.4436, 0.4533, 0.2860,\n",
      "        0.3283], device='cuda:0', dtype=torch.float64)\n",
      "Epoch: 38, Loss:-44.76081 | Train Utility: 16.09868, Feasibility: 1.00 | Test Utility: 14.01846, Feasibility: 1.00\n",
      "tensor([0.4421, 0.4678, 0.3366, 0.3116, 0.3310, 0.2932, 0.4437, 0.4534, 0.2859,\n",
      "        0.3282], device='cuda:0', dtype=torch.float64)\n",
      "Epoch: 39, Loss:-44.76111 | Train Utility: 16.37816, Feasibility: 1.00 | Test Utility: 14.22877, Feasibility: 1.00\n",
      "tensor([0.4421, 0.4677, 0.3366, 0.3116, 0.3310, 0.2932, 0.4437, 0.4534, 0.2860,\n",
      "        0.3282], device='cuda:0', dtype=torch.float64)\n",
      "Epoch: 40, Loss:-44.76119 | Train Utility: 16.33586, Feasibility: 1.00 | Test Utility: 14.18932, Feasibility: 1.00\n",
      "tensor([0.4420, 0.4675, 0.3365, 0.3117, 0.3310, 0.2932, 0.4436, 0.4532, 0.2860,\n",
      "        0.3283], device='cuda:0', dtype=torch.float64)\n",
      "Epoch: 41, Loss:-44.76103 | Train Utility: 16.36831, Feasibility: 1.00 | Test Utility: 13.79248, Feasibility: 1.00\n",
      "tensor([0.4421, 0.4676, 0.3365, 0.3117, 0.3310, 0.2932, 0.4436, 0.4533, 0.2860,\n",
      "        0.3283], device='cuda:0', dtype=torch.float64)\n",
      "Epoch: 42, Loss:-44.76090 | Train Utility: 16.29210, Feasibility: 1.00 | Test Utility: 13.79248, Feasibility: 1.00\n",
      "tensor([0.4421, 0.4676, 0.3365, 0.3117, 0.3310, 0.2932, 0.4437, 0.4533, 0.2860,\n",
      "        0.3283], device='cuda:0', dtype=torch.float64)\n",
      "Epoch: 43, Loss:-44.76095 | Train Utility: 16.05466, Feasibility: 1.00 | Test Utility: 13.79248, Feasibility: 1.00\n",
      "tensor([0.4422, 0.4678, 0.3366, 0.3116, 0.3310, 0.2932, 0.4438, 0.4534, 0.2860,\n",
      "        0.3282], device='cuda:0', dtype=torch.float64)\n",
      "Epoch: 44, Loss:-44.76069 | Train Utility: 16.07942, Feasibility: 1.00 | Test Utility: 14.23817, Feasibility: 1.00\n",
      "tensor([0.4422, 0.4679, 0.3366, 0.3116, 0.3310, 0.2932, 0.4438, 0.4535, 0.2859,\n",
      "        0.3282], device='cuda:0', dtype=torch.float64)\n",
      "Epoch: 45, Loss:-44.76079 | Train Utility: 16.14458, Feasibility: 1.00 | Test Utility: 14.18932, Feasibility: 1.00\n",
      "tensor([0.4423, 0.4680, 0.3366, 0.3116, 0.3310, 0.2932, 0.4439, 0.4536, 0.2859,\n",
      "        0.3282], device='cuda:0', dtype=torch.float64)\n",
      "Epoch: 46, Loss:-44.76067 | Train Utility: 16.08240, Feasibility: 1.00 | Test Utility: 14.26986, Feasibility: 1.00\n",
      "tensor([0.4423, 0.4679, 0.3366, 0.3116, 0.3310, 0.2932, 0.4439, 0.4536, 0.2859,\n",
      "        0.3282], device='cuda:0', dtype=torch.float64)\n",
      "Epoch: 47, Loss:-44.76131 | Train Utility: 16.27937, Feasibility: 1.00 | Test Utility: 14.26986, Feasibility: 1.00\n",
      "tensor([0.4421, 0.4675, 0.3366, 0.3116, 0.3310, 0.2932, 0.4437, 0.4534, 0.2860,\n",
      "        0.3283], device='cuda:0', dtype=torch.float64)\n",
      "Epoch: 48, Loss:-44.76162 | Train Utility: 16.28397, Feasibility: 1.00 | Test Utility: 13.79248, Feasibility: 1.00\n",
      "tensor([0.4422, 0.4678, 0.3366, 0.3116, 0.3310, 0.2932, 0.4438, 0.4535, 0.2860,\n",
      "        0.3282], device='cuda:0', dtype=torch.float64)\n",
      "Epoch: 49, Loss:-44.76125 | Train Utility: 16.37103, Feasibility: 1.00 | Test Utility: 13.92928, Feasibility: 1.00\n"
     ]
    },
    {
     "ename": "KeyboardInterrupt",
     "evalue": "",
     "output_type": "error",
     "traceback": [
      "\u001b[0;31m---------------------------------------------------------------------------\u001b[0m",
      "\u001b[0;31mKeyboardInterrupt\u001b[0m                         Traceback (most recent call last)",
      "Cell \u001b[0;32mIn[16], line 14\u001b[0m\n\u001b[1;32m     12\u001b[0m RHS_const \u001b[38;5;241m=\u001b[39m H\u001b[38;5;241m.\u001b[39mtranspose(\u001b[38;5;241m2\u001b[39m, \u001b[38;5;241m1\u001b[39m)\u001b[38;5;241m.\u001b[39msum(dim\u001b[38;5;241m=\u001b[39m\u001b[38;5;241m2\u001b[39m) \u001b[38;5;241m-\u001b[39m \u001b[38;5;241m1\u001b[39m\n\u001b[1;32m     13\u001b[0m LHS_const \u001b[38;5;241m=\u001b[39m H\u001b[38;5;241m.\u001b[39mtranspose(\u001b[38;5;241m2\u001b[39m, \u001b[38;5;241m1\u001b[39m)\n\u001b[0;32m---> 14\u001b[0m z \u001b[38;5;241m=\u001b[39m \u001b[43mlinsat_layer_modified\u001b[49m\u001b[43m(\u001b[49m\u001b[43mz\u001b[49m\u001b[38;5;241;43m.\u001b[39;49m\u001b[43mfloat\u001b[49m\u001b[43m(\u001b[49m\u001b[43m)\u001b[49m\u001b[43m,\u001b[49m\u001b[43m \u001b[49m\u001b[43mA\u001b[49m\u001b[38;5;241;43m=\u001b[39;49m\u001b[43mLHS_const\u001b[49m\u001b[38;5;241;43m.\u001b[39;49m\u001b[43mfloat\u001b[49m\u001b[43m(\u001b[49m\u001b[43m)\u001b[49m\u001b[43m,\u001b[49m\u001b[43m \u001b[49m\u001b[43mb\u001b[49m\u001b[38;5;241;43m=\u001b[39;49m\u001b[43mRHS_const\u001b[49m\u001b[38;5;241;43m.\u001b[39;49m\u001b[43mfloat\u001b[49m\u001b[43m(\u001b[49m\u001b[43m)\u001b[49m\u001b[43m,\u001b[49m\u001b[43m \u001b[49m\u001b[43mtau\u001b[49m\u001b[38;5;241;43m=\u001b[39;49m\u001b[43mtau\u001b[49m\u001b[43m,\u001b[49m\u001b[43m \u001b[49m\u001b[43mmax_iter\u001b[49m\u001b[38;5;241;43m=\u001b[39;49m\u001b[43mmax_iter\u001b[49m\u001b[43m,\u001b[49m\u001b[43m \u001b[49m\u001b[43mdummy_val\u001b[49m\u001b[38;5;241;43m=\u001b[39;49m\u001b[38;5;241;43m0\u001b[39;49m\u001b[43m,\u001b[49m\u001b[43m \u001b[49m\u001b[43mno_warning\u001b[49m\u001b[38;5;241;43m=\u001b[39;49m\u001b[38;5;28;43;01mFalse\u001b[39;49;00m\u001b[43m,\u001b[49m\u001b[43m \u001b[49m\u001b[43mgrouped\u001b[49m\u001b[38;5;241;43m=\u001b[39;49m\u001b[38;5;28;43;01mFalse\u001b[39;49;00m\u001b[43m)\u001b[49m\u001b[38;5;241m.\u001b[39mdouble()\n\u001b[1;32m     15\u001b[0m z \u001b[38;5;241m=\u001b[39m z \u001b[38;5;241m/\u001b[39m beta\n\u001b[1;32m     16\u001b[0m loss \u001b[38;5;241m=\u001b[39m loss_fn(z, X, N, gamma\u001b[38;5;241m=\u001b[39m\u001b[38;5;241m0.0\u001b[39m)[\u001b[38;5;241m0\u001b[39m]\n",
      "File \u001b[0;32m/app/hyp-sched/linsat.py:64\u001b[0m, in \u001b[0;36mlinsat_layer_modified\u001b[0;34m(x, A, b, constr_dict, tau, max_iter, dummy_val, mode, grouped, no_warning)\u001b[0m\n\u001b[1;32m     61\u001b[0m \u001b[38;5;28;01melse\u001b[39;00m:\n\u001b[1;32m     62\u001b[0m     \u001b[38;5;28;01mraise\u001b[39;00m \u001b[38;5;167;01mNotImplementedError\u001b[39;00m(\u001b[38;5;124mf\u001b[39m\u001b[38;5;124m'\u001b[39m\u001b[38;5;124mmode=\u001b[39m\u001b[38;5;132;01m{\u001b[39;00mmode\u001b[38;5;132;01m}\u001b[39;00m\u001b[38;5;124m, grouped=\u001b[39m\u001b[38;5;132;01m{\u001b[39;00mgrouped\u001b[38;5;132;01m}\u001b[39;00m\u001b[38;5;124m, is_sparse=\u001b[39m\u001b[38;5;132;01m{\u001b[39;00mis_sparse\u001b[38;5;132;01m}\u001b[39;00m\u001b[38;5;124m'\u001b[39m)\n\u001b[0;32m---> 64\u001b[0m x \u001b[38;5;241m=\u001b[39m \u001b[43mkernel\u001b[49m\u001b[43m(\u001b[49m\u001b[43mx\u001b[49m\u001b[43m,\u001b[49m\u001b[43m \u001b[49m\u001b[38;5;241;43m*\u001b[39;49m\u001b[38;5;241;43m*\u001b[39;49m\u001b[43mparam_dict\u001b[49m\u001b[43m)\u001b[49m\n\u001b[1;32m     66\u001b[0m \u001b[38;5;28;01mif\u001b[39;00m vector_input:\n\u001b[1;32m     67\u001b[0m     x \u001b[38;5;241m=\u001b[39m x\u001b[38;5;241m.\u001b[39msqueeze(\u001b[38;5;241m0\u001b[39m)\n",
      "File \u001b[0;32m/app/hyp-sched/linsat.py:358\u001b[0m, in \u001b[0;36mlinsat_kernel_v2\u001b[0;34m(x, A, b, tau, max_iter, dummy_val, batch_size, num_var, num_constr, ori_A, ori_b, no_warning)\u001b[0m\n\u001b[1;32m    356\u001b[0m     \u001b[38;5;66;03m# Update log_x only where A[:, j] is not zero\u001b[39;00m\n\u001b[1;32m    357\u001b[0m     log_x \u001b[38;5;241m=\u001b[39m torch\u001b[38;5;241m.\u001b[39mwhere(mask_A, log_nz_x[:, :, :\u001b[38;5;241m-\u001b[39m\u001b[38;5;241m1\u001b[39m], log_x)\n\u001b[0;32m--> 358\u001b[0m     log_dum_x1[j][mask] \u001b[38;5;241m=\u001b[39m log_nz_x[mask, :, \u001b[38;5;241m-\u001b[39m\u001b[38;5;241m1\u001b[39m:]\u001b[38;5;241m.\u001b[39mclone()  \u001b[38;5;66;03m# store the last slice separately\u001b[39;00m\n\u001b[1;32m    361\u001b[0m \u001b[38;5;28;01mif\u001b[39;00m num_sat_constrs \u001b[38;5;241m==\u001b[39m num_constr:\n\u001b[1;32m    362\u001b[0m     \u001b[38;5;28;01mbreak\u001b[39;00m\n",
      "\u001b[0;31mKeyboardInterrupt\u001b[0m: "
     ]
    }
   ],
   "source": [
    "optimizer.zero_grad()\n",
    "for epoch in range(epochs):\n",
    "    # Train Phase\n",
    "    bn = [b.train() for b in bn]  # Set batch norm in training mode\n",
    "    loss_epoch, utility_epoch, feasibility_epoch = [], [], []\n",
    "    for (X, Dv_inv, De_inv, H, W) in train_loader:\n",
    "        X, H, W = X.to(device), H.to(device), W.to(device)\n",
    "        Dv_inv, De_inv = Dv_inv.to(device), De_inv.to(device)\n",
    "        z = HGNN(X, Dv_inv, De_inv, H, W, theta_HGNN, bn)\n",
    "        # Linsat\n",
    "        z = z * beta\n",
    "        RHS_const = H.transpose(2, 1).sum(dim=2) - 1\n",
    "        LHS_const = H.transpose(2, 1)\n",
    "        z = linsat_layer_modified(z.float(), A=LHS_const.float(), b=RHS_const.float(), tau=tau, max_iter=max_iter, dummy_val=0, no_warning=False, grouped=False).double()\n",
    "        z = z / beta\n",
    "        loss = loss_fn(z, X, N, gamma=0.0)[0]\n",
    "        utility = utility_fn(z, X, N)  # utility based on discrete values of z\n",
    "        feasibility = check_feasibility(H, z)\n",
    "        utility_epoch.append(utility.item()/batch_size)\n",
    "        feasibility_epoch.append(feasibility)\n",
    "        loss.backward()\n",
    "        # print(torch.linalg.matrix_norm(theta_HGNN[0].grad))\n",
    "        optimizer.step()\n",
    "        optimizer.zero_grad()\n",
    "        loss_epoch.append(loss.item()/batch_size)\n",
    "    # Test Phase\n",
    "    bn = [b.eval() for b in bn]  # Set batch norm in evaluation mode\n",
    "    loss_epoch_test, utility_epoch_test, feasibility_epoch_test = [], [], []\n",
    "    with torch.no_grad():\n",
    "        for (X, Dv_inv, De_inv, H, W) in test_loader:\n",
    "            X, H, W = X.to(device), H.to(device), W.to(device)\n",
    "            Dv_inv, De_inv = Dv_inv.to(device), De_inv.to(device)\n",
    "            z = HGNN(X, Dv_inv, De_inv, H, W, theta_HGNN, bn)\n",
    "            # Linsat \n",
    "            z = z * beta\n",
    "            RHS_const = H.transpose(2, 1).sum(dim=2) - 1\n",
    "            LHS_const = H.transpose(2, 1)\n",
    "            z = linsat_layer_modified(z.float(), A=LHS_const.float(), b=RHS_const.float(), tau=tau, max_iter=max_iter, dummy_val=0, no_warning=False, grouped=False).double()\n",
    "            z = z / beta\n",
    "            loss = loss_fn(z, X, N, gamma=0.0)[0]\n",
    "            utility = utility_fn(z, X, N)  # utility based on discrete values of z\n",
    "            feasibility = check_feasibility(H, z)\n",
    "            utility_epoch_test.append(utility.item()/batch_size)\n",
    "            feasibility_epoch_test.append(feasibility)\n",
    "            loss_epoch_test.append(loss.item()/batch_size)\n",
    "    utility_epoch_mean = np.mean(utility_epoch)\n",
    "    utility_epoch_test_mean = np.mean(utility_epoch_test)\n",
    "    feasibility_epoch_mean = np.mean(feasibility_epoch)\n",
    "    feasibility_epoch_test_mean = np.mean(feasibility_epoch_test)\n",
    "    loss_epoch_mean = np.mean(loss_epoch)\n",
    "    loss_test_mean = np.mean(loss_epoch_test)\n",
    "    \n",
    "    print(z[0])\n",
    "    if epoch % 1 == 0:\n",
    "        print(f\"Epoch: {epoch}, Loss:{np.mean(loss_epoch):.5f} | Train Utility: {utility_epoch_mean:.5f}, Feasibility: {feasibility_epoch_mean:.2f}\" \\\n",
    "        f\" | Test Utility: {utility_epoch_test_mean:.5f}, Feasibility: {feasibility_epoch_test_mean:.2f}\")\n",
    "    train_utility.append(utility_epoch_mean)\n",
    "    test_utility.append(utility_epoch_test_mean)\n",
    "    loss_train.append(loss_epoch_mean)\n",
    "    loss_test.append(loss_test_mean)\n",
    "print(f\"Final utility per hypergraph: {utility_epoch_test}\")"
   ]
  },
  {
   "cell_type": "markdown",
   "metadata": {},
   "source": [
    "# Greedy Extension"
   ]
  },
  {
   "cell_type": "code",
   "execution_count": 19,
   "metadata": {},
   "outputs": [
    {
     "name": "stdout",
     "output_type": "stream",
     "text": [
      "Utility exhaustive search: 41.79716110029465\n"
     ]
    }
   ],
   "source": [
    "exhaustive_utility = []\n",
    "for (X, Dv_inv, De_inv, H, W) in test_loader:\n",
    "    X, H, W = X.to(device), H.to(device), W.to(device)\n",
    "    Dv_inv, De_inv = Dv_inv.to(device), De_inv.to(device)\n",
    "\n",
    "    # exhaustive search\n",
    "    ex_ut = 0\n",
    "    for i in range(X.shape[0]):\n",
    "        best_throughput, best_schedule = exh_solver(X.shape[1], X.shape[1], V_H*[N], X[i].cpu().detach().numpy(), H[i].cpu().detach().numpy())\n",
    "        ex_ut += best_throughput\n",
    "    exhaustive_utility.append(ex_ut)\n",
    "exhaustive_utility_mean = np.sum(exhaustive_utility)/test_samples\n",
    "print(f\"Utility exhaustive search: {exhaustive_utility_mean}\")"
   ]
  },
  {
   "cell_type": "code",
   "execution_count": 20,
   "metadata": {},
   "outputs": [
    {
     "name": "stdout",
     "output_type": "stream",
     "text": [
      "Utility base: 18.04671560135829\n"
     ]
    }
   ],
   "source": [
    "from greedy_solvers import gready_scheduler\n",
    "utility_test_base_utility = []\n",
    "for (X, Dv_inv, De_inv, H, W) in test_loader:\n",
    "    X, H, W = X.to(device), H.to(device), W.to(device)\n",
    "    Dv_inv, De_inv = Dv_inv.to(device), De_inv.to(device)\n",
    "    z = HGNN(X, Dv_inv, De_inv, H, W, theta_HGNN, bn)\n",
    "    # Linsat \n",
    "    z = z * beta\n",
    "    RHS_const = H.transpose(2, 1).sum(dim=2) - 1\n",
    "    LHS_const = H.transpose(2, 1)\n",
    "    z = linsat_layer_modified(z.float(), A=LHS_const.float(), b=RHS_const.float(), tau=tau, max_iter=max_iter, dummy_val=0, no_warning=False, grouped=False).double()\n",
    "    z = z / beta\n",
    "    # base utility\n",
    "    # round z to the nearest integer\n",
    "    zd = torch.round(z)\n",
    "    utility_base = utility_fn(zd, X, N)\n",
    "    utility_test_base_utility.append(utility_base.item())\n",
    "utility_base = np.sum(utility_test_base_utility)/test_samples\n",
    "print(f\"Utility base: {utility_base}\")"
   ]
  },
  {
   "cell_type": "code",
   "execution_count": 22,
   "metadata": {},
   "outputs": [
    {
     "name": "stdout",
     "output_type": "stream",
     "text": [
      "Utility without utility function: 37.84041776480095\n"
     ]
    }
   ],
   "source": [
    "# without utility function\n",
    "utility_test_wo_utility = []\n",
    "for (X, Dv_inv, De_inv, H, W) in test_loader:\n",
    "    X, H, W = X.to(device), H.to(device), W.to(device)\n",
    "    Dv_inv, De_inv = Dv_inv.to(device), De_inv.to(device)\n",
    "    z = HGNN(X, Dv_inv, De_inv, H, W, theta_HGNN, bn)\n",
    "    # Linsat \n",
    "    z = z * beta\n",
    "    RHS_const = H.transpose(2, 1).sum(dim=2) - 1\n",
    "    LHS_const = H.transpose(2, 1)\n",
    "    z = linsat_layer_modified(z.float(), A=LHS_const.float(), b=RHS_const.float(), tau=tau, max_iter=max_iter, dummy_val=0, no_warning=False, grouped=False).double()\n",
    "    z = z / beta\n",
    "    # wo utility\n",
    "    zwo = gready_scheduler(z.to('cpu'), X.to('cpu').transpose(2, 1), H.to('cpu').transpose(2, 1), N, False)\n",
    "    utility_wo = utility_fn(zwo, X.to('cpu'), N)\n",
    "    utility_test_wo_utility.append(utility_wo.item())\n",
    "utility_test_wo_mean = np.sum(utility_test_wo_utility)/test_samples\n",
    "print(f\"Utility without utility function: {utility_test_wo_mean}\")"
   ]
  },
  {
   "cell_type": "code",
   "execution_count": 23,
   "metadata": {},
   "outputs": [
    {
     "name": "stdout",
     "output_type": "stream",
     "text": [
      "Utility with utility function: 33.86018706053371\n"
     ]
    }
   ],
   "source": [
    "utility_test_w_utility = []\n",
    "for (X, Dv_inv, De_inv, H, W) in test_loader:\n",
    "    X, H, W = X.to(device), H.to(device), W.to(device)\n",
    "    Dv_inv, De_inv = Dv_inv.to(device), De_inv.to(device)\n",
    "    z = HGNN(X, Dv_inv, De_inv, H, W, theta_HGNN, bn)\n",
    "    # Linsat \n",
    "    z = z * beta\n",
    "    RHS_const = H.transpose(2, 1).sum(dim=2) - 1\n",
    "    LHS_const = H.transpose(2, 1)\n",
    "    z = linsat_layer_modified(z.float(), A=LHS_const.float(), b=RHS_const.float(), tau=tau, max_iter=max_iter, dummy_val=0, no_warning=False, grouped=False).double()\n",
    "    z = z / beta\n",
    "    # w utility\n",
    "    zw = gready_scheduler(z.to('cpu'), X.to('cpu').transpose(2, 1), H.to('cpu').transpose(2, 1), N, True)\n",
    "    utility_w = utility_fn(zw, X.to('cpu'), N)\n",
    "    utility_test_w_utility.append(utility_w.item())\n",
    "utility_test_w_mean = np.sum(utility_test_w_utility)/test_samples\n",
    "print(f\"Utility with utility function: {utility_test_w_mean}\")"
   ]
  },
  {
   "cell_type": "code",
   "execution_count": 37,
   "metadata": {},
   "outputs": [
    {
     "name": "stdout",
     "output_type": "stream",
     "text": [
      "Utility greedy 1 only: 37.100788654695826\n"
     ]
    }
   ],
   "source": [
    "utility_test_greedy1 = []\n",
    "for (X, Dv_inv, De_inv, H, W) in test_loader:\n",
    "    X, H, W = X.to(device), H.to(device), W.to(device)\n",
    "    Dv_inv, De_inv = Dv_inv.to(device), De_inv.to(device)\n",
    "    z = torch.ones([X.shape[0], V_H])\n",
    "    # w utility\n",
    "    zw = gready_scheduler(z.to('cpu'), X.to('cpu').transpose(2, 1), H.to('cpu').transpose(2, 1), N, False)\n",
    "    utility_w = utility_fn(zw, X.to('cpu'), N)\n",
    "    utility_test_greedy1.append(utility_w.item())\n",
    "utility_test_greedy1_mean = np.sum(utility_test_greedy1)/test_samples\n",
    "print(f\"Utility greedy 1 only: {utility_test_greedy1_mean}\")"
   ]
  },
  {
   "cell_type": "code",
   "execution_count": 39,
   "metadata": {},
   "outputs": [
    {
     "name": "stdout",
     "output_type": "stream",
     "text": [
      "Utility greedy 2 only: 34.36387673220698\n"
     ]
    }
   ],
   "source": [
    "utility_test_greedy2 = []\n",
    "for (X, Dv_inv, De_inv, H, W) in test_loader:\n",
    "    X, H, W = X.to(device), H.to(device), W.to(device)\n",
    "    Dv_inv, De_inv = Dv_inv.to(device), De_inv.to(device)\n",
    "    z = torch.ones([X.shape[0], V_H])\n",
    "    # w utility\n",
    "    zw = gready_scheduler(z.to('cpu'), X.to('cpu').transpose(2, 1), H.to('cpu').transpose(2, 1), N, True)\n",
    "    utility_w = utility_fn(zw, X.to('cpu'), N)\n",
    "    utility_test_greedy2.append(utility_w.item())\n",
    "utility_test_greedy2_mean = np.sum(utility_test_greedy2)/test_samples\n",
    "print(f\"Utility greedy 2 only: {utility_test_greedy2_mean}\")"
   ]
  },
  {
   "cell_type": "markdown",
   "metadata": {},
   "source": [
    "# Plots"
   ]
  },
  {
   "cell_type": "code",
   "execution_count": 40,
   "metadata": {},
   "outputs": [],
   "source": [
    "import matplotlib.pyplot as plt"
   ]
  },
  {
   "cell_type": "markdown",
   "metadata": {
    "jp-MarkdownHeadingCollapsed": true
   },
   "source": [
    "## Runtime"
   ]
  },
  {
   "cell_type": "code",
   "execution_count": 55,
   "metadata": {},
   "outputs": [],
   "source": [
    "x = [10, 15, 20]\n",
    "tput_exh = [34.706, 35.016, 35.278]\n",
    "tput_hgnn = [9.360, 10.887, 10.155]\n",
    "runtime_exh = [0.01215, 0.3982, 11.5749]\n",
    "runtime_hgnn = [0.052, 0.071, 0.090]\n"
   ]
  },
  {
   "cell_type": "code",
   "execution_count": 57,
   "metadata": {},
   "outputs": [
    {
     "data": {
      "image/png": "[encoded data removed]",
      "text/plain": [
       "<Figure size 640x480 with 1 Axes>"
      ]
     },
     "metadata": {},
     "output_type": "display_data"
    }
   ],
   "source": [
    "x = np.array(x)\n",
    "width = 1.5\n",
    "\n",
    "plt.bar(x - width/2, tput_exh, width, label=\"Exh. search\")\n",
    "plt.bar(x + width/2, tput_hgnn, width, label=\"HGNN\")\n",
    "\n",
    "# Add labels and legend\n",
    "plt.xlabel(\"Number of nodes\")\n",
    "plt.ylabel(\"Sum rate, bits/s/Hz\")\n",
    "plt.xticks(x)\n",
    "plt.legend()\n",
    "plt.tight_layout()\n",
    "# plt.savefig('sumrate_bar.jpg')\n",
    "plt.show()"
   ]
  },
  {
   "cell_type": "code",
   "execution_count": 58,
   "metadata": {},
   "outputs": [
    {
     "data": {
      "image/png": "[encoded data removed]",
      "text/plain": [
       "<Figure size 640x480 with 1 Axes>"
      ]
     },
     "metadata": {},
     "output_type": "display_data"
    }
   ],
   "source": [
    "x = np.array(x)\n",
    "width = 1.5\n",
    "\n",
    "plt.bar(x - width/2, runtime_exh, width, label=\"Exh. search\")\n",
    "plt.bar(x + width/2, runtime_hgnn, width, label=\"HGNN\")\n",
    "\n",
    "# Add labels and legend\n",
    "plt.xlabel(\"Number of nodes\")\n",
    "plt.ylabel(\"Runtime, seconds\")\n",
    "plt.xticks(x)\n",
    "plt.legend()\n",
    "plt.tight_layout()\n",
    "# plt.savefig('runtime_bar.jpg')\n",
    "plt.show()"
   ]
  },
  {
   "cell_type": "markdown",
   "metadata": {},
   "source": [
    "## Convergence"
   ]
  },
  {
   "cell_type": "code",
   "execution_count": 33,
   "metadata": {},
   "outputs": [
    {
     "data": {
      "image/png": "[encoded data removed]",
      "text/plain": [
       "<Figure size 640x480 with 1 Axes>"
      ]
     },
     "metadata": {},
     "output_type": "display_data"
    }
   ],
   "source": [
    "plt.plot(train_utility, label='train')\n",
    "plt.plot(test_utility, label='validation')\n",
    "plt.plot(np.full_like(train_utility, tput_optimal_mean), label='optimal (exh. search)')\n",
    "plt.xlabel('Epoch', fontsize=16)\n",
    "plt.ylabel('Sum rate, bits/s/Hz', fontsize=16)\n",
    "plt.tick_params(axis='x', labelsize=16)\n",
    "plt.tick_params(axis='y', labelsize=16)\n",
    "plt.grid()\n",
    "plt.legend(fontsize=16)\n",
    "plt.tight_layout()\n",
    "# plt.savefig('HGNN_train_xylim4000.jpg', bbox_inches='tight')"
   ]
  },
  {
   "cell_type": "markdown",
   "metadata": {
    "jp-MarkdownHeadingCollapsed": true
   },
   "source": [
    "## Loss"
   ]
  },
  {
   "cell_type": "code",
   "execution_count": 52,
   "metadata": {},
   "outputs": [
    {
     "data": {
      "image/png": "[encoded data removed]",
      "text/plain": [
       "<Figure size 800x400 with 2 Axes>"
      ]
     },
     "metadata": {},
     "output_type": "display_data"
    }
   ],
   "source": [
    "\n",
    "fig, axs = plt.subplots(1, 2, figsize=(8, 4))\n",
    "\n",
    "# Plot loss_train\n",
    "axs[0].plot(loss_train, label='train')\n",
    "axs[0].set_title('Training Loss')\n",
    "axs[0].set_xlabel('Epoch')\n",
    "axs[0].set_ylabel('Loss')\n",
    "axs[0].legend()\n",
    "axs[0].grid()\n",
    "\n",
    "# Plot loss_test\n",
    "axs[1].plot(loss_test, label='validation')\n",
    "axs[1].set_title('Validation Loss')\n",
    "axs[1].set_xlabel('Epoch')\n",
    "axs[1].set_ylabel('Loss')\n",
    "axs[1].legend()\n",
    "axs[1].grid()\n",
    "\n",
    "plt.tight_layout()\n",
    "plt.show()"
   ]
  },
  {
   "cell_type": "markdown",
   "metadata": {},
   "source": [
    "## Extensions"
   ]
  },
  {
   "cell_type": "code",
   "execution_count": 42,
   "metadata": {},
   "outputs": [
    {
     "name": "stderr",
     "output_type": "stream",
     "text": [
      "/tmp/ipykernel_13299/945646115.py:21: FutureWarning: \n",
      "\n",
      "Passing `palette` without assigning `hue` is deprecated and will be removed in v0.14.0. Assign the `x` variable to `hue` and set `legend=False` for the same effect.\n",
      "\n",
      "  barplot = sns.barplot(x='Type', y='Value', data=df_utilities, palette='viridis', width=0.3)\n"
     ]
    },
    {
     "data": {
      "image/png": "[encoded data removed]",
      "text/plain": [
       "<Figure size 800x600 with 1 Axes>"
      ]
     },
     "metadata": {},
     "output_type": "display_data"
    }
   ],
   "source": [
    "import seaborn as sns\n",
    "\n",
    "import matplotlib.pyplot as plt\n",
    "import pandas as pd\n",
    "\n",
    "# Data for plotting\n",
    "utilities = {\n",
    "    \"HGNN\": utility_base,\n",
    "    'GREEDY1': utility_test_greedy1_mean,\n",
    "    'GREEDY2': utility_test_greedy2_mean,\n",
    "    \"HGNN+GREEDY1\": utility_test_wo_mean,\n",
    "    \"HGNN+GREEDY2\": utility_test_w_mean,\n",
    "    \"EXH Search\": exhaustive_utility_mean\n",
    "}\n",
    "\n",
    "# Create a DataFrame for seaborn\n",
    "df_utilities = pd.DataFrame(list(utilities.items()), columns=['Type', 'Value'])\n",
    "\n",
    "# Plotting with smaller size and numbers on top\n",
    "plt.figure(figsize=(8, 6))\n",
    "barplot = sns.barplot(x='Type', y='Value', data=df_utilities, palette='viridis', width=0.3)\n",
    "plt.title('Comparison of Utilities')\n",
    "plt.xlabel('Methods')\n",
    "plt.ylabel('Sum rate, bits/s/Hz')\n",
    "plt.xticks(rotation=45)\n",
    "plt.grid(False)\n",
    "\n",
    "# Adding the values on top of the bars\n",
    "for p in barplot.patches:\n",
    "    barplot.annotate(format(p.get_height(), '.2f'), \n",
    "                     (p.get_x() + p.get_width() / 2., p.get_height()), \n",
    "                     ha = 'center', va = 'center', \n",
    "                     xytext = (0, 9), \n",
    "                     textcoords = 'offset points')\n",
    "plt.savefig('tput_bar.jpg', bbox_inches='tight')\n",
    "plt.show()"
   ]
  },
  {
   "cell_type": "code",
   "execution_count": null,
   "metadata": {},
   "outputs": [],
   "source": []
  },
  {
   "cell_type": "code",
   "execution_count": null,
   "metadata": {},
   "outputs": [],
   "source": []
  }
 ],
 "metadata": {
  "kernelspec": {
   "display_name": "Python 3 (ipykernel)",
   "language": "python",
   "name": "python3"
  },
  "language_info": {
   "codemirror_mode": {
    "name": "ipython",
    "version": 3
   },
   "file_extension": ".py",
   "mimetype": "text/x-python",
   "name": "python",
   "nbconvert_exporter": "python",
   "pygments_lexer": "ipython3",
   "version": "3.12.2"
  }
 },
 "nbformat": 4,
 "nbformat_minor": 4
}
