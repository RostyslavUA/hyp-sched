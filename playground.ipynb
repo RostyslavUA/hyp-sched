{
 "cells": [
  {
   "cell_type": "code",
   "execution_count": 97,
   "metadata": {},
   "outputs": [],
   "source": [
    "from utils import get_hyperedges, get_data\n",
    "from model import CustomLoss"
   ]
  },
  {
   "cell_type": "markdown",
   "metadata": {
    "jp-MarkdownHeadingCollapsed": true
   },
   "source": [
    "# Pyomo Solver"
   ]
  },
  {
   "cell_type": "code",
   "execution_count": 322,
   "metadata": {
    "scrolled": true
   },
   "outputs": [],
   "source": [
    "# from pyomo.environ import (\n",
    "#     ConcreteModel, Var, Objective, ConstraintList, SolverFactory, NonNegativeReals, Binary, maximize\n",
    "# )\n",
    "# # Step 2: Create Pyomo model\n",
    "# model = ConcreteModel()\n",
    "\n",
    "# # Step 3: Define binary decision variables for each link (b_i)\n",
    "# model.b = Var(range(V_H), domain=Binary)  # b[i] = 1 if link i is active, 0 otherwise\n",
    "\n",
    "# # Step 4: Define the objective function (maximize throughput)\n",
    "# def throughput(model):\n",
    "#     total_throughput = 0\n",
    "#     for i in range(V_H):\n",
    "#         interference = sum(model.b[j] * I[i, j] for j in range(V_H) if j != i)  # Interference from other active links\n",
    "#         denominator = N[i] + interference  # Noise + interference\n",
    "#         total_throughput += (I[i,i] * model.b[i]) / denominator  # Contribution of link i to throughput\n",
    "#     return total_throughput\n",
    "\n",
    "# model.obj = Objective(rule=throughput, sense=maximize)\n",
    "\n",
    "# # Step 5: Add constraints for hyperedges (each hyperedge has a threshold)\n",
    "# model.constraints = ConstraintList()\n",
    "\n",
    "# for e_idx, hyperedge in enumerate(hyperedges):\n",
    "#     model.constraints.add(\n",
    "#         sum(model.b[i] for i in hyperedge) <= len(hyperedge)-1\n",
    "#     )\n",
    "\n",
    "# # Step 6: Solve the model\n",
    "# solver = SolverFactory('ipopt')  # Use Ipopt for nonlinear problems\n",
    "# result = solver.solve(model, tee=True)\n",
    "\n",
    "# # Step 7: Extract the results\n",
    "# optimal_decisions = [model.b[i].value for i in range(V_H)]\n",
    "\n",
    "# # Output the optimal link schedule\n",
    "# print(\"Optimal link schedule:\", optimal_decisions)\n",
    "# print(\"Maximum throughput:\", model.obj())"
   ]
  },
  {
   "cell_type": "markdown",
   "metadata": {},
   "source": [
    "# Generate data"
   ]
  },
  {
   "cell_type": "code",
   "execution_count": 181,
   "metadata": {},
   "outputs": [],
   "source": [
    "import numpy as np\n",
    "\n",
    "# Step 1: Define problem parameters\n",
    "V_H = 10  # Number of nodes (links)\n",
    "E_H = 5   # Number of hyperedges\n",
    "N = 0.1  # Noise power\n",
    "theta = 0.5  # Thresholds for hyperedges\n",
    "k = 4  # max hyperedge cardinality\n",
    "train_samples = 5000\n",
    "test_samples = 50\n",
    "batch_size = 100\n"
   ]
  },
  {
   "cell_type": "code",
   "execution_count": 182,
   "metadata": {
    "scrolled": true
   },
   "outputs": [],
   "source": [
    "itens_train, hlist_train = get_data(train_samples, V_H, N, theta, k)\n",
    "itens_test, hlist_test = get_data(test_samples, V_H, N, theta, k)"
   ]
  },
  {
   "cell_type": "markdown",
   "metadata": {},
   "source": [
    "# Exhaustive Search Solver"
   ]
  },
  {
   "cell_type": "code",
   "execution_count": 183,
   "metadata": {},
   "outputs": [],
   "source": [
    "# exhaustive search\n",
    "def exh_solver(V_H, E_H, N, I, hyperedges):\n",
    "    best_throughput = 0\n",
    "    best_schedule = None\n",
    "\n",
    "    for i in range(2**V_H):\n",
    "        schedule = [int(x) for x in bin(i)[2:].zfill(V_H)]\n",
    "        throughput = 0\n",
    "\n",
    "        # check if the schedule satisfies the hyperedge constraints\n",
    "        valid_schedule = True\n",
    "        for hyperedge in hyperedges:\n",
    "            if sum(schedule[j] for j in hyperedge) == len(hyperedge):\n",
    "                valid_schedule = False\n",
    "                break\n",
    "        \n",
    "        if not valid_schedule:\n",
    "            continue\n",
    "\n",
    "        # calculate throughput\n",
    "        for i in range(V_H):\n",
    "            interference = sum(schedule[j] * I[i, j] for j in range(V_H) if j != i)\n",
    "            denominator = N[i] + interference\n",
    "            throughput += (I[i,i] * schedule[i]) / denominator\n",
    "        \n",
    "        if throughput > best_throughput:\n",
    "            best_throughput = throughput\n",
    "            best_schedule = schedule\n",
    "\n",
    "    return best_throughput, best_schedule\n",
    "        "
   ]
  },
  {
   "cell_type": "code",
   "execution_count": 184,
   "metadata": {},
   "outputs": [
    {
     "name": "stdout",
     "output_type": "stream",
     "text": [
      "Exhaustive search results:\n",
      "Optimal link schedule: [0, 0, 0, 0, 0, 0, 0, 0, 1, 0]\n",
      "Maximum throughput: 8.143717475566374\n",
      "Exhaustive search results:\n",
      "Optimal link schedule: [1, 0, 0, 1, 0, 0, 0, 0, 0, 0]\n",
      "Maximum throughput: 10.003396640326972\n",
      "Exhaustive search results:\n",
      "Optimal link schedule: [0, 0, 0, 0, 0, 0, 0, 0, 0, 1]\n",
      "Maximum throughput: 9.010348602901153\n",
      "Exhaustive search results:\n",
      "Optimal link schedule: [0, 0, 0, 0, 0, 0, 1, 0, 0, 0]\n",
      "Maximum throughput: 9.695275788832808\n",
      "Exhaustive search results:\n",
      "Optimal link schedule: [1, 0, 0, 0, 0, 0, 0, 0, 0, 0]\n",
      "Maximum throughput: 9.993692244954213\n",
      "Exhaustive search results:\n",
      "Optimal link schedule: [0, 0, 0, 0, 0, 0, 1, 0, 0, 0]\n",
      "Maximum throughput: 9.344727645282102\n",
      "Exhaustive search results:\n",
      "Optimal link schedule: [0, 0, 0, 1, 0, 0, 0, 0, 0, 0]\n",
      "Maximum throughput: 9.018706177513216\n",
      "Exhaustive search results:\n",
      "Optimal link schedule: [0, 0, 0, 0, 0, 0, 0, 0, 1, 0]\n",
      "Maximum throughput: 9.743272822716612\n",
      "Exhaustive search results:\n",
      "Optimal link schedule: [0, 0, 0, 0, 0, 0, 0, 0, 1, 0]\n",
      "Maximum throughput: 9.793484617890284\n",
      "Exhaustive search results:\n",
      "Optimal link schedule: [1, 0, 1, 0, 0, 0, 0, 0, 0, 0]\n",
      "Maximum throughput: 12.08417275450826\n",
      "Exhaustive search results:\n",
      "Optimal link schedule: [0, 1, 0, 0, 0, 0, 0, 0, 0, 0]\n",
      "Maximum throughput: 9.104560333970808\n",
      "Exhaustive search results:\n",
      "Optimal link schedule: [0, 0, 0, 0, 0, 0, 0, 0, 1, 0]\n",
      "Maximum throughput: 8.979999878215365\n",
      "Exhaustive search results:\n",
      "Optimal link schedule: [0, 1, 0, 1, 0, 0, 0, 0, 0, 0]\n",
      "Maximum throughput: 9.549882650164935\n",
      "Exhaustive search results:\n",
      "Optimal link schedule: [1, 0, 0, 0, 0, 0, 0, 0, 0, 0]\n",
      "Maximum throughput: 9.158720418592187\n",
      "Exhaustive search results:\n",
      "Optimal link schedule: [0, 0, 0, 0, 0, 0, 0, 0, 0, 1]\n",
      "Maximum throughput: 9.887835251424338\n",
      "Exhaustive search results:\n",
      "Optimal link schedule: [0, 1, 0, 0, 0, 0, 0, 0, 0, 0]\n",
      "Maximum throughput: 9.249283191461593\n",
      "Exhaustive search results:\n",
      "Optimal link schedule: [0, 1, 0, 0, 0, 0, 0, 0, 0, 0]\n",
      "Maximum throughput: 9.745254249439922\n",
      "Exhaustive search results:\n",
      "Optimal link schedule: [0, 1, 0, 0, 0, 0, 0, 0, 0, 0]\n",
      "Maximum throughput: 9.891722922285007\n",
      "Exhaustive search results:\n",
      "Optimal link schedule: [0, 0, 0, 1, 0, 0, 0, 0, 0, 0]\n",
      "Maximum throughput: 9.60249577891291\n",
      "Exhaustive search results:\n",
      "Optimal link schedule: [0, 0, 0, 0, 1, 0, 0, 0, 0, 0]\n",
      "Maximum throughput: 9.686139556493725\n",
      "Exhaustive search results:\n",
      "Optimal link schedule: [1, 0, 0, 0, 0, 0, 0, 1, 0, 0]\n",
      "Maximum throughput: 11.834670530826784\n",
      "Exhaustive search results:\n",
      "Optimal link schedule: [0, 1, 0, 0, 0, 0, 0, 0, 0, 0]\n",
      "Maximum throughput: 8.791659131406059\n",
      "Exhaustive search results:\n",
      "Optimal link schedule: [0, 0, 0, 0, 0, 0, 0, 1, 0, 0]\n",
      "Maximum throughput: 6.443401993863735\n",
      "Exhaustive search results:\n",
      "Optimal link schedule: [0, 0, 1, 0, 0, 0, 0, 0, 0, 0]\n",
      "Maximum throughput: 9.377324847117604\n",
      "Exhaustive search results:\n",
      "Optimal link schedule: [0, 0, 0, 0, 0, 0, 0, 0, 1, 0]\n",
      "Maximum throughput: 8.795257071768265\n",
      "Exhaustive search results:\n",
      "Optimal link schedule: [1, 0, 0, 0, 0, 0, 0, 0, 0, 0]\n",
      "Maximum throughput: 9.880055345703491\n",
      "Exhaustive search results:\n",
      "Optimal link schedule: [0, 0, 0, 0, 0, 0, 0, 0, 1, 0]\n",
      "Maximum throughput: 8.936586834417895\n",
      "Exhaustive search results:\n",
      "Optimal link schedule: [0, 0, 0, 0, 0, 1, 0, 0, 0, 0]\n",
      "Maximum throughput: 9.751511842744163\n",
      "Exhaustive search results:\n",
      "Optimal link schedule: [0, 1, 0, 0, 0, 0, 0, 0, 0, 0]\n",
      "Maximum throughput: 8.768297517512975\n",
      "Exhaustive search results:\n",
      "Optimal link schedule: [0, 0, 0, 0, 0, 1, 0, 0, 0, 0]\n",
      "Maximum throughput: 9.719127234980807\n",
      "Exhaustive search results:\n",
      "Optimal link schedule: [0, 0, 1, 0, 0, 1, 0, 0, 0, 0]\n",
      "Maximum throughput: 12.26821905561008\n",
      "Exhaustive search results:\n",
      "Optimal link schedule: [0, 0, 1, 0, 0, 0, 0, 0, 0, 0]\n",
      "Maximum throughput: 9.470413570065473\n",
      "Exhaustive search results:\n",
      "Optimal link schedule: [0, 1, 0, 0, 0, 0, 0, 0, 0, 0]\n",
      "Maximum throughput: 8.756269876493576\n",
      "Exhaustive search results:\n",
      "Optimal link schedule: [0, 0, 0, 0, 0, 0, 0, 1, 0, 0]\n",
      "Maximum throughput: 9.722601850124505\n",
      "Exhaustive search results:\n",
      "Optimal link schedule: [0, 0, 0, 0, 0, 0, 1, 0, 0, 0]\n",
      "Maximum throughput: 9.29593210043993\n",
      "Exhaustive search results:\n",
      "Optimal link schedule: [0, 0, 0, 1, 0, 0, 0, 0, 0, 0]\n",
      "Maximum throughput: 9.864075164001854\n",
      "Exhaustive search results:\n",
      "Optimal link schedule: [0, 0, 1, 0, 0, 0, 0, 0, 0, 1]\n",
      "Maximum throughput: 10.797909408490181\n",
      "Exhaustive search results:\n",
      "Optimal link schedule: [0, 0, 0, 1, 0, 0, 0, 0, 0, 0]\n",
      "Maximum throughput: 9.80638428921251\n",
      "Exhaustive search results:\n",
      "Optimal link schedule: [0, 0, 0, 0, 0, 1, 0, 0, 0, 0]\n",
      "Maximum throughput: 9.976840821337243\n",
      "Exhaustive search results:\n",
      "Optimal link schedule: [0, 0, 0, 1, 0, 0, 0, 0, 0, 0]\n",
      "Maximum throughput: 9.628423271908499\n",
      "Exhaustive search results:\n",
      "Optimal link schedule: [1, 0, 0, 0, 0, 0, 0, 0, 0, 0]\n",
      "Maximum throughput: 9.201162046511206\n",
      "Exhaustive search results:\n",
      "Optimal link schedule: [0, 0, 0, 0, 0, 0, 0, 0, 1, 0]\n",
      "Maximum throughput: 9.51141843751066\n",
      "Exhaustive search results:\n",
      "Optimal link schedule: [0, 0, 0, 0, 0, 1, 0, 0, 0, 0]\n",
      "Maximum throughput: 8.811333725624984\n",
      "Exhaustive search results:\n",
      "Optimal link schedule: [0, 0, 0, 1, 0, 0, 0, 0, 0, 0]\n",
      "Maximum throughput: 9.575615290611301\n",
      "Exhaustive search results:\n",
      "Optimal link schedule: [0, 0, 0, 1, 0, 0, 0, 0, 0, 0]\n",
      "Maximum throughput: 9.829811269726452\n",
      "Exhaustive search results:\n",
      "Optimal link schedule: [0, 0, 0, 0, 1, 0, 0, 1, 0, 1]\n",
      "Maximum throughput: 9.740610571380493\n",
      "Exhaustive search results:\n",
      "Optimal link schedule: [0, 0, 0, 0, 0, 1, 0, 0, 0, 0]\n",
      "Maximum throughput: 9.550238707345446\n",
      "Exhaustive search results:\n",
      "Optimal link schedule: [0, 0, 0, 0, 1, 0, 0, 0, 0, 0]\n",
      "Maximum throughput: 8.922885678388901\n",
      "Exhaustive search results:\n",
      "Optimal link schedule: [1, 0, 0, 0, 0, 0, 0, 0, 0, 0]\n",
      "Maximum throughput: 9.36426730085182\n",
      "Exhaustive search results:\n",
      "Optimal link schedule: [0, 0, 1, 0, 0, 0, 0, 0, 0, 0]\n",
      "Maximum throughput: 9.226983060908033\n",
      "Mean average throughput: 9.546119536966755\n"
     ]
    }
   ],
   "source": [
    "best_throughput_test = []\n",
    "for I, hyperedges in zip(itens_test, hlist_test):\n",
    "    best_throughput, best_schedule = exh_solver(V_H, E_H, V_H*[N], I, hyperedges)\n",
    "    best_throughput_test.append(best_throughput)\n",
    "    print(\"Exhaustive search results:\")\n",
    "    print(\"Optimal link schedule:\", best_schedule)\n",
    "    print(\"Maximum throughput:\", best_throughput)\n",
    "print(f\"Mean average throughput: {np.mean(best_throughput_test)}\")"
   ]
  },
  {
   "cell_type": "markdown",
   "metadata": {},
   "source": [
    "# Learning-Based"
   ]
  },
  {
   "cell_type": "markdown",
   "metadata": {},
   "source": [
    "# Data Preparation"
   ]
  },
  {
   "cell_type": "markdown",
   "metadata": {},
   "source": [
    "Format of Data Should be as follows\n",
    "Dictionary Keys: \"$n$\": Number of hypernodes ($|\\mathcal{V}_H|$), \"$E$\": dictionray of hyperedges, \"$I \\in R^{n\\times n}$\": Interference and Power matrix, \"$H \\in \\{0,1\\}^{n\\times m}$: Incident matrix ($m$ is the size of hyperedges) "
   ]
  },
  {
   "cell_type": "code",
   "execution_count": 185,
   "metadata": {},
   "outputs": [],
   "source": [
    "import torch\n",
    "def hypergraph_generation(V_H, I, hyperedges):\n",
    "    hypergraph = {}\n",
    "\n",
    "    hypergraph[\"n\"] = V_H\n",
    "    hypergraph[\"E\"] = {}\n",
    "\n",
    "    for e_idx, hyperedge in enumerate(hyperedges):\n",
    "        hypergraph[\"E\"][e_idx] = hyperedge\n",
    "\n",
    "\n",
    "    hypergraph[\"I\"] = torch.DoubleTensor(I)\n",
    "\n",
    "    # incident matrix H\n",
    "    H = np.zeros((V_H, len(hyperedges)), dtype=np.float64)\n",
    "    for e_idx, hyperedge in enumerate(hyperedges):\n",
    "        for node in hyperedge:\n",
    "            H[node, e_idx] = 1\n",
    "\n",
    "    H = torch.DoubleTensor(H)\n",
    "    Dv_inv = torch.diag(H.sum(0)**(-1/2))\n",
    "    De_inv = torch.diag(H.sum(1)**(-1))\n",
    "    W = torch.eye(V_H, dtype=torch.float64)\n",
    "    hypergraph[\"H\"] = H\n",
    "    hypergraph[\"Dv_inv\"] = Dv_inv\n",
    "    hypergraph[\"De_inv\"] = De_inv\n",
    "    hypergraph[\"W\"] = W\n",
    "    return hypergraph"
   ]
  },
  {
   "cell_type": "code",
   "execution_count": 186,
   "metadata": {},
   "outputs": [],
   "source": [
    "hyps_train, hyps_test = [], []\n",
    "for I, hyperedges in zip(itens_train, hlist_train):\n",
    "    hyp = hypergraph_generation(V_H, I, hyperedges)\n",
    "    hyps_train.append(hyp)\n",
    "for I, hyperedges in zip(itens_test, hlist_test):\n",
    "    hyp = hypergraph_generation(V_H, I, hyperedges)\n",
    "    hyps_test.append(hyp)"
   ]
  },
  {
   "cell_type": "markdown",
   "metadata": {
    "jp-MarkdownHeadingCollapsed": true
   },
   "source": [
    "# Training HyperGCN"
   ]
  },
  {
   "cell_type": "code",
   "execution_count": 92,
   "metadata": {},
   "outputs": [
    {
     "data": {
      "text/plain": [
       "<module 'model' from '/app/hyp-sched/model.py'>"
      ]
     },
     "execution_count": 92,
     "metadata": {},
     "output_type": "execute_result"
    }
   ],
   "source": [
    "import importlib, model, networks, utils\n",
    "importlib.reload(networks)\n",
    "importlib.reload(utils)\n",
    "\n",
    "importlib.reload(model)"
   ]
  },
  {
   "cell_type": "markdown",
   "metadata": {},
   "source": [
    "<span style=\"color:red\">**HyperGCN**</span> is defined in <span style=\"color:cyan\">**networks**</span> file, but it's core layer <span style=\"color:red\">*HyperGraphConvolution*</span> is defined in <span style=\"color:cyan\">**utils**</span>.<br /> If you want change the entire model you can put your model in <span style=\"color:cyan\">**networks**</span> file.<br />\n",
    "The training process is defined in the <span style=\"color:cyan\">**model**</span> file, so if you defined a new model and want to use it in training process, please change that file.<br /> Also the <span style=\"color:red\">**Gumbel+LinSatNet**</span> is defined in <span style=\"color:cyan\">**utils**</span> but it is used in training process. Our custom loss function (negative of our objecive) is defined in <span style=\"color:cyan\">**model**</span>, i double checked it with random inputs, so it should be fine."
   ]
  },
  {
   "cell_type": "code",
   "execution_count": 95,
   "metadata": {},
   "outputs": [],
   "source": [
    "import model\n",
    "HyperGCN = model.initialise(hyp)\n"
   ]
  },
  {
   "cell_type": "code",
   "execution_count": 103,
   "metadata": {
    "scrolled": true
   },
   "outputs": [
    {
     "name": "stderr",
     "output_type": "stream",
     "text": [
      "  0%|                                                                                                                                 | 0/500 [00:00<?, ?it/s]\n"
     ]
    },
    {
     "ename": "RuntimeError",
     "evalue": "self must be a matrix",
     "output_type": "error",
     "traceback": [
      "\u001b[0;31m---------------------------------------------------------------------------\u001b[0m",
      "\u001b[0;31mRuntimeError\u001b[0m                              Traceback (most recent call last)",
      "Cell \u001b[0;32mIn[103], line 2\u001b[0m\n\u001b[1;32m      1\u001b[0m epochs \u001b[38;5;241m=\u001b[39m \u001b[38;5;241m500\u001b[39m\n\u001b[0;32m----> 2\u001b[0m HyperGCN \u001b[38;5;241m=\u001b[39m \u001b[43mmodel\u001b[49m\u001b[38;5;241;43m.\u001b[39;49m\u001b[43mtrain\u001b[49m\u001b[43m(\u001b[49m\u001b[43mHyperGCN\u001b[49m\u001b[43m,\u001b[49m\u001b[43m \u001b[49m\u001b[43mhyp\u001b[49m\u001b[43m,\u001b[49m\u001b[43m \u001b[49m\u001b[43mepochs\u001b[49m\u001b[43m)\u001b[49m\n",
      "File \u001b[0;32m/app/hyp-sched/model.py:65\u001b[0m, in \u001b[0;36mtrain\u001b[0;34m(HyperGCN, dataset, epochs, batch_size)\u001b[0m\n\u001b[1;32m     63\u001b[0m optimiser\u001b[38;5;241m.\u001b[39mzero_grad()\n\u001b[1;32m     64\u001b[0m \u001b[38;5;28;01mfor\u001b[39;00m X, H \u001b[38;5;129;01min\u001b[39;00m \u001b[38;5;28mzip\u001b[39m(itens, hlist):\n\u001b[0;32m---> 65\u001b[0m     Z \u001b[38;5;241m=\u001b[39m \u001b[43mhypergcn\u001b[49m\u001b[43m(\u001b[49m\u001b[43mX\u001b[49m\u001b[43m)\u001b[49m  \u001b[38;5;66;03m# tilde\u001b[39;00m\n\u001b[1;32m     67\u001b[0m     \u001b[38;5;66;03m# constrained_output = utils.gumbel_linsat_layer(Z, LHS_const, RHS_const)  # Zs\u001b[39;00m\n\u001b[1;32m     68\u001b[0m \n\u001b[1;32m     69\u001b[0m     \u001b[38;5;66;03m# print(torch.mean(constrained_output, dim=0))  # Z = Z_mean\u001b[39;00m\n\u001b[1;32m     70\u001b[0m \n\u001b[1;32m     71\u001b[0m     \u001b[38;5;66;03m# loss = loss_fn(constrained_output, X, 0.01)\u001b[39;00m\n\u001b[1;32m     72\u001b[0m     loss, u \u001b[38;5;241m=\u001b[39m loss_fn(Z, X, \u001b[38;5;241m0.1\u001b[39m)\n",
      "File \u001b[0;32m/opt/conda/lib/python3.12/site-packages/torch/nn/modules/module.py:1736\u001b[0m, in \u001b[0;36mModule._wrapped_call_impl\u001b[0;34m(self, *args, **kwargs)\u001b[0m\n\u001b[1;32m   1734\u001b[0m     \u001b[38;5;28;01mreturn\u001b[39;00m \u001b[38;5;28mself\u001b[39m\u001b[38;5;241m.\u001b[39m_compiled_call_impl(\u001b[38;5;241m*\u001b[39margs, \u001b[38;5;241m*\u001b[39m\u001b[38;5;241m*\u001b[39mkwargs)  \u001b[38;5;66;03m# type: ignore[misc]\u001b[39;00m\n\u001b[1;32m   1735\u001b[0m \u001b[38;5;28;01melse\u001b[39;00m:\n\u001b[0;32m-> 1736\u001b[0m     \u001b[38;5;28;01mreturn\u001b[39;00m \u001b[38;5;28;43mself\u001b[39;49m\u001b[38;5;241;43m.\u001b[39;49m\u001b[43m_call_impl\u001b[49m\u001b[43m(\u001b[49m\u001b[38;5;241;43m*\u001b[39;49m\u001b[43margs\u001b[49m\u001b[43m,\u001b[49m\u001b[43m \u001b[49m\u001b[38;5;241;43m*\u001b[39;49m\u001b[38;5;241;43m*\u001b[39;49m\u001b[43mkwargs\u001b[49m\u001b[43m)\u001b[49m\n",
      "File \u001b[0;32m/opt/conda/lib/python3.12/site-packages/torch/nn/modules/module.py:1747\u001b[0m, in \u001b[0;36mModule._call_impl\u001b[0;34m(self, *args, **kwargs)\u001b[0m\n\u001b[1;32m   1742\u001b[0m \u001b[38;5;66;03m# If we don't have any hooks, we want to skip the rest of the logic in\u001b[39;00m\n\u001b[1;32m   1743\u001b[0m \u001b[38;5;66;03m# this function, and just call forward.\u001b[39;00m\n\u001b[1;32m   1744\u001b[0m \u001b[38;5;28;01mif\u001b[39;00m \u001b[38;5;129;01mnot\u001b[39;00m (\u001b[38;5;28mself\u001b[39m\u001b[38;5;241m.\u001b[39m_backward_hooks \u001b[38;5;129;01mor\u001b[39;00m \u001b[38;5;28mself\u001b[39m\u001b[38;5;241m.\u001b[39m_backward_pre_hooks \u001b[38;5;129;01mor\u001b[39;00m \u001b[38;5;28mself\u001b[39m\u001b[38;5;241m.\u001b[39m_forward_hooks \u001b[38;5;129;01mor\u001b[39;00m \u001b[38;5;28mself\u001b[39m\u001b[38;5;241m.\u001b[39m_forward_pre_hooks\n\u001b[1;32m   1745\u001b[0m         \u001b[38;5;129;01mor\u001b[39;00m _global_backward_pre_hooks \u001b[38;5;129;01mor\u001b[39;00m _global_backward_hooks\n\u001b[1;32m   1746\u001b[0m         \u001b[38;5;129;01mor\u001b[39;00m _global_forward_hooks \u001b[38;5;129;01mor\u001b[39;00m _global_forward_pre_hooks):\n\u001b[0;32m-> 1747\u001b[0m     \u001b[38;5;28;01mreturn\u001b[39;00m \u001b[43mforward_call\u001b[49m\u001b[43m(\u001b[49m\u001b[38;5;241;43m*\u001b[39;49m\u001b[43margs\u001b[49m\u001b[43m,\u001b[49m\u001b[43m \u001b[49m\u001b[38;5;241;43m*\u001b[39;49m\u001b[38;5;241;43m*\u001b[39;49m\u001b[43mkwargs\u001b[49m\u001b[43m)\u001b[49m\n\u001b[1;32m   1749\u001b[0m result \u001b[38;5;241m=\u001b[39m \u001b[38;5;28;01mNone\u001b[39;00m\n\u001b[1;32m   1750\u001b[0m called_always_called_hooks \u001b[38;5;241m=\u001b[39m \u001b[38;5;28mset\u001b[39m()\n",
      "File \u001b[0;32m/app/hyp-sched/networks.py:47\u001b[0m, in \u001b[0;36mHyperGCN.forward\u001b[0;34m(self, X)\u001b[0m\n\u001b[1;32m     44\u001b[0m do, l, m \u001b[38;5;241m=\u001b[39m \u001b[38;5;28mself\u001b[39m\u001b[38;5;241m.\u001b[39mdo, \u001b[38;5;28mself\u001b[39m\u001b[38;5;241m.\u001b[39ml, \u001b[38;5;28mself\u001b[39m\u001b[38;5;241m.\u001b[39mm\n\u001b[1;32m     46\u001b[0m \u001b[38;5;28;01mfor\u001b[39;00m i, hidden \u001b[38;5;129;01min\u001b[39;00m \u001b[38;5;28menumerate\u001b[39m(\u001b[38;5;28mself\u001b[39m\u001b[38;5;241m.\u001b[39mlayers):\n\u001b[0;32m---> 47\u001b[0m     X \u001b[38;5;241m=\u001b[39m F\u001b[38;5;241m.\u001b[39mrelu(\u001b[43mhidden\u001b[49m\u001b[43m(\u001b[49m\u001b[38;5;28;43mself\u001b[39;49m\u001b[38;5;241;43m.\u001b[39;49m\u001b[43mstructure\u001b[49m\u001b[43m,\u001b[49m\u001b[43m \u001b[49m\u001b[43mX\u001b[49m\u001b[43m,\u001b[49m\u001b[43m \u001b[49m\u001b[43mm\u001b[49m\u001b[43m)\u001b[49m)\n\u001b[1;32m     48\u001b[0m     \u001b[38;5;28;01mif\u001b[39;00m i \u001b[38;5;241m<\u001b[39m l \u001b[38;5;241m-\u001b[39m \u001b[38;5;241m1\u001b[39m:\n\u001b[1;32m     49\u001b[0m         X \u001b[38;5;241m=\u001b[39m F\u001b[38;5;241m.\u001b[39mdropout(X, do, training\u001b[38;5;241m=\u001b[39m\u001b[38;5;28mself\u001b[39m\u001b[38;5;241m.\u001b[39mtraining)\n",
      "File \u001b[0;32m/opt/conda/lib/python3.12/site-packages/torch/nn/modules/module.py:1736\u001b[0m, in \u001b[0;36mModule._wrapped_call_impl\u001b[0;34m(self, *args, **kwargs)\u001b[0m\n\u001b[1;32m   1734\u001b[0m     \u001b[38;5;28;01mreturn\u001b[39;00m \u001b[38;5;28mself\u001b[39m\u001b[38;5;241m.\u001b[39m_compiled_call_impl(\u001b[38;5;241m*\u001b[39margs, \u001b[38;5;241m*\u001b[39m\u001b[38;5;241m*\u001b[39mkwargs)  \u001b[38;5;66;03m# type: ignore[misc]\u001b[39;00m\n\u001b[1;32m   1735\u001b[0m \u001b[38;5;28;01melse\u001b[39;00m:\n\u001b[0;32m-> 1736\u001b[0m     \u001b[38;5;28;01mreturn\u001b[39;00m \u001b[38;5;28;43mself\u001b[39;49m\u001b[38;5;241;43m.\u001b[39;49m\u001b[43m_call_impl\u001b[49m\u001b[43m(\u001b[49m\u001b[38;5;241;43m*\u001b[39;49m\u001b[43margs\u001b[49m\u001b[43m,\u001b[49m\u001b[43m \u001b[49m\u001b[38;5;241;43m*\u001b[39;49m\u001b[38;5;241;43m*\u001b[39;49m\u001b[43mkwargs\u001b[49m\u001b[43m)\u001b[49m\n",
      "File \u001b[0;32m/opt/conda/lib/python3.12/site-packages/torch/nn/modules/module.py:1747\u001b[0m, in \u001b[0;36mModule._call_impl\u001b[0;34m(self, *args, **kwargs)\u001b[0m\n\u001b[1;32m   1742\u001b[0m \u001b[38;5;66;03m# If we don't have any hooks, we want to skip the rest of the logic in\u001b[39;00m\n\u001b[1;32m   1743\u001b[0m \u001b[38;5;66;03m# this function, and just call forward.\u001b[39;00m\n\u001b[1;32m   1744\u001b[0m \u001b[38;5;28;01mif\u001b[39;00m \u001b[38;5;129;01mnot\u001b[39;00m (\u001b[38;5;28mself\u001b[39m\u001b[38;5;241m.\u001b[39m_backward_hooks \u001b[38;5;129;01mor\u001b[39;00m \u001b[38;5;28mself\u001b[39m\u001b[38;5;241m.\u001b[39m_backward_pre_hooks \u001b[38;5;129;01mor\u001b[39;00m \u001b[38;5;28mself\u001b[39m\u001b[38;5;241m.\u001b[39m_forward_hooks \u001b[38;5;129;01mor\u001b[39;00m \u001b[38;5;28mself\u001b[39m\u001b[38;5;241m.\u001b[39m_forward_pre_hooks\n\u001b[1;32m   1745\u001b[0m         \u001b[38;5;129;01mor\u001b[39;00m _global_backward_pre_hooks \u001b[38;5;129;01mor\u001b[39;00m _global_backward_hooks\n\u001b[1;32m   1746\u001b[0m         \u001b[38;5;129;01mor\u001b[39;00m _global_forward_hooks \u001b[38;5;129;01mor\u001b[39;00m _global_forward_pre_hooks):\n\u001b[0;32m-> 1747\u001b[0m     \u001b[38;5;28;01mreturn\u001b[39;00m \u001b[43mforward_call\u001b[49m\u001b[43m(\u001b[49m\u001b[38;5;241;43m*\u001b[39;49m\u001b[43margs\u001b[49m\u001b[43m,\u001b[49m\u001b[43m \u001b[49m\u001b[38;5;241;43m*\u001b[39;49m\u001b[38;5;241;43m*\u001b[39;49m\u001b[43mkwargs\u001b[49m\u001b[43m)\u001b[49m\n\u001b[1;32m   1749\u001b[0m result \u001b[38;5;241m=\u001b[39m \u001b[38;5;28;01mNone\u001b[39;00m\n\u001b[1;32m   1750\u001b[0m called_always_called_hooks \u001b[38;5;241m=\u001b[39m \u001b[38;5;28mset\u001b[39m()\n",
      "File \u001b[0;32m/app/hyp-sched/utils.py:36\u001b[0m, in \u001b[0;36mHyperGraphConvolution.forward\u001b[0;34m(self, structure, H, m)\u001b[0m\n\u001b[1;32m     34\u001b[0m \u001b[38;5;28;01mdef\u001b[39;00m \u001b[38;5;21mforward\u001b[39m(\u001b[38;5;28mself\u001b[39m, structure, H, m\u001b[38;5;241m=\u001b[39m\u001b[38;5;28;01mTrue\u001b[39;00m):\n\u001b[1;32m     35\u001b[0m     W, b \u001b[38;5;241m=\u001b[39m \u001b[38;5;28mself\u001b[39m\u001b[38;5;241m.\u001b[39mW, \u001b[38;5;28mself\u001b[39m\u001b[38;5;241m.\u001b[39mbias\n\u001b[0;32m---> 36\u001b[0m     HW \u001b[38;5;241m=\u001b[39m \u001b[43mtorch\u001b[49m\u001b[38;5;241;43m.\u001b[39;49m\u001b[43mmm\u001b[49m\u001b[43m(\u001b[49m\u001b[43mH\u001b[49m\u001b[43m,\u001b[49m\u001b[43m \u001b[49m\u001b[43mW\u001b[49m\u001b[43m)\u001b[49m\n\u001b[1;32m     38\u001b[0m     \u001b[38;5;28;01mif\u001b[39;00m \u001b[38;5;28mself\u001b[39m\u001b[38;5;241m.\u001b[39mreapproximate:\n\u001b[1;32m     39\u001b[0m         n, X \u001b[38;5;241m=\u001b[39m H\u001b[38;5;241m.\u001b[39mshape[\u001b[38;5;241m0\u001b[39m], HW\u001b[38;5;241m.\u001b[39mcpu()\u001b[38;5;241m.\u001b[39mdetach()\u001b[38;5;241m.\u001b[39mnumpy()\n",
      "\u001b[0;31mRuntimeError\u001b[0m: self must be a matrix"
     ]
    }
   ],
   "source": [
    "epochs = 500\n",
    "HyperGCN = model.train(HyperGCN, hyp, epochs)"
   ]
  },
  {
   "cell_type": "markdown",
   "metadata": {},
   "source": [
    "# Training HGNN"
   ]
  },
  {
   "cell_type": "code",
   "execution_count": 187,
   "metadata": {},
   "outputs": [],
   "source": [
    "def get_learnable_parameters(V_H):\n",
    "    hidden_dim = [15, 15, 1]  # 3 layers\n",
    "    theta_1 = torch.empty(V_H, hidden_dim[0], dtype=torch.float64, requires_grad=True)\n",
    "    tehta_1 = torch.nn.init.xavier_uniform_(theta_1)\n",
    "    theta_2 = torch.empty(hidden_dim[0], hidden_dim[1], dtype=torch.float64, requires_grad=True)\n",
    "    tehta_2 = torch.nn.init.xavier_uniform_(theta_2)\n",
    "    theta_3 = torch.empty(hidden_dim[1], hidden_dim[2], dtype=torch.float64, requires_grad=True)\n",
    "    tehta_3 = torch.nn.init.xavier_uniform_(theta_3)\n",
    "    theta_HGNN = [theta_1, theta_2, theta_3]\n",
    "    return theta_HGNN"
   ]
  },
  {
   "cell_type": "code",
   "execution_count": 188,
   "metadata": {},
   "outputs": [],
   "source": [
    "def HGNN(X, Dv_inv, De_inv, H, W, theta):\n",
    "    theta_1, theta_2, theta_3 = theta\n",
    "    Xbar1 = Dv_inv @ H @ W @ De_inv @ H.T @ Dv_inv @ X @ theta_1\n",
    "    X1 = torch.nn.functional.relu(Xbar1)\n",
    "    # import pdb; pdb.set_trace()\n",
    "    Xbar2 = Dv_inv @ H @ W @ De_inv @ H.T @ Dv_inv @ X1 @ theta_2\n",
    "    X2 = torch.nn.functional.relu(Xbar2)\n",
    "    Xbar3 = Dv_inv @ H @ W @ De_inv @ H.T @ Dv_inv @ X2 @ theta_3\n",
    "    X3 = torch.nn.functional.sigmoid(Xbar3)\n",
    "    return X3"
   ]
  },
  {
   "cell_type": "code",
   "execution_count": 203,
   "metadata": {},
   "outputs": [],
   "source": [
    "loss_fn = CustomLoss()"
   ]
  },
  {
   "cell_type": "code",
   "execution_count": 212,
   "metadata": {},
   "outputs": [],
   "source": [
    "theta_HGNN = get_learnable_parameters(V_H)\n",
    "optimizer = torch.optim.Adam(theta_HGNN, lr=0.01)"
   ]
  },
  {
   "cell_type": "code",
   "execution_count": 213,
   "metadata": {},
   "outputs": [
    {
     "name": "stdout",
     "output_type": "stream",
     "text": [
      "Utilities before training. Train: 11.099749168049769, Test: 11.226127588738716\n"
     ]
    }
   ],
   "source": [
    "train_utility = []\n",
    "test_utility = []\n",
    "for hyp in hyps_train:\n",
    "    X = hyp[\"I\"]\n",
    "    Dv_inv = hyp[\"Dv_inv\"]\n",
    "    De_inv = hyp[\"De_inv\"]\n",
    "    H = hyp[\"H\"]\n",
    "    W = hyp[\"W\"]\n",
    "    Z = HGNN(X, Dv_inv, De_inv, H, W, theta_HGNN)\n",
    "    loss, utility = loss_fn(Z, X, N)\n",
    "    train_utility.append(utility)\n",
    "for hyp in hyps_test:\n",
    "    X = hyp[\"I\"]\n",
    "    Dv_inv = hyp[\"Dv_inv\"]\n",
    "    De_inv = hyp[\"De_inv\"]\n",
    "    H = hyp[\"H\"]\n",
    "    W = hyp[\"W\"]\n",
    "    Z = HGNN(X, Dv_inv, De_inv, H, W, theta_HGNN)\n",
    "    loss, utility = loss_fn(Z, X, N)\n",
    "    test_utility.append(utility)\n",
    "print(f\"Utilities before training. Train: {torch.stack(train_utility).mean()}, Test: {torch.stack(test_utility).mean()}\")"
   ]
  },
  {
   "cell_type": "code",
   "execution_count": 214,
   "metadata": {},
   "outputs": [
    {
     "name": "stdout",
     "output_type": "stream",
     "text": [
      "Epoch: 0, Utility Train: 11.29782, Utility Test: 11.45328\n",
      "Epoch: 1, Utility Train: 11.32494, Utility Test: 11.45329\n",
      "Epoch: 2, Utility Train: 11.32496, Utility Test: 11.45330\n",
      "Epoch: 3, Utility Train: 11.32498, Utility Test: 11.45330\n",
      "Epoch: 4, Utility Train: 11.32499, Utility Test: 11.45330\n",
      "Epoch: 5, Utility Train: 11.32499, Utility Test: 11.45330\n",
      "Epoch: 6, Utility Train: 11.32499, Utility Test: 11.45330\n",
      "Epoch: 7, Utility Train: 11.32499, Utility Test: 11.45330\n"
     ]
    },
    {
     "ename": "KeyboardInterrupt",
     "evalue": "",
     "output_type": "error",
     "traceback": [
      "\u001b[0;31m---------------------------------------------------------------------------\u001b[0m",
      "\u001b[0;31mKeyboardInterrupt\u001b[0m                         Traceback (most recent call last)",
      "Cell \u001b[0;32mIn[214], line 16\u001b[0m\n\u001b[1;32m     14\u001b[0m W \u001b[38;5;241m=\u001b[39m hyp[\u001b[38;5;124m\"\u001b[39m\u001b[38;5;124mW\u001b[39m\u001b[38;5;124m\"\u001b[39m]\n\u001b[1;32m     15\u001b[0m Z \u001b[38;5;241m=\u001b[39m HGNN(X, Dv_inv, De_inv, H, W, theta_HGNN)\n\u001b[0;32m---> 16\u001b[0m loss, utility \u001b[38;5;241m=\u001b[39m \u001b[43mloss_fn\u001b[49m\u001b[43m(\u001b[49m\u001b[43mZ\u001b[49m\u001b[43m,\u001b[49m\u001b[43m \u001b[49m\u001b[43mX\u001b[49m\u001b[43m,\u001b[49m\u001b[43m \u001b[49m\u001b[43mN\u001b[49m\u001b[43m)\u001b[49m\n\u001b[1;32m     17\u001b[0m loss_batch\u001b[38;5;241m.\u001b[39mappend(loss)\n\u001b[1;32m     18\u001b[0m utility_epoch\u001b[38;5;241m.\u001b[39mappend(utility)\n",
      "File \u001b[0;32m/opt/conda/lib/python3.12/site-packages/torch/nn/modules/module.py:1736\u001b[0m, in \u001b[0;36mModule._wrapped_call_impl\u001b[0;34m(self, *args, **kwargs)\u001b[0m\n\u001b[1;32m   1734\u001b[0m     \u001b[38;5;28;01mreturn\u001b[39;00m \u001b[38;5;28mself\u001b[39m\u001b[38;5;241m.\u001b[39m_compiled_call_impl(\u001b[38;5;241m*\u001b[39margs, \u001b[38;5;241m*\u001b[39m\u001b[38;5;241m*\u001b[39mkwargs)  \u001b[38;5;66;03m# type: ignore[misc]\u001b[39;00m\n\u001b[1;32m   1735\u001b[0m \u001b[38;5;28;01melse\u001b[39;00m:\n\u001b[0;32m-> 1736\u001b[0m     \u001b[38;5;28;01mreturn\u001b[39;00m \u001b[38;5;28;43mself\u001b[39;49m\u001b[38;5;241;43m.\u001b[39;49m\u001b[43m_call_impl\u001b[49m\u001b[43m(\u001b[49m\u001b[38;5;241;43m*\u001b[39;49m\u001b[43margs\u001b[49m\u001b[43m,\u001b[49m\u001b[43m \u001b[49m\u001b[38;5;241;43m*\u001b[39;49m\u001b[38;5;241;43m*\u001b[39;49m\u001b[43mkwargs\u001b[49m\u001b[43m)\u001b[49m\n",
      "File \u001b[0;32m/opt/conda/lib/python3.12/site-packages/torch/nn/modules/module.py:1747\u001b[0m, in \u001b[0;36mModule._call_impl\u001b[0;34m(self, *args, **kwargs)\u001b[0m\n\u001b[1;32m   1742\u001b[0m \u001b[38;5;66;03m# If we don't have any hooks, we want to skip the rest of the logic in\u001b[39;00m\n\u001b[1;32m   1743\u001b[0m \u001b[38;5;66;03m# this function, and just call forward.\u001b[39;00m\n\u001b[1;32m   1744\u001b[0m \u001b[38;5;28;01mif\u001b[39;00m \u001b[38;5;129;01mnot\u001b[39;00m (\u001b[38;5;28mself\u001b[39m\u001b[38;5;241m.\u001b[39m_backward_hooks \u001b[38;5;129;01mor\u001b[39;00m \u001b[38;5;28mself\u001b[39m\u001b[38;5;241m.\u001b[39m_backward_pre_hooks \u001b[38;5;129;01mor\u001b[39;00m \u001b[38;5;28mself\u001b[39m\u001b[38;5;241m.\u001b[39m_forward_hooks \u001b[38;5;129;01mor\u001b[39;00m \u001b[38;5;28mself\u001b[39m\u001b[38;5;241m.\u001b[39m_forward_pre_hooks\n\u001b[1;32m   1745\u001b[0m         \u001b[38;5;129;01mor\u001b[39;00m _global_backward_pre_hooks \u001b[38;5;129;01mor\u001b[39;00m _global_backward_hooks\n\u001b[1;32m   1746\u001b[0m         \u001b[38;5;129;01mor\u001b[39;00m _global_forward_hooks \u001b[38;5;129;01mor\u001b[39;00m _global_forward_pre_hooks):\n\u001b[0;32m-> 1747\u001b[0m     \u001b[38;5;28;01mreturn\u001b[39;00m \u001b[43mforward_call\u001b[49m\u001b[43m(\u001b[49m\u001b[38;5;241;43m*\u001b[39;49m\u001b[43margs\u001b[49m\u001b[43m,\u001b[49m\u001b[43m \u001b[49m\u001b[38;5;241;43m*\u001b[39;49m\u001b[38;5;241;43m*\u001b[39;49m\u001b[43mkwargs\u001b[49m\u001b[43m)\u001b[49m\n\u001b[1;32m   1749\u001b[0m result \u001b[38;5;241m=\u001b[39m \u001b[38;5;28;01mNone\u001b[39;00m\n\u001b[1;32m   1750\u001b[0m called_always_called_hooks \u001b[38;5;241m=\u001b[39m \u001b[38;5;28mset\u001b[39m()\n",
      "File \u001b[0;32m/app/hyp-sched/model.py:19\u001b[0m, in \u001b[0;36mCustomLoss.forward\u001b[0;34m(self, zs, X, var_noise)\u001b[0m\n\u001b[1;32m     17\u001b[0m loss \u001b[38;5;241m=\u001b[39m \u001b[38;5;241m0\u001b[39m\n\u001b[1;32m     18\u001b[0m numerator \u001b[38;5;241m=\u001b[39m zs\u001b[38;5;241m*\u001b[39mtorch\u001b[38;5;241m.\u001b[39mdiag(X)\n\u001b[0;32m---> 19\u001b[0m X_bar \u001b[38;5;241m=\u001b[39m X \u001b[38;5;241m-\u001b[39m torch\u001b[38;5;241m.\u001b[39mdiag(\u001b[43mtorch\u001b[49m\u001b[38;5;241;43m.\u001b[39;49m\u001b[43mdiag\u001b[49m\u001b[43m(\u001b[49m\u001b[43mX\u001b[49m\u001b[43m)\u001b[49m)\n\u001b[1;32m     20\u001b[0m Xz \u001b[38;5;241m=\u001b[39m X_bar \u001b[38;5;241m@\u001b[39m zs\n\u001b[1;32m     21\u001b[0m denumerator \u001b[38;5;241m=\u001b[39m var_noise \u001b[38;5;241m+\u001b[39m Xz\n",
      "\u001b[0;31mKeyboardInterrupt\u001b[0m: "
     ]
    }
   ],
   "source": [
    "epochs = 100\n",
    "batch_size = 100\n",
    "train_utility, test_utility = [], []\n",
    "for epoch in range(epochs):\n",
    "    optimizer.zero_grad()\n",
    "    loss_batch, utility_epoch = [], []\n",
    "    loss_epoch = []\n",
    "    i = 0\n",
    "    for hyp in hyps_train:\n",
    "        X = hyp[\"I\"]\n",
    "        Dv_inv = hyp[\"Dv_inv\"]\n",
    "        De_inv = hyp[\"De_inv\"]\n",
    "        H = hyp[\"H\"]\n",
    "        W = hyp[\"W\"]\n",
    "        Z = HGNN(X, Dv_inv, De_inv, H, W, theta_HGNN)\n",
    "        loss, utility = loss_fn(Z, X, N)\n",
    "        loss_batch.append(loss)\n",
    "        utility_epoch.append(utility)\n",
    "        i+=1\n",
    "        if i < batch_size:\n",
    "            continue\n",
    "        loss_batch_mean = torch.stack(loss_batch).mean()\n",
    "        loss_batch_mean.backward()\n",
    "        optimizer.step()\n",
    "        optimizer.zero_grad()\n",
    "        i = 0\n",
    "        loss_batch = []\n",
    "    utility_epoch_test = []\n",
    "    for hyp in hyps_test:\n",
    "        X = hyp[\"I\"]\n",
    "        Dv_inv = hyp[\"Dv_inv\"]\n",
    "        De_inv = hyp[\"De_inv\"]\n",
    "        H = hyp[\"H\"]\n",
    "        W = hyp[\"W\"]\n",
    "        Z = HGNN(X, Dv_inv, De_inv, H, W, theta_HGNN)\n",
    "        loss, utility = loss_fn(Z, X, N)\n",
    "        utility_epoch_test.append(utility)\n",
    "    utility_epoch_mean = torch.stack(utility_epoch).mean()\n",
    "    utility_epoch_test_mean = torch.stack(utility_epoch_test).mean()\n",
    "    if epoch % 1 == 0:\n",
    "        print(f\"Epoch: {epoch}, Utility Train: {utility_epoch_mean:.5f}, Utility Test: {utility_epoch_test_mean:.5f}\")\n",
    "    train_utility.append(utility_epoch_mean)\n",
    "    test_utility.append(utility_epoch_test_mean)\n",
    "print(f\"Final utility per hypergraph: {torch.stack(utility_epoch_test).detach().numpy()}\")"
   ]
  },
  {
   "cell_type": "code",
   "execution_count": null,
   "metadata": {},
   "outputs": [],
   "source": [
    "import matplotlib.pyplot as plt"
   ]
  },
  {
   "cell_type": "code",
   "execution_count": 147,
   "metadata": {},
   "outputs": [
    {
     "data": {
      "text/plain": [
       "[tensor(11.1345, dtype=torch.float64, grad_fn=<MeanBackward0>),\n",
       " tensor(11.1345, dtype=torch.float64, grad_fn=<MeanBackward0>),\n",
       " tensor(11.1345, dtype=torch.float64, grad_fn=<MeanBackward0>),\n",
       " tensor(11.1345, dtype=torch.float64, grad_fn=<MeanBackward0>),\n",
       " tensor(11.1345, dtype=torch.float64, grad_fn=<MeanBackward0>),\n",
       " tensor(11.1345, dtype=torch.float64, grad_fn=<MeanBackward0>),\n",
       " tensor(11.1345, dtype=torch.float64, grad_fn=<MeanBackward0>),\n",
       " tensor(11.1345, dtype=torch.float64, grad_fn=<MeanBackward0>),\n",
       " tensor(11.1345, dtype=torch.float64, grad_fn=<MeanBackward0>),\n",
       " tensor(11.1345, dtype=torch.float64, grad_fn=<MeanBackward0>),\n",
       " tensor(11.1345, dtype=torch.float64, grad_fn=<MeanBackward0>),\n",
       " tensor(11.1345, dtype=torch.float64, grad_fn=<MeanBackward0>),\n",
       " tensor(11.1345, dtype=torch.float64, grad_fn=<MeanBackward0>),\n",
       " tensor(11.1345, dtype=torch.float64, grad_fn=<MeanBackward0>),\n",
       " tensor(11.1345, dtype=torch.float64, grad_fn=<MeanBackward0>),\n",
       " tensor(11.1345, dtype=torch.float64, grad_fn=<MeanBackward0>),\n",
       " tensor(11.1345, dtype=torch.float64, grad_fn=<MeanBackward0>),\n",
       " tensor(11.1345, dtype=torch.float64, grad_fn=<MeanBackward0>),\n",
       " tensor(11.1345, dtype=torch.float64, grad_fn=<MeanBackward0>),\n",
       " tensor(11.1345, dtype=torch.float64, grad_fn=<MeanBackward0>),\n",
       " tensor(11.1345, dtype=torch.float64, grad_fn=<MeanBackward0>),\n",
       " tensor(11.1345, dtype=torch.float64, grad_fn=<MeanBackward0>),\n",
       " tensor(11.1345, dtype=torch.float64, grad_fn=<MeanBackward0>),\n",
       " tensor(11.1345, dtype=torch.float64, grad_fn=<MeanBackward0>),\n",
       " tensor(11.1345, dtype=torch.float64, grad_fn=<MeanBackward0>),\n",
       " tensor(11.1345, dtype=torch.float64, grad_fn=<MeanBackward0>),\n",
       " tensor(11.1345, dtype=torch.float64, grad_fn=<MeanBackward0>),\n",
       " tensor(11.1345, dtype=torch.float64, grad_fn=<MeanBackward0>),\n",
       " tensor(11.1345, dtype=torch.float64, grad_fn=<MeanBackward0>),\n",
       " tensor(11.1345, dtype=torch.float64, grad_fn=<MeanBackward0>),\n",
       " tensor(11.1345, dtype=torch.float64, grad_fn=<MeanBackward0>),\n",
       " tensor(11.1345, dtype=torch.float64, grad_fn=<MeanBackward0>),\n",
       " tensor(11.1345, dtype=torch.float64, grad_fn=<MeanBackward0>),\n",
       " tensor(11.1345, dtype=torch.float64, grad_fn=<MeanBackward0>),\n",
       " tensor(11.1345, dtype=torch.float64, grad_fn=<MeanBackward0>),\n",
       " tensor(11.1345, dtype=torch.float64, grad_fn=<MeanBackward0>),\n",
       " tensor(11.1345, dtype=torch.float64, grad_fn=<MeanBackward0>),\n",
       " tensor(11.1345, dtype=torch.float64, grad_fn=<MeanBackward0>),\n",
       " tensor(11.1345, dtype=torch.float64, grad_fn=<MeanBackward0>),\n",
       " tensor(11.1345, dtype=torch.float64, grad_fn=<MeanBackward0>),\n",
       " tensor(11.1345, dtype=torch.float64, grad_fn=<MeanBackward0>),\n",
       " tensor(11.1345, dtype=torch.float64, grad_fn=<MeanBackward0>),\n",
       " tensor(11.1345, dtype=torch.float64, grad_fn=<MeanBackward0>),\n",
       " tensor(11.1345, dtype=torch.float64, grad_fn=<MeanBackward0>),\n",
       " tensor(11.1345, dtype=torch.float64, grad_fn=<MeanBackward0>),\n",
       " tensor(11.1345, dtype=torch.float64, grad_fn=<MeanBackward0>),\n",
       " tensor(11.1345, dtype=torch.float64, grad_fn=<MeanBackward0>),\n",
       " tensor(11.1345, dtype=torch.float64, grad_fn=<MeanBackward0>),\n",
       " tensor(11.1345, dtype=torch.float64, grad_fn=<MeanBackward0>),\n",
       " tensor(11.1345, dtype=torch.float64, grad_fn=<MeanBackward0>),\n",
       " tensor(11.1345, dtype=torch.float64, grad_fn=<MeanBackward0>),\n",
       " tensor(11.1345, dtype=torch.float64, grad_fn=<MeanBackward0>),\n",
       " tensor(11.1345, dtype=torch.float64, grad_fn=<MeanBackward0>),\n",
       " tensor(11.1345, dtype=torch.float64, grad_fn=<MeanBackward0>),\n",
       " tensor(11.1345, dtype=torch.float64, grad_fn=<MeanBackward0>),\n",
       " tensor(11.1345, dtype=torch.float64, grad_fn=<MeanBackward0>),\n",
       " tensor(11.1345, dtype=torch.float64, grad_fn=<MeanBackward0>),\n",
       " tensor(11.1345, dtype=torch.float64, grad_fn=<MeanBackward0>),\n",
       " tensor(11.1345, dtype=torch.float64, grad_fn=<MeanBackward0>),\n",
       " tensor(11.1345, dtype=torch.float64, grad_fn=<MeanBackward0>),\n",
       " tensor(11.1345, dtype=torch.float64, grad_fn=<MeanBackward0>),\n",
       " tensor(11.1345, dtype=torch.float64, grad_fn=<MeanBackward0>),\n",
       " tensor(11.1345, dtype=torch.float64, grad_fn=<MeanBackward0>),\n",
       " tensor(11.1345, dtype=torch.float64, grad_fn=<MeanBackward0>),\n",
       " tensor(11.1345, dtype=torch.float64, grad_fn=<MeanBackward0>),\n",
       " tensor(11.1345, dtype=torch.float64, grad_fn=<MeanBackward0>),\n",
       " tensor(11.1346, dtype=torch.float64, grad_fn=<MeanBackward0>),\n",
       " tensor(11.1346, dtype=torch.float64, grad_fn=<MeanBackward0>),\n",
       " tensor(11.1346, dtype=torch.float64, grad_fn=<MeanBackward0>),\n",
       " tensor(11.1346, dtype=torch.float64, grad_fn=<MeanBackward0>),\n",
       " tensor(11.1346, dtype=torch.float64, grad_fn=<MeanBackward0>),\n",
       " tensor(11.1346, dtype=torch.float64, grad_fn=<MeanBackward0>),\n",
       " tensor(11.1346, dtype=torch.float64, grad_fn=<MeanBackward0>),\n",
       " tensor(11.1346, dtype=torch.float64, grad_fn=<MeanBackward0>),\n",
       " tensor(11.1346, dtype=torch.float64, grad_fn=<MeanBackward0>),\n",
       " tensor(11.1346, dtype=torch.float64, grad_fn=<MeanBackward0>),\n",
       " tensor(11.1346, dtype=torch.float64, grad_fn=<MeanBackward0>),\n",
       " tensor(11.1346, dtype=torch.float64, grad_fn=<MeanBackward0>),\n",
       " tensor(11.1346, dtype=torch.float64, grad_fn=<MeanBackward0>),\n",
       " tensor(11.1346, dtype=torch.float64, grad_fn=<MeanBackward0>),\n",
       " tensor(11.1346, dtype=torch.float64, grad_fn=<MeanBackward0>),\n",
       " tensor(11.1346, dtype=torch.float64, grad_fn=<MeanBackward0>),\n",
       " tensor(11.1346, dtype=torch.float64, grad_fn=<MeanBackward0>),\n",
       " tensor(11.1346, dtype=torch.float64, grad_fn=<MeanBackward0>),\n",
       " tensor(11.1346, dtype=torch.float64, grad_fn=<MeanBackward0>),\n",
       " tensor(11.1346, dtype=torch.float64, grad_fn=<MeanBackward0>),\n",
       " tensor(11.1346, dtype=torch.float64, grad_fn=<MeanBackward0>),\n",
       " tensor(11.1346, dtype=torch.float64, grad_fn=<MeanBackward0>),\n",
       " tensor(11.1346, dtype=torch.float64, grad_fn=<MeanBackward0>),\n",
       " tensor(11.1346, dtype=torch.float64, grad_fn=<MeanBackward0>),\n",
       " tensor(11.1346, dtype=torch.float64, grad_fn=<MeanBackward0>),\n",
       " tensor(11.1346, dtype=torch.float64, grad_fn=<MeanBackward0>),\n",
       " tensor(11.1346, dtype=torch.float64, grad_fn=<MeanBackward0>),\n",
       " tensor(11.1346, dtype=torch.float64, grad_fn=<MeanBackward0>),\n",
       " tensor(11.1346, dtype=torch.float64, grad_fn=<MeanBackward0>),\n",
       " tensor(11.1346, dtype=torch.float64, grad_fn=<MeanBackward0>),\n",
       " tensor(11.1346, dtype=torch.float64, grad_fn=<MeanBackward0>),\n",
       " tensor(11.1346, dtype=torch.float64, grad_fn=<MeanBackward0>),\n",
       " tensor(11.1346, dtype=torch.float64, grad_fn=<MeanBackward0>),\n",
       " tensor(11.1346, dtype=torch.float64, grad_fn=<MeanBackward0>)]"
      ]
     },
     "execution_count": 147,
     "metadata": {},
     "output_type": "execute_result"
    }
   ],
   "source": [
    "train_utility"
   ]
  },
  {
   "cell_type": "code",
   "execution_count": 150,
   "metadata": {},
   "outputs": [
    {
     "data": {
      "text/plain": [
       "<matplotlib.legend.Legend at 0x7fcd1a7eb920>"
      ]
     },
     "execution_count": 150,
     "metadata": {},
     "output_type": "execute_result"
    },
    {
     "data": {
      "image/png": "[encoded data removed]",
      "text/plain": [
       "<Figure size 640x480 with 1 Axes>"
      ]
     },
     "metadata": {},
     "output_type": "display_data"
    }
   ],
   "source": [
    "plt.plot(torch.stack(train_utility).detach().numpy(), label='train')\n",
    "plt.plot(torch.stack(test_utility).detach().numpy(), label='test')\n",
    "plt.xlabel('Epoch')\n",
    "plt.ylabel('Utility')\n",
    "plt.grid()\n",
    "plt.legend()"
   ]
  },
  {
   "cell_type": "code",
   "execution_count": 138,
   "metadata": {},
   "outputs": [
    {
     "data": {
      "text/plain": [
       "(tensor(-8.7234, dtype=torch.float64, grad_fn=<NegBackward0>),\n",
       " tensor(8.7234, dtype=torch.float64, grad_fn=<SumBackward0>))"
      ]
     },
     "execution_count": 138,
     "metadata": {},
     "output_type": "execute_result"
    }
   ],
   "source": [
    "loss_fn(Z, X, N)"
   ]
  },
  {
   "cell_type": "code",
   "execution_count": 139,
   "metadata": {},
   "outputs": [
    {
     "data": {
      "text/plain": [
       "(tensor(9.7985, dtype=torch.float64), [0, 0, 0, 0, 0, 0, 0, 0, 1, 0])"
      ]
     },
     "execution_count": 139,
     "metadata": {},
     "output_type": "execute_result"
    }
   ],
   "source": [
    "exh_solver(V_H, None, V_H*[N], X, list(hyp['E'].values()))"
   ]
  },
  {
   "cell_type": "code",
   "execution_count": 16,
   "metadata": {},
   "outputs": [
    {
     "data": {
      "text/plain": [
       "[<matplotlib.lines.Line2D at 0x7f95ea363da0>]"
      ]
     },
     "execution_count": 16,
     "metadata": {},
     "output_type": "execute_result"
    },
    {
     "data": {
      "image/png": "[encoded data removed]",
      "text/plain": [
       "<Figure size 640x480 with 1 Axes>"
      ]
     },
     "metadata": {},
     "output_type": "display_data"
    }
   ],
   "source": [
    "plt.plot(torch.stack(HyperGCN['utility']).detach().numpy())"
   ]
  },
  {
   "cell_type": "code",
   "execution_count": null,
   "metadata": {},
   "outputs": [],
   "source": []
  }
 ],
 "metadata": {
  "kernelspec": {
   "display_name": "Python 3 (ipykernel)",
   "language": "python",
   "name": "python3"
  },
  "language_info": {
   "codemirror_mode": {
    "name": "ipython",
    "version": 3
   },
   "file_extension": ".py",
   "mimetype": "text/x-python",
   "name": "python",
   "nbconvert_exporter": "python",
   "pygments_lexer": "ipython3",
   "version": "3.12.2"
  }
 },
 "nbformat": 4,
 "nbformat_minor": 4
}
