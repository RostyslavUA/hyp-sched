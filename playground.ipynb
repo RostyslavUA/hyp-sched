{
 "cells": [
  {
   "cell_type": "code",
   "execution_count": 1,
   "metadata": {},
   "outputs": [],
   "source": [
    "import gurobipy\n",
    "from gurobipy import GRB"
   ]
  },
  {
   "cell_type": "markdown",
   "metadata": {},
   "source": [
    "# Pyomo Solver"
   ]
  },
  {
   "cell_type": "code",
   "execution_count": 13,
   "metadata": {},
   "outputs": [
    {
     "name": "stdout",
     "output_type": "stream",
     "text": [
      "Ipopt 3.14.16: \n",
      "==> Warning: Treating 0 binary and 10 integer variables as continuous.\n",
      "\n",
      "\n",
      "******************************************************************************\n",
      "This program contains Ipopt, a library for large-scale nonlinear optimization.\n",
      " Ipopt is released as open source code under the Eclipse Public License (EPL).\n",
      "         For more information visit https://github.com/coin-or/Ipopt\n",
      "******************************************************************************\n",
      "\n",
      "This is Ipopt version 3.14.16, running with linear solver MUMPS 5.6.2.\n",
      "\n",
      "Number of nonzeros in equality constraint Jacobian...:        0\n",
      "Number of nonzeros in inequality constraint Jacobian.:       14\n",
      "Number of nonzeros in Lagrangian Hessian.............:       55\n",
      "\n",
      "Total number of variables............................:       10\n",
      "                     variables with only lower bounds:        0\n",
      "                variables with lower and upper bounds:       10\n",
      "                     variables with only upper bounds:        0\n",
      "Total number of equality constraints.................:        0\n",
      "Total number of inequality constraints...............:        5\n",
      "        inequality constraints with only lower bounds:        0\n",
      "   inequality constraints with lower and upper bounds:        0\n",
      "        inequality constraints with only upper bounds:        5\n",
      "\n",
      "iter    objective    inf_pr   inf_du lg(mu)  ||d||  lg(rg) alpha_du alpha_pr  ls\n",
      "   0 -9.4192583e-02 0.00e+00 5.76e-01  -1.0 0.00e+00    -  0.00e+00 0.00e+00   0\n",
      "   1 -5.8484533e-01 0.00e+00 1.84e+00  -1.0 2.89e-01    -  1.00e+00 1.00e+00f  1\n",
      "   2 -1.0980840e+00 0.00e+00 3.47e-01  -1.0 9.54e-01    -  1.00e+00 1.00e+00f  1\n",
      "   3 -1.2123988e+00 0.00e+00 2.12e-01  -1.7 2.17e-01   0.0 1.00e+00 1.00e+00f  1\n",
      "   4 -1.2867923e+00 0.00e+00 3.01e-01  -1.7 1.13e-01   0.4 1.00e+00 1.00e+00f  1\n",
      "   5 -1.4639530e+00 0.00e+00 2.32e-01  -1.7 6.17e-01  -0.1 1.00e+00 3.10e-01f  1\n",
      "   6 -1.5178338e+00 0.00e+00 4.77e-02  -1.7 1.40e-01  -0.5 1.00e+00 1.00e+00f  1\n",
      "   7 -1.5942847e+00 0.00e+00 7.28e-02  -2.5 2.92e+00    -  2.10e-01 1.05e-01f  1\n",
      "   8 -1.7246839e+00 0.00e+00 1.49e-02  -2.5 2.97e-01    -  8.61e-01 7.70e-01f  1\n",
      "   9 -1.7659084e+00 0.00e+00 1.08e-02  -3.8 1.43e-01    -  9.21e-01 7.78e-01f  1\n",
      "iter    objective    inf_pr   inf_du lg(mu)  ||d||  lg(rg) alpha_du alpha_pr  ls\n",
      "  10 -1.7735923e+00 0.00e+00 2.95e-05  -3.8 9.47e-03    -  1.00e+00 1.00e+00f  1\n",
      "  11 -1.7752356e+00 0.00e+00 2.62e-06  -5.7 2.29e-03    -  1.00e+00 1.00e+00f  1\n",
      "  12 -1.7752540e+00 0.00e+00 2.88e-10  -8.6 2.51e-05    -  1.00e+00 1.00e+00f  1\n",
      "\n",
      "Number of Iterations....: 12\n",
      "\n",
      "                                   (scaled)                 (unscaled)\n",
      "Objective...............:  -1.7752539799353197e+00   -1.7752539799353197e+00\n",
      "Dual infeasibility......:   2.8829898508674918e-10    2.8829898508674918e-10\n",
      "Constraint violation....:   0.0000000000000000e+00    0.0000000000000000e+00\n",
      "Variable bound violation:   7.3746995206651621e-09    7.3746995206651621e-09\n",
      "Complementarity.........:   3.0201648820401155e-09    3.0201648820401155e-09\n",
      "Overall NLP error.......:   3.0201648820401155e-09    3.0201648820401155e-09\n",
      "\n",
      "\n",
      "Number of objective function evaluations             = 13\n",
      "Number of objective gradient evaluations             = 13\n",
      "Number of equality constraint evaluations            = 0\n",
      "Number of inequality constraint evaluations          = 13\n",
      "Number of equality constraint Jacobian evaluations   = 0\n",
      "Number of inequality constraint Jacobian evaluations = 13\n",
      "Number of Lagrangian Hessian evaluations             = 12\n",
      "Total seconds in IPOPT                               = 0.008\n",
      "\n",
      "EXIT: Optimal Solution Found.\n",
      "\bOptimal link schedule: [0.9999999870277039, 1.0000000071643698, -6.564745212092796e-09, -5.935305841791376e-09, 9.856789365435804e-10, -5.847998175142121e-09, -7.374699520665162e-09, 1.6937904064743875e-08, -9.283082041104283e-10, 6.278710408974089e-09]\n",
      "Maximum throughput: 1.7752539799353197\n"
     ]
    }
   ],
   "source": [
    "import numpy as np\n",
    "from pyomo.environ import (\n",
    "    ConcreteModel, Var, Objective, ConstraintList, SolverFactory, NonNegativeReals, Binary, maximize\n",
    ")\n",
    "\n",
    "# Step 1: Define problem parameters\n",
    "V_H = 10  # Number of nodes (links)\n",
    "E_H = 5   # Number of hyperedges\n",
    "\n",
    "# Signal strengths, noise power, and interference matrix\n",
    "S = np.random.rand(V_H)  # Signal strength\n",
    "N = np.random.rand(V_H)  # Noise power\n",
    "I = np.random.rand(V_H, V_H)  # Interference matrix (I_ij)\n",
    "\n",
    "# Hyperedges (list of node indices per hyperedge)\n",
    "hyperedges = [\n",
    "    [0, 1, 2],\n",
    "    [2, 3, 4],\n",
    "    [4, 5, 6],\n",
    "    [6, 7, 8],\n",
    "    [8, 9]\n",
    "]\n",
    "\n",
    "# Thresholds for hyperedges\n",
    "theta = np.random.rand(E_H)\n",
    "\n",
    "# Step 2: Create Pyomo model\n",
    "model = ConcreteModel()\n",
    "\n",
    "# Step 3: Define binary decision variables for each link (b_i)\n",
    "model.b = Var(range(V_H), domain=Binary)  # b[i] = 1 if link i is active, 0 otherwise\n",
    "\n",
    "# Step 4: Define the objective function (maximize throughput)\n",
    "def throughput(model):\n",
    "    total_throughput = 0\n",
    "    for i in range(V_H):\n",
    "        interference = sum(model.b[j] * I[i, j] for j in range(V_H) if j != i)  # Interference from other active links\n",
    "        denominator = N[i] + interference  # Noise + interference\n",
    "        total_throughput += (S[i] * model.b[i]) / denominator  # Contribution of link i to throughput\n",
    "    return total_throughput\n",
    "\n",
    "model.obj = Objective(rule=throughput, sense=maximize)\n",
    "\n",
    "# Step 5: Add constraints for hyperedges (each hyperedge has a threshold)\n",
    "model.constraints = ConstraintList()\n",
    "\n",
    "for e_idx, hyperedge in enumerate(hyperedges):\n",
    "    model.constraints.add(\n",
    "        sum(model.b[i] for i in hyperedge) <= len(hyperedge)-1\n",
    "    )\n",
    "\n",
    "# Step 6: Solve the model\n",
    "solver = SolverFactory('ipopt')  # Use Ipopt for nonlinear problems\n",
    "result = solver.solve(model, tee=True)\n",
    "\n",
    "# Step 7: Extract the results\n",
    "optimal_decisions = [model.b[i].value for i in range(V_H)]\n",
    "\n",
    "# Output the optimal link schedule\n",
    "print(\"Optimal link schedule:\", optimal_decisions)\n",
    "print(\"Maximum throughput:\", model.obj())\n"
   ]
  },
  {
   "cell_type": "markdown",
   "metadata": {},
   "source": [
    "# Exhaustive Search Solver"
   ]
  },
  {
   "cell_type": "code",
   "execution_count": 14,
   "metadata": {},
   "outputs": [],
   "source": [
    "# exhaustive search\n",
    "def exh_solver(V_H, E_H, S, N, I, hyperedges):\n",
    "    best_throughput = 0\n",
    "    best_schedule = None\n",
    "\n",
    "    for i in range(2**V_H):\n",
    "        schedule = [int(x) for x in bin(i)[2:].zfill(V_H)]\n",
    "        throughput = 0\n",
    "\n",
    "        # check if the schedule satisfies the hyperedge constraints\n",
    "        valid_schedule = True\n",
    "        for hyperedge in hyperedges:\n",
    "            if sum(schedule[j] for j in hyperedge) == len(hyperedge):\n",
    "                valid_schedule = False\n",
    "                break\n",
    "        \n",
    "        if not valid_schedule:\n",
    "            continue\n",
    "\n",
    "        # calculate throughput\n",
    "        for i in range(V_H):\n",
    "            interference = sum(schedule[j] * I[i, j] for j in range(V_H) if j != i)\n",
    "            denominator = N[i] + interference\n",
    "            throughput += (S[i] * schedule[i]) / denominator\n",
    "        \n",
    "        if throughput > best_throughput:\n",
    "            best_throughput = throughput\n",
    "            best_schedule = schedule\n",
    "\n",
    "    return best_throughput, best_schedule\n",
    "        "
   ]
  },
  {
   "cell_type": "code",
   "execution_count": 15,
   "metadata": {},
   "outputs": [
    {
     "name": "stdout",
     "output_type": "stream",
     "text": [
      "Exhaustive search results:\n",
      "Optimal link schedule: [1, 0, 1, 0, 0, 0, 0, 0, 0, 0]\n",
      "Maximum throughput: 2.19086662160465\n"
     ]
    }
   ],
   "source": [
    "best_throughput, best_schedule = exh_solver(V_H, E_H, S, N, I, hyperedges)\n",
    "\n",
    "print(\"Exhaustive search results:\")\n",
    "print(\"Optimal link schedule:\", best_schedule)\n",
    "print(\"Maximum throughput:\", best_throughput)"
   ]
  },
  {
   "cell_type": "code",
   "execution_count": null,
   "metadata": {},
   "outputs": [],
   "source": []
  }
 ],
 "metadata": {
  "kernelspec": {
   "display_name": "base",
   "language": "python",
   "name": "python3"
  },
  "language_info": {
   "codemirror_mode": {
    "name": "ipython",
    "version": 3
   },
   "file_extension": ".py",
   "mimetype": "text/x-python",
   "name": "python",
   "nbconvert_exporter": "python",
   "pygments_lexer": "ipython3",
   "version": "3.11.5"
  }
 },
 "nbformat": 4,
 "nbformat_minor": 2
}
