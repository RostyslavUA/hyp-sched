{
 "cells": [
  {
   "cell_type": "code",
   "execution_count": 35,
   "metadata": {},
   "outputs": [],
   "source": [
    "import numpy as np\n",
    "from utils import get_hyperedges, get_data, get_H, check_feasibility\n",
    "from model import CustomLossBatch, utility_fn\n",
    "from datagen import generate_data\n",
    "from LinSATNet import linsat_layer_modified\n",
    "import time"
   ]
  },
  {
   "cell_type": "markdown",
   "metadata": {
    "jp-MarkdownHeadingCollapsed": true
   },
   "source": [
    "# Pyomo Solver"
   ]
  },
  {
   "cell_type": "code",
   "execution_count": 2,
   "metadata": {
    "scrolled": true
   },
   "outputs": [],
   "source": [
    "# from pyomo.environ import (\n",
    "#     ConcreteModel, Var, Objective, ConstraintList, SolverFactory, NonNegativeReals, Binary, maximize\n",
    "# )\n",
    "# # Step 2: Create Pyomo model\n",
    "# model = ConcreteModel()\n",
    "\n",
    "# # Step 3: Define binary decision variables for each link (b_i)\n",
    "# model.b = Var(range(V_H), domain=Binary)  # b[i] = 1 if link i is active, 0 otherwise\n",
    "\n",
    "# # Step 4: Define the objective function (maximize throughput)\n",
    "# def throughput(model):\n",
    "#     total_throughput = 0\n",
    "#     for i in range(V_H):\n",
    "#         interference = sum(model.b[j] * I[i, j] for j in range(V_H) if j != i)  # Interference from other active links\n",
    "#         denominator = N[i] + interference  # Noise + interference\n",
    "#         total_throughput += (I[i,i] * model.b[i]) / denominator  # Contribution of link i to throughput\n",
    "#     return total_throughput\n",
    "\n",
    "# model.obj = Objective(rule=throughput, sense=maximize)\n",
    "\n",
    "# # Step 5: Add constraints for hyperedges (each hyperedge has a threshold)\n",
    "# model.constraints = ConstraintList()\n",
    "\n",
    "# for e_idx, hyperedge in enumerate(hyperedges):\n",
    "#     model.constraints.add(\n",
    "#         sum(model.b[i] for i in hyperedge) <= len(hyperedge)-1\n",
    "#     )\n",
    "\n",
    "# # Step 6: Solve the model\n",
    "# solver = SolverFactory('ipopt')  # Use Ipopt for nonlinear problems\n",
    "# result = solver.solve(model, tee=True)\n",
    "\n",
    "# # Step 7: Extract the results\n",
    "# optimal_decisions = [model.b[i].value for i in range(V_H)]\n",
    "\n",
    "# # Output the optimal link schedule\n",
    "# print(\"Optimal link schedule:\", optimal_decisions)\n",
    "# print(\"Maximum throughput:\", model.obj())"
   ]
  },
  {
   "cell_type": "code",
   "execution_count": null,
   "metadata": {},
   "outputs": [],
   "source": []
  },
  {
   "cell_type": "markdown",
   "metadata": {
    "jp-MarkdownHeadingCollapsed": true
   },
   "source": [
    "# Generate data"
   ]
  },
  {
   "cell_type": "code",
   "execution_count": 2,
   "metadata": {},
   "outputs": [],
   "source": [
    "# Step 1: Define problem parameters\n",
    "V_H = 10  # Number of nodes (links)\n",
    "E_H = 5   # Number of hyperedges\n",
    "# N = 0.1  # Noise power\n",
    "N_db = -136.87  # dB\n",
    "N = 10**(N_db/10)\n",
    "theta = 0.5  # Thresholds for hyperedges\n",
    "k = 4  # max hyperedge cardinality\n",
    "train_samples = 10000\n",
    "test_samples = 100\n",
    "batch_size = 100"
   ]
  },
  {
   "cell_type": "code",
   "execution_count": 3,
   "metadata": {},
   "outputs": [],
   "source": [
    "itens_train, hlist_train = get_data(train_samples, V_H, N, theta, k)\n",
    "itens_test, hlist_test = get_data(test_samples, V_H, N, theta, k)\n",
    "H_train = get_H(hlist_train, V_H, train_samples)\n",
    "H_test = get_H(hlist_test, V_H, test_samples)"
   ]
  },
  {
   "cell_type": "markdown",
   "metadata": {},
   "source": [
    "# Load data"
   ]
  },
  {
   "cell_type": "code",
   "execution_count": 39,
   "metadata": {},
   "outputs": [],
   "source": [
    "with open('train_dataset_n10.pkl', 'rb') as f:\n",
    "    train_dataset = pickle.load(f)\n",
    "with open('test_dataset_n10.pkl', 'rb') as f:\n",
    "    test_dataset = pickle.load(f)"
   ]
  },
  {
   "cell_type": "markdown",
   "metadata": {},
   "source": [
    "# Exhaustive Search Solver"
   ]
  },
  {
   "cell_type": "code",
   "execution_count": 40,
   "metadata": {},
   "outputs": [],
   "source": [
    "# exhaustive search\n",
    "def exh_solver(V_H, E_H, N, I, hyperedges):\n",
    "    best_throughput = 0\n",
    "    best_schedule = None\n",
    "    for i in range(2**V_H):\n",
    "        schedule = [int(x) for x in bin(i)[2:].zfill(V_H)]\n",
    "        throughput = 0\n",
    "\n",
    "        # check if the schedule satisfies the hyperedge constraints\n",
    "        valid_schedule = True\n",
    "        for hyperedge in hyperedges:\n",
    "            if sum(schedule[j] for j in hyperedge) == len(hyperedge):\n",
    "                valid_schedule = False\n",
    "                break\n",
    "        \n",
    "        if not valid_schedule:\n",
    "            continue\n",
    "        # calculate throughput\n",
    "        for i in range(V_H):\n",
    "            interference = sum(schedule[j] * I[i, j] for j in range(V_H) if j != i)\n",
    "            denominator = N[i] + interference\n",
    "            throughput += torch.log2(1+(I[i,i] * schedule[i]) / denominator)\n",
    "        \n",
    "        if throughput > best_throughput:\n",
    "            best_throughput = throughput\n",
    "            best_schedule = schedule\n",
    "\n",
    "    return best_throughput, best_schedule\n",
    "        "
   ]
  },
  {
   "cell_type": "code",
   "execution_count": 41,
   "metadata": {
    "scrolled": true
   },
   "outputs": [
    {
     "name": "stdout",
     "output_type": "stream",
     "text": [
      "Exhaustive search results:\n",
      "Optimal link schedule: [0, 0, 0, 0, 0, 0, 0, 0, 0, 1]\n",
      "Maximum throughput: tensor(35.2712, dtype=torch.float64) bits/s/Hz\n",
      "Exhaustive search results:\n",
      "Optimal link schedule: [0, 0, 0, 0, 0, 0, 1, 0, 0, 0]\n",
      "Maximum throughput: tensor(34.8647, dtype=torch.float64) bits/s/Hz\n",
      "Exhaustive search results:\n",
      "Optimal link schedule: [1, 0, 0, 0, 0, 0, 0, 0, 0, 0]\n",
      "Maximum throughput: tensor(35.7684, dtype=torch.float64) bits/s/Hz\n",
      "Exhaustive search results:\n",
      "Optimal link schedule: [0, 0, 1, 0, 0, 0, 0, 0, 0, 0]\n",
      "Maximum throughput: tensor(33.9763, dtype=torch.float64) bits/s/Hz\n",
      "Exhaustive search results:\n",
      "Optimal link schedule: [0, 0, 0, 0, 0, 0, 0, 0, 0, 1]\n",
      "Maximum throughput: tensor(35.8668, dtype=torch.float64) bits/s/Hz\n",
      "Exhaustive search results:\n",
      "Optimal link schedule: [0, 0, 0, 0, 1, 0, 0, 0, 0, 0]\n",
      "Maximum throughput: tensor(37.0554, dtype=torch.float64) bits/s/Hz\n",
      "Exhaustive search results:\n",
      "Optimal link schedule: [0, 0, 0, 0, 0, 0, 1, 0, 0, 0]\n",
      "Maximum throughput: tensor(36.4148, dtype=torch.float64) bits/s/Hz\n",
      "Exhaustive search results:\n",
      "Optimal link schedule: [1, 0, 0, 0, 0, 0, 0, 0, 0, 0]\n",
      "Maximum throughput: tensor(34.8846, dtype=torch.float64) bits/s/Hz\n",
      "Exhaustive search results:\n",
      "Optimal link schedule: [0, 0, 0, 0, 0, 0, 0, 1, 0, 0]\n",
      "Maximum throughput: tensor(36.4182, dtype=torch.float64) bits/s/Hz\n",
      "Exhaustive search results:\n",
      "Optimal link schedule: [0, 1, 0, 0, 0, 0, 0, 0, 0, 0]\n",
      "Maximum throughput: tensor(34.6175, dtype=torch.float64) bits/s/Hz\n",
      "Exhaustive search results:\n",
      "Optimal link schedule: [0, 0, 0, 0, 0, 0, 0, 0, 0, 1]\n",
      "Maximum throughput: tensor(34.2887, dtype=torch.float64) bits/s/Hz\n",
      "Exhaustive search results:\n",
      "Optimal link schedule: [0, 0, 0, 1, 0, 0, 0, 0, 0, 0]\n",
      "Maximum throughput: tensor(35.5870, dtype=torch.float64) bits/s/Hz\n",
      "Exhaustive search results:\n",
      "Optimal link schedule: [0, 0, 0, 0, 0, 0, 0, 0, 1, 0]\n",
      "Maximum throughput: tensor(34.1115, dtype=torch.float64) bits/s/Hz\n",
      "Exhaustive search results:\n",
      "Optimal link schedule: [1, 0, 0, 0, 0, 0, 0, 0, 0, 0]\n",
      "Maximum throughput: tensor(34.8159, dtype=torch.float64) bits/s/Hz\n",
      "Exhaustive search results:\n",
      "Optimal link schedule: [0, 0, 0, 0, 0, 0, 0, 0, 0, 1]\n",
      "Maximum throughput: tensor(34.1029, dtype=torch.float64) bits/s/Hz\n",
      "Exhaustive search results:\n",
      "Optimal link schedule: [0, 0, 0, 0, 0, 0, 0, 1, 0, 0]\n",
      "Maximum throughput: tensor(35.3887, dtype=torch.float64) bits/s/Hz\n",
      "Exhaustive search results:\n",
      "Optimal link schedule: [0, 1, 0, 0, 0, 0, 0, 0, 0, 0]\n",
      "Maximum throughput: tensor(33.7775, dtype=torch.float64) bits/s/Hz\n",
      "Exhaustive search results:\n",
      "Optimal link schedule: [0, 0, 0, 1, 0, 0, 0, 0, 0, 0]\n",
      "Maximum throughput: tensor(35.6060, dtype=torch.float64) bits/s/Hz\n",
      "Exhaustive search results:\n",
      "Optimal link schedule: [0, 0, 0, 0, 0, 0, 0, 0, 1, 0]\n",
      "Maximum throughput: tensor(33.9939, dtype=torch.float64) bits/s/Hz\n",
      "Exhaustive search results:\n",
      "Optimal link schedule: [0, 0, 0, 0, 0, 0, 0, 0, 1, 0]\n",
      "Maximum throughput: tensor(34.8671, dtype=torch.float64) bits/s/Hz\n",
      "Exhaustive search results:\n",
      "Optimal link schedule: [0, 0, 0, 0, 1, 0, 0, 0, 0, 0]\n",
      "Maximum throughput: tensor(34.0691, dtype=torch.float64) bits/s/Hz\n",
      "Exhaustive search results:\n",
      "Optimal link schedule: [0, 0, 0, 0, 0, 0, 1, 0, 0, 0]\n",
      "Maximum throughput: tensor(33.4709, dtype=torch.float64) bits/s/Hz\n",
      "Exhaustive search results:\n",
      "Optimal link schedule: [0, 0, 0, 1, 0, 0, 0, 0, 0, 0]\n",
      "Maximum throughput: tensor(35.1960, dtype=torch.float64) bits/s/Hz\n",
      "Exhaustive search results:\n",
      "Optimal link schedule: [0, 1, 0, 0, 0, 0, 0, 0, 0, 0]\n",
      "Maximum throughput: tensor(33.8621, dtype=torch.float64) bits/s/Hz\n",
      "Exhaustive search results:\n",
      "Optimal link schedule: [0, 1, 0, 0, 0, 0, 0, 0, 0, 0]\n",
      "Maximum throughput: tensor(34.8244, dtype=torch.float64) bits/s/Hz\n",
      "Exhaustive search results:\n",
      "Optimal link schedule: [0, 0, 0, 0, 0, 0, 0, 0, 1, 0]\n",
      "Maximum throughput: tensor(34.0230, dtype=torch.float64) bits/s/Hz\n",
      "Exhaustive search results:\n",
      "Optimal link schedule: [0, 0, 1, 0, 0, 0, 0, 0, 0, 0]\n",
      "Maximum throughput: tensor(35.3986, dtype=torch.float64) bits/s/Hz\n",
      "Exhaustive search results:\n",
      "Optimal link schedule: [0, 0, 0, 0, 0, 0, 1, 0, 0, 0]\n",
      "Maximum throughput: tensor(33.0708, dtype=torch.float64) bits/s/Hz\n",
      "Exhaustive search results:\n",
      "Optimal link schedule: [1, 0, 0, 0, 0, 0, 0, 0, 0, 0]\n",
      "Maximum throughput: tensor(36.0573, dtype=torch.float64) bits/s/Hz\n",
      "Exhaustive search results:\n",
      "Optimal link schedule: [0, 0, 0, 0, 0, 1, 0, 0, 0, 0]\n",
      "Maximum throughput: tensor(34.5453, dtype=torch.float64) bits/s/Hz\n",
      "Exhaustive search results:\n",
      "Optimal link schedule: [0, 0, 0, 0, 0, 0, 0, 0, 1, 0]\n",
      "Maximum throughput: tensor(33.7624, dtype=torch.float64) bits/s/Hz\n",
      "Exhaustive search results:\n",
      "Optimal link schedule: [0, 0, 1, 0, 0, 0, 0, 0, 0, 0]\n",
      "Maximum throughput: tensor(34.2089, dtype=torch.float64) bits/s/Hz\n",
      "Exhaustive search results:\n",
      "Optimal link schedule: [0, 0, 0, 0, 0, 1, 0, 0, 0, 0]\n",
      "Maximum throughput: tensor(34.4187, dtype=torch.float64) bits/s/Hz\n",
      "Exhaustive search results:\n",
      "Optimal link schedule: [0, 0, 1, 0, 0, 0, 0, 0, 0, 0]\n",
      "Maximum throughput: tensor(34.4753, dtype=torch.float64) bits/s/Hz\n",
      "Exhaustive search results:\n",
      "Optimal link schedule: [0, 0, 0, 0, 0, 0, 0, 0, 1, 0]\n",
      "Maximum throughput: tensor(33.9443, dtype=torch.float64) bits/s/Hz\n",
      "Exhaustive search results:\n",
      "Optimal link schedule: [0, 0, 0, 0, 0, 1, 0, 0, 0, 0]\n",
      "Maximum throughput: tensor(34.0414, dtype=torch.float64) bits/s/Hz\n",
      "Exhaustive search results:\n",
      "Optimal link schedule: [1, 0, 0, 0, 0, 0, 0, 0, 0, 0]\n",
      "Maximum throughput: tensor(34.8324, dtype=torch.float64) bits/s/Hz\n",
      "Exhaustive search results:\n",
      "Optimal link schedule: [1, 0, 0, 0, 0, 0, 0, 0, 0, 0]\n",
      "Maximum throughput: tensor(35.4708, dtype=torch.float64) bits/s/Hz\n",
      "Exhaustive search results:\n",
      "Optimal link schedule: [1, 0, 0, 0, 0, 0, 0, 0, 0, 0]\n",
      "Maximum throughput: tensor(33.7641, dtype=torch.float64) bits/s/Hz\n",
      "Exhaustive search results:\n",
      "Optimal link schedule: [0, 0, 0, 0, 0, 1, 0, 0, 0, 0]\n",
      "Maximum throughput: tensor(35.9873, dtype=torch.float64) bits/s/Hz\n",
      "Exhaustive search results:\n",
      "Optimal link schedule: [0, 0, 0, 0, 0, 0, 0, 1, 0, 0]\n",
      "Maximum throughput: tensor(35.4044, dtype=torch.float64) bits/s/Hz\n",
      "Exhaustive search results:\n",
      "Optimal link schedule: [0, 0, 0, 0, 0, 0, 0, 1, 0, 0]\n",
      "Maximum throughput: tensor(34.1783, dtype=torch.float64) bits/s/Hz\n",
      "Exhaustive search results:\n",
      "Optimal link schedule: [0, 1, 0, 0, 0, 0, 0, 0, 0, 0]\n",
      "Maximum throughput: tensor(33.7249, dtype=torch.float64) bits/s/Hz\n",
      "Exhaustive search results:\n",
      "Optimal link schedule: [0, 0, 0, 0, 1, 0, 0, 0, 0, 0]\n",
      "Maximum throughput: tensor(35.6391, dtype=torch.float64) bits/s/Hz\n",
      "Exhaustive search results:\n",
      "Optimal link schedule: [0, 0, 0, 0, 0, 0, 0, 1, 0, 0]\n",
      "Maximum throughput: tensor(34.0882, dtype=torch.float64) bits/s/Hz\n",
      "Exhaustive search results:\n",
      "Optimal link schedule: [0, 0, 0, 0, 0, 0, 0, 0, 0, 1]\n",
      "Maximum throughput: tensor(35.8594, dtype=torch.float64) bits/s/Hz\n",
      "Exhaustive search results:\n",
      "Optimal link schedule: [0, 0, 0, 0, 0, 0, 0, 0, 0, 1]\n",
      "Maximum throughput: tensor(35.1834, dtype=torch.float64) bits/s/Hz\n",
      "Exhaustive search results:\n",
      "Optimal link schedule: [0, 0, 0, 0, 0, 0, 0, 0, 0, 1]\n",
      "Maximum throughput: tensor(35.0541, dtype=torch.float64) bits/s/Hz\n",
      "Exhaustive search results:\n",
      "Optimal link schedule: [0, 0, 0, 1, 0, 0, 0, 0, 0, 0]\n",
      "Maximum throughput: tensor(36.2158, dtype=torch.float64) bits/s/Hz\n",
      "Exhaustive search results:\n",
      "Optimal link schedule: [0, 0, 0, 0, 1, 0, 0, 0, 0, 0]\n",
      "Maximum throughput: tensor(33.9927, dtype=torch.float64) bits/s/Hz\n",
      "Exhaustive search results:\n",
      "Optimal link schedule: [0, 0, 0, 0, 0, 0, 0, 0, 0, 1]\n",
      "Maximum throughput: tensor(34.8034, dtype=torch.float64) bits/s/Hz\n",
      "Exhaustive search results:\n",
      "Optimal link schedule: [0, 0, 1, 0, 0, 0, 0, 0, 0, 0]\n",
      "Maximum throughput: tensor(32.8005, dtype=torch.float64) bits/s/Hz\n",
      "Exhaustive search results:\n",
      "Optimal link schedule: [0, 1, 0, 0, 0, 0, 0, 0, 0, 0]\n",
      "Maximum throughput: tensor(34.5789, dtype=torch.float64) bits/s/Hz\n",
      "Exhaustive search results:\n",
      "Optimal link schedule: [0, 0, 0, 0, 0, 0, 0, 0, 1, 0]\n",
      "Maximum throughput: tensor(32.5675, dtype=torch.float64) bits/s/Hz\n",
      "Exhaustive search results:\n",
      "Optimal link schedule: [1, 0, 0, 0, 0, 0, 0, 0, 0, 0]\n",
      "Maximum throughput: tensor(34.9265, dtype=torch.float64) bits/s/Hz\n",
      "Exhaustive search results:\n",
      "Optimal link schedule: [0, 0, 0, 1, 0, 0, 0, 0, 0, 0]\n",
      "Maximum throughput: tensor(36.5912, dtype=torch.float64) bits/s/Hz\n",
      "Exhaustive search results:\n",
      "Optimal link schedule: [0, 0, 0, 0, 0, 0, 1, 0, 0, 0]\n",
      "Maximum throughput: tensor(35.1970, dtype=torch.float64) bits/s/Hz\n",
      "Exhaustive search results:\n",
      "Optimal link schedule: [0, 0, 0, 0, 0, 0, 0, 1, 0, 0]\n",
      "Maximum throughput: tensor(33.4604, dtype=torch.float64) bits/s/Hz\n",
      "Exhaustive search results:\n",
      "Optimal link schedule: [0, 0, 0, 0, 0, 0, 1, 0, 0, 0]\n",
      "Maximum throughput: tensor(32.7606, dtype=torch.float64) bits/s/Hz\n",
      "Exhaustive search results:\n",
      "Optimal link schedule: [1, 0, 0, 0, 0, 0, 0, 0, 0, 0]\n",
      "Maximum throughput: tensor(33.4807, dtype=torch.float64) bits/s/Hz\n",
      "Exhaustive search results:\n",
      "Optimal link schedule: [1, 0, 0, 0, 0, 0, 0, 0, 0, 0]\n",
      "Maximum throughput: tensor(35.5186, dtype=torch.float64) bits/s/Hz\n",
      "Exhaustive search results:\n",
      "Optimal link schedule: [1, 0, 0, 0, 0, 0, 0, 0, 0, 0]\n",
      "Maximum throughput: tensor(34.4707, dtype=torch.float64) bits/s/Hz\n",
      "Exhaustive search results:\n",
      "Optimal link schedule: [0, 0, 1, 0, 0, 0, 0, 0, 0, 0]\n",
      "Maximum throughput: tensor(35.1496, dtype=torch.float64) bits/s/Hz\n",
      "Exhaustive search results:\n",
      "Optimal link schedule: [0, 0, 0, 0, 0, 0, 0, 0, 0, 1]\n",
      "Maximum throughput: tensor(35.2557, dtype=torch.float64) bits/s/Hz\n",
      "Exhaustive search results:\n",
      "Optimal link schedule: [0, 1, 0, 0, 0, 0, 0, 0, 0, 0]\n",
      "Maximum throughput: tensor(32.7172, dtype=torch.float64) bits/s/Hz\n",
      "Exhaustive search results:\n",
      "Optimal link schedule: [0, 0, 0, 0, 1, 0, 0, 0, 0, 0]\n",
      "Maximum throughput: tensor(36.5988, dtype=torch.float64) bits/s/Hz\n",
      "Exhaustive search results:\n",
      "Optimal link schedule: [0, 0, 0, 0, 0, 0, 1, 0, 0, 0]\n",
      "Maximum throughput: tensor(33.8501, dtype=torch.float64) bits/s/Hz\n",
      "Exhaustive search results:\n",
      "Optimal link schedule: [0, 0, 0, 0, 0, 0, 1, 0, 0, 0]\n",
      "Maximum throughput: tensor(33.6049, dtype=torch.float64) bits/s/Hz\n",
      "Exhaustive search results:\n",
      "Optimal link schedule: [0, 0, 0, 0, 0, 0, 1, 0, 0, 0]\n",
      "Maximum throughput: tensor(36.2705, dtype=torch.float64) bits/s/Hz\n",
      "Exhaustive search results:\n",
      "Optimal link schedule: [0, 1, 0, 0, 0, 0, 0, 0, 0, 0]\n",
      "Maximum throughput: tensor(34.5960, dtype=torch.float64) bits/s/Hz\n",
      "Exhaustive search results:\n",
      "Optimal link schedule: [0, 0, 0, 1, 0, 0, 0, 0, 0, 0]\n",
      "Maximum throughput: tensor(35.4348, dtype=torch.float64) bits/s/Hz\n",
      "Exhaustive search results:\n",
      "Optimal link schedule: [0, 0, 1, 0, 0, 0, 0, 0, 0, 0]\n",
      "Maximum throughput: tensor(31.5258, dtype=torch.float64) bits/s/Hz\n",
      "Exhaustive search results:\n",
      "Optimal link schedule: [0, 0, 0, 0, 0, 1, 0, 0, 0, 0]\n",
      "Maximum throughput: tensor(33.9139, dtype=torch.float64) bits/s/Hz\n",
      "Exhaustive search results:\n",
      "Optimal link schedule: [0, 0, 0, 1, 0, 0, 0, 0, 0, 0]\n",
      "Maximum throughput: tensor(35.9352, dtype=torch.float64) bits/s/Hz\n",
      "Exhaustive search results:\n",
      "Optimal link schedule: [0, 0, 0, 0, 0, 0, 0, 0, 0, 1]\n",
      "Maximum throughput: tensor(35.6268, dtype=torch.float64) bits/s/Hz\n",
      "Exhaustive search results:\n",
      "Optimal link schedule: [0, 0, 0, 0, 0, 0, 1, 0, 0, 0]\n",
      "Maximum throughput: tensor(36.9916, dtype=torch.float64) bits/s/Hz\n",
      "Exhaustive search results:\n",
      "Optimal link schedule: [0, 0, 0, 0, 0, 0, 0, 0, 0, 1]\n",
      "Maximum throughput: tensor(33.4032, dtype=torch.float64) bits/s/Hz\n",
      "Exhaustive search results:\n",
      "Optimal link schedule: [0, 0, 0, 0, 0, 0, 0, 0, 0, 1]\n",
      "Maximum throughput: tensor(34.4595, dtype=torch.float64) bits/s/Hz\n",
      "Exhaustive search results:\n",
      "Optimal link schedule: [0, 0, 0, 0, 0, 0, 0, 0, 0, 1]\n",
      "Maximum throughput: tensor(33.6096, dtype=torch.float64) bits/s/Hz\n",
      "Exhaustive search results:\n",
      "Optimal link schedule: [0, 0, 0, 0, 0, 0, 0, 0, 1, 0]\n",
      "Maximum throughput: tensor(34.0091, dtype=torch.float64) bits/s/Hz\n",
      "Exhaustive search results:\n",
      "Optimal link schedule: [0, 0, 0, 0, 0, 0, 1, 0, 0, 0]\n",
      "Maximum throughput: tensor(35.4389, dtype=torch.float64) bits/s/Hz\n",
      "Exhaustive search results:\n",
      "Optimal link schedule: [0, 0, 0, 0, 1, 0, 0, 0, 0, 0]\n",
      "Maximum throughput: tensor(35.3969, dtype=torch.float64) bits/s/Hz\n",
      "Exhaustive search results:\n",
      "Optimal link schedule: [0, 0, 0, 0, 0, 0, 0, 0, 0, 1]\n",
      "Maximum throughput: tensor(35.2187, dtype=torch.float64) bits/s/Hz\n",
      "Exhaustive search results:\n",
      "Optimal link schedule: [0, 0, 0, 1, 0, 0, 0, 0, 0, 0]\n",
      "Maximum throughput: tensor(33.8521, dtype=torch.float64) bits/s/Hz\n",
      "Exhaustive search results:\n",
      "Optimal link schedule: [0, 0, 0, 0, 0, 0, 1, 0, 0, 0]\n",
      "Maximum throughput: tensor(33.7105, dtype=torch.float64) bits/s/Hz\n",
      "Exhaustive search results:\n",
      "Optimal link schedule: [0, 0, 0, 1, 0, 0, 0, 0, 0, 0]\n",
      "Maximum throughput: tensor(35.4821, dtype=torch.float64) bits/s/Hz\n",
      "Exhaustive search results:\n",
      "Optimal link schedule: [0, 0, 0, 0, 0, 0, 0, 0, 0, 1]\n",
      "Maximum throughput: tensor(33.4392, dtype=torch.float64) bits/s/Hz\n",
      "Exhaustive search results:\n",
      "Optimal link schedule: [0, 0, 0, 0, 0, 0, 1, 0, 0, 0]\n",
      "Maximum throughput: tensor(33.7876, dtype=torch.float64) bits/s/Hz\n",
      "Exhaustive search results:\n",
      "Optimal link schedule: [0, 0, 0, 1, 0, 0, 0, 0, 0, 0]\n",
      "Maximum throughput: tensor(33.3983, dtype=torch.float64) bits/s/Hz\n",
      "Exhaustive search results:\n",
      "Optimal link schedule: [0, 0, 0, 0, 0, 0, 0, 1, 0, 0]\n",
      "Maximum throughput: tensor(36.2699, dtype=torch.float64) bits/s/Hz\n",
      "Exhaustive search results:\n",
      "Optimal link schedule: [0, 0, 0, 0, 0, 1, 0, 0, 0, 0]\n",
      "Maximum throughput: tensor(33.2201, dtype=torch.float64) bits/s/Hz\n",
      "Exhaustive search results:\n",
      "Optimal link schedule: [0, 0, 0, 0, 0, 0, 0, 0, 1, 0]\n",
      "Maximum throughput: tensor(35.8351, dtype=torch.float64) bits/s/Hz\n",
      "Exhaustive search results:\n",
      "Optimal link schedule: [0, 1, 0, 0, 0, 0, 0, 0, 0, 0]\n",
      "Maximum throughput: tensor(35.9903, dtype=torch.float64) bits/s/Hz\n",
      "Exhaustive search results:\n",
      "Optimal link schedule: [0, 0, 0, 0, 0, 0, 1, 0, 0, 0]\n",
      "Maximum throughput: tensor(35.1529, dtype=torch.float64) bits/s/Hz\n",
      "Exhaustive search results:\n",
      "Optimal link schedule: [0, 0, 0, 0, 0, 1, 0, 0, 0, 0]\n",
      "Maximum throughput: tensor(35.5972, dtype=torch.float64) bits/s/Hz\n",
      "Exhaustive search results:\n",
      "Optimal link schedule: [0, 0, 0, 1, 0, 0, 0, 0, 0, 0]\n",
      "Maximum throughput: tensor(33.1619, dtype=torch.float64) bits/s/Hz\n",
      "Exhaustive search results:\n",
      "Optimal link schedule: [0, 0, 0, 0, 0, 0, 0, 0, 1, 0]\n",
      "Maximum throughput: tensor(35.1269, dtype=torch.float64) bits/s/Hz\n",
      "Exhaustive search results:\n",
      "Optimal link schedule: [0, 1, 0, 0, 0, 0, 0, 0, 0, 0]\n",
      "Maximum throughput: tensor(34.8849, dtype=torch.float64) bits/s/Hz\n",
      "Exhaustive search results:\n",
      "Optimal link schedule: [0, 0, 0, 0, 0, 0, 1, 0, 0, 0]\n",
      "Maximum throughput: tensor(34.3974, dtype=torch.float64) bits/s/Hz\n",
      "Exhaustive search results:\n",
      "Optimal link schedule: [0, 0, 0, 0, 1, 0, 0, 0, 0, 0]\n",
      "Maximum throughput: tensor(34.9640, dtype=torch.float64) bits/s/Hz\n",
      "Mean average throughput: 34.6887338925696\n",
      "Exhaustive search runtime: 0.2887893557548523\n"
     ]
    }
   ],
   "source": [
    "best_throughput_test = []\n",
    "runtime_exh = []\n",
    "for sample in test_dataset:\n",
    "    I, _, _, H, _ = sample\n",
    "    hyperedges = result = [torch.nonzero(H[:, col]).squeeze(1).tolist() for col in range(H.size(1))]\n",
    "    start = time.time()\n",
    "    best_throughput, best_schedule = exh_solver(V_H, E_H, V_H*[N], I, hyperedges)\n",
    "    runtime = time.time() - start\n",
    "    runtime_exh.append(runtime)\n",
    "    best_throughput_test.append(best_throughput)\n",
    "    print(\"Exhaustive search results:\")\n",
    "    print(\"Optimal link schedule:\", best_schedule)\n",
    "    print(\"Maximum throughput:\", best_throughput, \"bits/s/Hz\")\n",
    "tput_optimal_mean = np.mean(best_throughput_test)\n",
    "runtime_exh_mean = np.mean(runtime_exh)\n",
    "print(f\"Mean average throughput: {tput_optimal_mean}\")\n",
    "print(f\"Exhaustive search runtime: {runtime_exh_mean}\")"
   ]
  },
  {
   "cell_type": "markdown",
   "metadata": {},
   "source": [
    "# Learning-Based"
   ]
  },
  {
   "cell_type": "code",
   "execution_count": 43,
   "metadata": {},
   "outputs": [],
   "source": [
    "import torch\n",
    "device = 'cuda' if torch.cuda.is_available() else 'cpu'"
   ]
  },
  {
   "cell_type": "markdown",
   "metadata": {},
   "source": [
    "# Data Preparation"
   ]
  },
  {
   "cell_type": "markdown",
   "metadata": {},
   "source": [
    "Format of Data Should be as follows\n",
    "Dictionary Keys: \"$n$\": Number of hypernodes ($|\\mathcal{V}_H|$), \"$E$\": dictionray of hyperedges, \"$I \\in R^{n\\times n}$\": Interference and Power matrix, \"$H \\in \\{0,1\\}^{n\\times m}$: Incident matrix ($m$ is the size of hyperedges) "
   ]
  },
  {
   "cell_type": "code",
   "execution_count": 44,
   "metadata": {},
   "outputs": [],
   "source": [
    "def hypergraph_generation(V_H, I, hyperedges):\n",
    "    hypergraph = {}\n",
    "\n",
    "    \n",
    "\n",
    "    hypergraph[\"I\"] = torch.DoubleTensor(I)\n",
    "\n",
    "\n",
    "    H = torch.DoubleTensor(hyperedges)\n",
    "    Dv_inv = torch.diag(H.sum(0)**(-1/2))\n",
    "    De_inv = torch.diag(H.sum(1)**(-1))\n",
    "    W = torch.eye(V_H, dtype=torch.float64)\n",
    "    hypergraph[\"H\"] = H\n",
    "    hypergraph[\"Dv_inv\"] = Dv_inv\n",
    "    hypergraph[\"De_inv\"] = De_inv\n",
    "    hypergraph[\"W\"] = W\n",
    "    return hypergraph"
   ]
  },
  {
   "cell_type": "markdown",
   "metadata": {},
   "source": [
    "## HyperDataset"
   ]
  },
  {
   "cell_type": "code",
   "execution_count": 45,
   "metadata": {},
   "outputs": [],
   "source": [
    "from torch.utils.data import Dataset, DataLoader\n",
    "\n",
    "class HyperDataset(Dataset):\n",
    "    def __init__(self, I, Dv_inv, De_inv, H, W):\n",
    "        self.I = I\n",
    "        self.Dv_inv = Dv_inv\n",
    "        self.De_inv = De_inv\n",
    "        self.H = H\n",
    "        self.W = W\n",
    "\n",
    "    def __len__(self):\n",
    "        return len(self.I)\n",
    "\n",
    "    def __getitem__(self, idx):\n",
    "        return self.I[idx], self.Dv_inv[idx], self.De_inv[idx], self.H[idx], self.W[idx]\n"
   ]
  },
  {
   "cell_type": "markdown",
   "metadata": {
    "jp-MarkdownHeadingCollapsed": true
   },
   "source": [
    "### Generating train and test dataste"
   ]
  },
  {
   "cell_type": "code",
   "execution_count": 46,
   "metadata": {},
   "outputs": [],
   "source": [
    "hyps_train, hyps_test = [], []\n",
    "\n",
    "Is = torch.zeros((len(itens_train), V_H, V_H), dtype=torch.float64)\n",
    "Dv_invs = torch.zeros((len(itens_train), V_H, V_H), dtype=torch.float64)\n",
    "De_invs = torch.zeros((len(itens_train), V_H, V_H), dtype=torch.float64)\n",
    "Hs = torch.zeros((len(itens_train), V_H, V_H), dtype=torch.float64)\n",
    "Ws = torch.zeros((len(itens_train), V_H, V_H), dtype=torch.float64)\n",
    "\n",
    "i = 0\n",
    "for I, hyperedges in zip(itens_train, H_train):\n",
    "    hyp = hypergraph_generation(V_H, I, hyperedges)\n",
    "    Is[i] = hyp[\"I\"]\n",
    "    Dv_invs[i] = hyp[\"Dv_inv\"]\n",
    "    De_invs[i] = hyp[\"De_inv\"]\n",
    "    Hs[i] = hyp[\"H\"]\n",
    "    Ws[i] = hyp[\"W\"]\n",
    "    i += 1\n",
    "\n",
    "train_dataset = HyperDataset(Is, Dv_invs, De_invs, Hs, Ws)\n",
    "\n",
    "Is = torch.zeros((len(itens_test), V_H, V_H), dtype=torch.float64)\n",
    "Dv_invs = torch.zeros((len(itens_test), V_H, V_H), dtype=torch.float64)\n",
    "De_invs = torch.zeros((len(itens_test), V_H, V_H), dtype=torch.float64)\n",
    "Hs = torch.zeros((len(itens_test), V_H, V_H), dtype=torch.float64)\n",
    "Ws = torch.zeros((len(itens_test), V_H, V_H), dtype=torch.float64)\n",
    "\n",
    "i = 0\n",
    "for I, hyperedges in zip(itens_test, H_test):\n",
    "    hyp = hypergraph_generation(V_H, I, hyperedges)\n",
    "    Is[i] = hyp[\"I\"]\n",
    "    Dv_invs[i] = hyp[\"Dv_inv\"]\n",
    "    De_invs[i] = hyp[\"De_inv\"]\n",
    "    Hs[i] = hyp[\"H\"]\n",
    "    Ws[i] = hyp[\"W\"]\n",
    "    i += 1\n",
    "\n",
    "test_dataset = HyperDataset(Is, Dv_invs, De_invs, Hs, Ws)\n",
    "    "
   ]
  },
  {
   "cell_type": "code",
   "execution_count": null,
   "metadata": {},
   "outputs": [],
   "source": []
  },
  {
   "cell_type": "markdown",
   "metadata": {},
   "source": [
    "### Defining Train Loader"
   ]
  },
  {
   "cell_type": "code",
   "execution_count": 47,
   "metadata": {},
   "outputs": [],
   "source": [
    "batch_size = 64\n",
    "train_loader = DataLoader(train_dataset, batch_size=batch_size, shuffle=True)\n",
    "test_loader = DataLoader(test_dataset, batch_size=batch_size, shuffle=False)"
   ]
  },
  {
   "cell_type": "markdown",
   "metadata": {
    "jp-MarkdownHeadingCollapsed": true
   },
   "source": [
    "# Training HyperGCN"
   ]
  },
  {
   "cell_type": "code",
   "execution_count": 88,
   "metadata": {},
   "outputs": [
    {
     "data": {
      "text/plain": [
       "<module 'model' from '/Users/rezaramezanpour/Downloads/hyp-sched-main-2/model.py'>"
      ]
     },
     "execution_count": 88,
     "metadata": {},
     "output_type": "execute_result"
    }
   ],
   "source": [
    "import importlib, model, networks, utils\n",
    "importlib.reload(networks)\n",
    "importlib.reload(utils)\n",
    "\n",
    "importlib.reload(model)"
   ]
  },
  {
   "cell_type": "markdown",
   "metadata": {},
   "source": [
    "<span style=\"color:red\">**HyperGCN**</span> is defined in <span style=\"color:cyan\">**networks**</span> file, but it's core layer <span style=\"color:red\">*HyperGraphConvolution*</span> is defined in <span style=\"color:cyan\">**utils**</span>.<br /> If you want change the entire model you can put your model in <span style=\"color:cyan\">**networks**</span> file.<br />\n",
    "The training process is defined in the <span style=\"color:cyan\">**model**</span> file, so if you defined a new model and want to use it in training process, please change that file.<br /> Also the <span style=\"color:red\">**Gumbel+LinSatNet**</span> is defined in <span style=\"color:cyan\">**utils**</span> but it is used in training process. Our custom loss function (negative of our objecive) is defined in <span style=\"color:cyan\">**model**</span>, i double checked it with random inputs, so it should be fine."
   ]
  },
  {
   "cell_type": "code",
   "execution_count": 95,
   "metadata": {},
   "outputs": [],
   "source": [
    "import model\n",
    "HyperGCN = model.initialise(hyp)\n"
   ]
  },
  {
   "cell_type": "code",
   "execution_count": null,
   "metadata": {
    "scrolled": true
   },
   "outputs": [],
   "source": [
    "epochs = 500\n",
    "HyperGCN = model.train(HyperGCN, hyp, epochs)"
   ]
  },
  {
   "cell_type": "markdown",
   "metadata": {},
   "source": [
    "# Training HGNN"
   ]
  },
  {
   "cell_type": "code",
   "execution_count": 48,
   "metadata": {},
   "outputs": [],
   "source": [
    "def get_learnable_parameters(V_H, device):\n",
    "    hidden_dim = [15, 15, 1]  # 3 layers\n",
    "    theta_1 = torch.empty(V_H, hidden_dim[0], dtype=torch.float64, requires_grad=True, device=device)\n",
    "    torch.nn.init.xavier_uniform_(theta_1)\n",
    "    theta_2 = torch.empty(hidden_dim[0], hidden_dim[1], dtype=torch.float64, requires_grad=True, device=device)\n",
    "    torch.nn.init.xavier_uniform_(theta_2)\n",
    "    theta_3 = torch.empty(hidden_dim[1], hidden_dim[2], dtype=torch.float64, requires_grad=True, device=device)\n",
    "    torch.nn.init.xavier_uniform_(theta_3)\n",
    "    theta_HGNN = [theta_1, theta_2, theta_3]\n",
    "    return theta_HGNN"
   ]
  },
  {
   "cell_type": "code",
   "execution_count": 49,
   "metadata": {},
   "outputs": [],
   "source": [
    "def HGNN(X, Dv_inv, De_inv, H, W, theta, batch_norm=False):\n",
    "    theta_1, theta_2, theta_3 = theta\n",
    "    Xbar1 = Dv_inv @ H @ W @ De_inv @ H.transpose(1, 2) @ Dv_inv @ X @ theta_1.unsqueeze(0)\n",
    "    X1 = torch.nn.functional.relu(Xbar1)\n",
    "    if batch_norm:\n",
    "        X1 = (X1 - torch.mean(X1, dim=0))/torch.sqrt(torch.var(X1, dim=0) + 1e-5)\n",
    "    Xbar2 = Dv_inv @ H @ W @ De_inv @ H.transpose(1, 2) @ Dv_inv @ X1 @ theta_2.unsqueeze(0)\n",
    "    X2 = torch.nn.functional.relu(Xbar2)\n",
    "    if batch_norm:\n",
    "        X2 = (X2 - torch.mean(X2, dim=0))/torch.sqrt(torch.var(X2, dim=0) + 1e-5)\n",
    "    Xbar3 = Dv_inv @ H @ W @ De_inv @ H.transpose(1, 2) @ Dv_inv @ X2 @ theta_3.unsqueeze(0)\n",
    "    X3 = torch.nn.functional.sigmoid(Xbar3)\n",
    "    X3 = X3.squeeze()\n",
    "    return X3"
   ]
  },
  {
   "cell_type": "markdown",
   "metadata": {},
   "source": [
    "# Training"
   ]
  },
  {
   "cell_type": "code",
   "execution_count": 50,
   "metadata": {},
   "outputs": [],
   "source": [
    "theta_HGNN = get_learnable_parameters(V_H, device)\n",
    "optimizer = torch.optim.Adam(theta_HGNN, lr=0.001)\n",
    "# optimizer = torch.optim.SGD(theta_HGNN, lr=0.01)\n",
    "\n",
    "loss_fn = CustomLossBatch()"
   ]
  },
  {
   "cell_type": "code",
   "execution_count": null,
   "metadata": {},
   "outputs": [],
   "source": [
    "beta = 1\n",
    "tau = 1\n",
    "max_iter = 1000\n",
    "epochs = 1000\n",
    "batch_norm=True\n",
    "train_utility, test_utility = [], []\n",
    "optimizer.zero_grad()\n",
    "for epoch in range(epochs):\n",
    "    # Train Phase\n",
    "    loss_epoch, utility_epoch, feasibility_epoch = [], [], []\n",
    "    for (X, Dv_inv, De_inv, H, W) in train_loader:\n",
    "        X, H, W = X.to(device), H.to(device), W.to(device)\n",
    "        Dv_inv, De_inv = Dv_inv.to(device), De_inv.to(device)\n",
    "        z = HGNN(X, Dv_inv, De_inv, H, W, theta_HGNN, batch_norm)\n",
    "        # Linsat\n",
    "        z = z * beta\n",
    "        RHS_const = H.transpose(2, 1).sum(dim=2) - 1\n",
    "        LHS_const = H.transpose(2, 1)\n",
    "        z = linsat_layer_modified(z.float(), A=LHS_const.float(), b=RHS_const.float(), tau=tau, max_iter=max_iter, dummy_val=0, no_warning=False, grouped=False).double()\n",
    "        z = z / beta\n",
    "        loss = loss_fn(z, X, N, gamma=0.0)[0]\n",
    "        utility = utility_fn(z, X, N)  # utility based on discrete values of z\n",
    "        feasibility = check_feasibility(H, z)\n",
    "        utility_epoch.append(utility.item()/batch_size)\n",
    "        feasibility_epoch.append(feasibility)\n",
    "        loss.backward()\n",
    "        # print(torch.linalg.matrix_norm(theta_HGNN[0].grad))\n",
    "        optimizer.step()\n",
    "        optimizer.zero_grad()\n",
    "        loss_epoch.append(loss.item())\n",
    "    # Test Phase\n",
    "    utility_epoch_test, feasibility_epoch_test = [], []\n",
    "    for (X, Dv_inv, De_inv, H, W) in test_loader:\n",
    "        X, H, W = X.to(device), H.to(device), W.to(device)\n",
    "        Dv_inv, De_inv = Dv_inv.to(device), De_inv.to(device)\n",
    "        z = HGNN(X, Dv_inv, De_inv, H, W, theta_HGNN, batch_norm)\n",
    "        # Linsat \n",
    "        z = z * beta\n",
    "        RHS_const = H.transpose(2, 1).sum(dim=2) - 1\n",
    "        LHS_const = H.transpose(2, 1)\n",
    "        z = linsat_layer_modified(z.float(), A=LHS_const.float(), b=RHS_const.float(), tau=tau, max_iter=max_iter, dummy_val=0, no_warning=False, grouped=False).double()\n",
    "        z = z / beta\n",
    "        utility = utility_fn(z, X, N)  # utility based on discrete values of z\n",
    "        feasibility = check_feasibility(H, z)\n",
    "        utility_epoch_test.append(utility.item()/batch_size)\n",
    "        feasibility_epoch_test.append(feasibility)\n",
    "    utility_epoch_mean = np.mean(utility_epoch)\n",
    "    utility_epoch_test_mean = np.mean(utility_epoch_test)\n",
    "    feasibility_epoch_mean = np.mean(feasibility_epoch)\n",
    "    feasibility_epoch_test_mean = np.mean(feasibility_epoch_test)\n",
    "    print(z[0])\n",
    "    if epoch % 1 == 0:\n",
    "        print(f\"Epoch: {epoch}, Loss:{np.mean(loss_epoch):.5f} | Train Utility: {utility_epoch_mean:.5f}, Feasibility: {feasibility_epoch_mean:.2f}\" \\\n",
    "        f\" | Test Utility: {utility_epoch_test_mean:.5f}, Feasibility: {feasibility_epoch_test_mean:.2f}\")\n",
    "    train_utility.append(utility_epoch_mean)\n",
    "    test_utility.append(utility_epoch_test_mean)\n",
    "print(f\"Final utility per hypergraph: {utility_epoch_test}\")"
   ]
  },
  {
   "cell_type": "code",
   "execution_count": 68,
   "metadata": {},
   "outputs": [
    {
     "name": "stdout",
     "output_type": "stream",
     "text": [
      "HGNN runtime: 0.0881127119064331\n"
     ]
    }
   ],
   "source": [
    "# utility_epoch_test, feasibility_epoch_test = [], []\n",
    "runtime_hgnn = []\n",
    "for (X, Dv_inv, De_inv, H, W) in test_loader:\n",
    "    X, H, W = X.to(device), H.to(device), W.to(device)\n",
    "    Dv_inv, De_inv = Dv_inv.to(device), De_inv.to(device)\n",
    "    time_start = time.time()\n",
    "    z = HGNN(X, Dv_inv, De_inv, H, W, theta_HGNN, batch_norm)\n",
    "    # Linsat \n",
    "    z = z * beta\n",
    "    RHS_const = H.transpose(2, 1).sum(dim=2) - 1\n",
    "    LHS_const = H.transpose(2, 1)\n",
    "    z = linsat_layer_modified(z.float(), A=LHS_const.float(), b=RHS_const.float(), tau=tau, max_iter=max_iter, dummy_val=0, no_warning=False, grouped=False).double()\n",
    "    z = z / beta\n",
    "    utility = utility_fn(z, X, N)  # utility based on discrete values of z\n",
    "    runtime = time.time() - time_start\n",
    "    runtime_hgnn.append(runtime)\n",
    "    feasibility = check_feasibility(H, z)\n",
    "    utility_epoch_test.append(utility.item()/batch_size)\n",
    "    feasibility_epoch_test.append(feasibility)\n",
    "print(f\"HGNN runtime: {np.mean(runtime_hgnn)}\")\n",
    "# utility_epoch_mean = np.mean(utility_epoch)\n",
    "# utility_epoch_test_mean = np.mean(utility_epoch_test)\n",
    "# feasibility_epoch_mean = np.mean(feasibility_epoch)\n",
    "# feasibility_epoch_test_mean = np.mean(feasibility_epoch_test)"
   ]
  },
  {
   "cell_type": "code",
   "execution_count": null,
   "metadata": {},
   "outputs": [],
   "source": []
  },
  {
   "cell_type": "code",
   "execution_count": 36,
   "metadata": {},
   "outputs": [],
   "source": [
    "import matplotlib.pyplot as plt"
   ]
  },
  {
   "cell_type": "code",
   "execution_count": 47,
   "metadata": {},
   "outputs": [
    {
     "data": {
      "image/png": "[encoded data removed]",
      "text/plain": [
       "<Figure size 640x480 with 1 Axes>"
      ]
     },
     "metadata": {},
     "output_type": "display_data"
    }
   ],
   "source": [
    "plt.plot(train_utility, label='train')\n",
    "plt.plot(test_utility, label='validation')\n",
    "plt.plot(np.full_like(train_utility, tput_optimal_mean), label='optimal (exh. search)')\n",
    "plt.xlabel('Epoch')\n",
    "plt.ylabel('Sum rate, bits/s/Hz')\n",
    "plt.grid()\n",
    "plt.legend()\n",
    "plt.savefig('HGNN_train.jpg')"
   ]
  },
  {
   "cell_type": "code",
   "execution_count": 204,
   "metadata": {},
   "outputs": [
    {
     "data": {
      "image/png": "[encoded data removed]",
      "text/plain": [
       "<Figure size 640x480 with 1 Axes>"
      ]
     },
     "metadata": {},
     "output_type": "display_data"
    }
   ],
   "source": [
    "plt.plot(torch.stack(train_utility).detach().numpy(), label='train')\n",
    "plt.plot(torch.stack(test_utility).detach().numpy(), label='validation')\n",
    "plt.xlabel('Epoch')\n",
    "plt.ylabel('Utility')\n",
    "plt.grid()\n",
    "plt.legend()\n",
    "# plt.savefig('HGNN_train_reg0.5.jpg')"
   ]
  },
  {
   "cell_type": "code",
   "execution_count": 238,
   "metadata": {},
   "outputs": [
    {
     "data": {
      "text/plain": [
       "tensor([[0.4464],\n",
       "        [0.4477],\n",
       "        [0.4607],\n",
       "        [0.4284],\n",
       "        [0.4309],\n",
       "        [0.4087],\n",
       "        [0.4464],\n",
       "        [0.4238],\n",
       "        [0.4166],\n",
       "        [0.4267]], dtype=torch.float64, grad_fn=<SigmoidBackward0>)"
      ]
     },
     "execution_count": 238,
     "metadata": {},
     "output_type": "execute_result"
    }
   ],
   "source": [
    "Z"
   ]
  },
  {
   "cell_type": "code",
   "execution_count": 138,
   "metadata": {},
   "outputs": [
    {
     "data": {
      "text/plain": [
       "(tensor(-8.7234, dtype=torch.float64, grad_fn=<NegBackward0>),\n",
       " tensor(8.7234, dtype=torch.float64, grad_fn=<SumBackward0>))"
      ]
     },
     "execution_count": 138,
     "metadata": {},
     "output_type": "execute_result"
    }
   ],
   "source": [
    "loss_fn(Z, X, N)"
   ]
  },
  {
   "cell_type": "code",
   "execution_count": 139,
   "metadata": {},
   "outputs": [
    {
     "data": {
      "text/plain": [
       "(tensor(9.7985, dtype=torch.float64), [0, 0, 0, 0, 0, 0, 0, 0, 1, 0])"
      ]
     },
     "execution_count": 139,
     "metadata": {},
     "output_type": "execute_result"
    }
   ],
   "source": [
    "exh_solver(V_H, None, V_H*[N], X, list(hyp['E'].values()))"
   ]
  },
  {
   "cell_type": "code",
   "execution_count": 16,
   "metadata": {},
   "outputs": [
    {
     "data": {
      "text/plain": [
       "[<matplotlib.lines.Line2D at 0x7f95ea363da0>]"
      ]
     },
     "execution_count": 16,
     "metadata": {},
     "output_type": "execute_result"
    },
    {
     "data": {
      "image/png": "[encoded data removed]",
      "text/plain": [
       "<Figure size 640x480 with 1 Axes>"
      ]
     },
     "metadata": {},
     "output_type": "display_data"
    }
   ],
   "source": [
    "plt.plot(torch.stack(HyperGCN['utility']).detach().numpy())"
   ]
  },
  {
   "cell_type": "code",
   "execution_count": null,
   "metadata": {},
   "outputs": [],
   "source": []
  }
 ],
 "metadata": {
  "kernelspec": {
   "display_name": "Python 3 (ipykernel)",
   "language": "python",
   "name": "python3"
  },
  "language_info": {
   "codemirror_mode": {
    "name": "ipython",
    "version": 3
   },
   "file_extension": ".py",
   "mimetype": "text/x-python",
   "name": "python",
   "nbconvert_exporter": "python",
   "pygments_lexer": "ipython3",
   "version": "3.12.2"
  }
 },
 "nbformat": 4,
 "nbformat_minor": 4
}
