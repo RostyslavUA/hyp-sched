{
 "cells": [
  {
   "cell_type": "code",
   "execution_count": 1,
   "metadata": {},
   "outputs": [],
   "source": [
    "from utils import get_hyperedges, get_data, get_H, check_feasibility\n",
    "from model import CustomLossBatch\n",
    "from LinSATNet import linsat_layer_modified\n",
    "from model import utility_fn"
   ]
  },
  {
   "cell_type": "markdown",
   "metadata": {
    "jp-MarkdownHeadingCollapsed": true
   },
   "source": [
    "# Pyomo Solver"
   ]
  },
  {
   "cell_type": "code",
   "execution_count": 2,
   "metadata": {
    "scrolled": true
   },
   "outputs": [],
   "source": [
    "# from pyomo.environ import (\n",
    "#     ConcreteModel, Var, Objective, ConstraintList, SolverFactory, NonNegativeReals, Binary, maximize\n",
    "# )\n",
    "# # Step 2: Create Pyomo model\n",
    "# model = ConcreteModel()\n",
    "\n",
    "# # Step 3: Define binary decision variables for each link (b_i)\n",
    "# model.b = Var(range(V_H), domain=Binary)  # b[i] = 1 if link i is active, 0 otherwise\n",
    "\n",
    "# # Step 4: Define the objective function (maximize throughput)\n",
    "# def throughput(model):\n",
    "#     total_throughput = 0\n",
    "#     for i in range(V_H):\n",
    "#         interference = sum(model.b[j] * I[i, j] for j in range(V_H) if j != i)  # Interference from other active links\n",
    "#         denominator = N[i] + interference  # Noise + interference\n",
    "#         total_throughput += (I[i,i] * model.b[i]) / denominator  # Contribution of link i to throughput\n",
    "#     return total_throughput\n",
    "\n",
    "# model.obj = Objective(rule=throughput, sense=maximize)\n",
    "\n",
    "# # Step 5: Add constraints for hyperedges (each hyperedge has a threshold)\n",
    "# model.constraints = ConstraintList()\n",
    "\n",
    "# for e_idx, hyperedge in enumerate(hyperedges):\n",
    "#     model.constraints.add(\n",
    "#         sum(model.b[i] for i in hyperedge) <= len(hyperedge)-1\n",
    "#     )\n",
    "\n",
    "# # Step 6: Solve the model\n",
    "# solver = SolverFactory('ipopt')  # Use Ipopt for nonlinear problems\n",
    "# result = solver.solve(model, tee=True)\n",
    "\n",
    "# # Step 7: Extract the results\n",
    "# optimal_decisions = [model.b[i].value for i in range(V_H)]\n",
    "\n",
    "# # Output the optimal link schedule\n",
    "# print(\"Optimal link schedule:\", optimal_decisions)\n",
    "# print(\"Maximum throughput:\", model.obj())"
   ]
  },
  {
   "cell_type": "markdown",
   "metadata": {},
   "source": [
    "# Generate data"
   ]
  },
  {
   "cell_type": "code",
   "execution_count": 2,
   "metadata": {},
   "outputs": [],
   "source": [
    "import numpy as np\n",
    "\n",
    "# Step 1: Define problem parameters\n",
    "V_H = 10  # Number of nodes (links)\n",
    "E_H = 5   # Number of hyperedges\n",
    "N = 0.1  # Noise power\n",
    "theta = 0.5  # Thresholds for hyperedges\n",
    "k = 4  # max hyperedge cardinality\n",
    "train_samples = 500\n",
    "test_samples = 100\n",
    "batch_size = 100\n"
   ]
  },
  {
   "cell_type": "code",
   "execution_count": 3,
   "metadata": {},
   "outputs": [],
   "source": [
    "itens_train, hlist_train = get_data(train_samples, V_H, N, theta, k)\n",
    "itens_test, hlist_test = get_data(test_samples, V_H, N, theta, k)\n",
    "H_train = get_H(hlist_train, V_H, train_samples)\n",
    "H_test = get_H(hlist_test, V_H, test_samples)"
   ]
  },
  {
   "cell_type": "markdown",
   "metadata": {},
   "source": [
    "# Exhaustive Search Solver"
   ]
  },
  {
   "cell_type": "code",
   "execution_count": 4,
   "metadata": {},
   "outputs": [],
   "source": [
    "# exhaustive search\n",
    "def exh_solver(V_H, E_H, N, I, hyperedges):\n",
    "    best_throughput = 0\n",
    "    best_schedule = None\n",
    "    for i in range(2**V_H):\n",
    "        schedule = [int(x) for x in bin(i)[2:].zfill(V_H)]\n",
    "        throughput = 0\n",
    "\n",
    "        # check if the schedule satisfies the hyperedge constraints\n",
    "        valid_schedule = True\n",
    "        for hyperedge in hyperedges:\n",
    "            if sum(schedule[j] for j in hyperedge) == len(hyperedge):\n",
    "                valid_schedule = False\n",
    "                break\n",
    "        \n",
    "        if not valid_schedule:\n",
    "            continue\n",
    "        # calculate throughput\n",
    "        for i in range(V_H):\n",
    "            interference = sum(schedule[j] * I[i, j] for j in range(V_H) if j != i)\n",
    "            denominator = N[i] + interference\n",
    "            throughput += (I[i,i] * schedule[i]) / denominator\n",
    "        \n",
    "        if throughput > best_throughput:\n",
    "            best_throughput = throughput\n",
    "            best_schedule = schedule\n",
    "\n",
    "    return best_throughput, best_schedule\n",
    "        "
   ]
  },
  {
   "cell_type": "code",
   "execution_count": 5,
   "metadata": {
    "scrolled": true
   },
   "outputs": [
    {
     "name": "stdout",
     "output_type": "stream",
     "text": [
      "Exhaustive search results:\n",
      "Optimal link schedule: [0, 0, 0, 0, 1, 0, 0, 0, 0, 0]\n",
      "Maximum throughput: 9.216376060754659\n",
      "Exhaustive search results:\n",
      "Optimal link schedule: [0, 0, 0, 0, 0, 1, 0, 0, 0, 0]\n",
      "Maximum throughput: 9.042986905441545\n",
      "Exhaustive search results:\n",
      "Optimal link schedule: [1, 0, 0, 0, 0, 0, 1, 0, 0, 0]\n",
      "Maximum throughput: 8.996065582680536\n",
      "Exhaustive search results:\n",
      "Optimal link schedule: [0, 0, 0, 0, 0, 1, 0, 0, 0, 0]\n",
      "Maximum throughput: 9.799805419307067\n",
      "Exhaustive search results:\n",
      "Optimal link schedule: [0, 0, 0, 0, 1, 0, 0, 0, 0, 0]\n",
      "Maximum throughput: 9.962221612159066\n",
      "Exhaustive search results:\n",
      "Optimal link schedule: [0, 0, 0, 0, 0, 1, 0, 0, 0, 0]\n",
      "Maximum throughput: 9.535176264587998\n",
      "Exhaustive search results:\n",
      "Optimal link schedule: [0, 0, 1, 0, 0, 0, 0, 0, 0, 0]\n",
      "Maximum throughput: 9.123444054046947\n",
      "Exhaustive search results:\n",
      "Optimal link schedule: [0, 0, 0, 0, 0, 1, 0, 0, 0, 0]\n",
      "Maximum throughput: 8.515562354350896\n",
      "Exhaustive search results:\n",
      "Optimal link schedule: [0, 1, 0, 0, 1, 0, 0, 0, 0, 0]\n",
      "Maximum throughput: 11.548492016345122\n",
      "Exhaustive search results:\n",
      "Optimal link schedule: [0, 0, 0, 0, 0, 1, 0, 0, 0, 0]\n",
      "Maximum throughput: 7.722034234608275\n",
      "Exhaustive search results:\n",
      "Optimal link schedule: [0, 0, 0, 0, 1, 0, 0, 0, 0, 1]\n",
      "Maximum throughput: 8.244562453614197\n",
      "Exhaustive search results:\n",
      "Optimal link schedule: [0, 1, 0, 0, 0, 0, 0, 0, 0, 0]\n",
      "Maximum throughput: 9.786086705188827\n",
      "Exhaustive search results:\n",
      "Optimal link schedule: [0, 1, 0, 0, 0, 0, 0, 0, 0, 0]\n",
      "Maximum throughput: 9.109583042079743\n",
      "Exhaustive search results:\n",
      "Optimal link schedule: [0, 0, 0, 0, 1, 0, 0, 0, 0, 0]\n",
      "Maximum throughput: 7.453147132645082\n",
      "Exhaustive search results:\n",
      "Optimal link schedule: [1, 0, 0, 0, 0, 0, 0, 0, 0, 0]\n",
      "Maximum throughput: 9.301111297240402\n",
      "Exhaustive search results:\n",
      "Optimal link schedule: [0, 0, 0, 0, 1, 0, 0, 0, 0, 0]\n",
      "Maximum throughput: 9.945129678533181\n",
      "Exhaustive search results:\n",
      "Optimal link schedule: [0, 1, 0, 0, 0, 0, 0, 0, 0, 1]\n",
      "Maximum throughput: 10.701206012649942\n",
      "Exhaustive search results:\n",
      "Optimal link schedule: [0, 0, 0, 0, 1, 0, 0, 0, 1, 0]\n",
      "Maximum throughput: 9.049630175255917\n",
      "Exhaustive search results:\n",
      "Optimal link schedule: [1, 0, 0, 0, 0, 0, 0, 0, 0, 0]\n",
      "Maximum throughput: 9.901250276129337\n",
      "Exhaustive search results:\n",
      "Optimal link schedule: [0, 0, 0, 0, 0, 0, 0, 1, 0, 0]\n",
      "Maximum throughput: 9.818935370485407\n",
      "Exhaustive search results:\n",
      "Optimal link schedule: [1, 0, 0, 0, 0, 0, 0, 0, 0, 0]\n",
      "Maximum throughput: 9.32889068731963\n",
      "Exhaustive search results:\n",
      "Optimal link schedule: [0, 0, 0, 0, 0, 0, 1, 0, 0, 0]\n",
      "Maximum throughput: 7.972971564975647\n",
      "Exhaustive search results:\n",
      "Optimal link schedule: [0, 0, 0, 0, 1, 0, 0, 0, 0, 0]\n",
      "Maximum throughput: 9.740739271067225\n",
      "Exhaustive search results:\n",
      "Optimal link schedule: [0, 0, 0, 0, 1, 0, 1, 0, 0, 0]\n",
      "Maximum throughput: 10.243504954162606\n",
      "Exhaustive search results:\n",
      "Optimal link schedule: [0, 0, 0, 1, 0, 0, 0, 0, 0, 0]\n",
      "Maximum throughput: 9.558971588762576\n",
      "Exhaustive search results:\n",
      "Optimal link schedule: [0, 0, 0, 0, 1, 0, 1, 0, 0, 0]\n",
      "Maximum throughput: 13.344530138850761\n",
      "Exhaustive search results:\n",
      "Optimal link schedule: [1, 0, 0, 0, 1, 0, 0, 0, 0, 0]\n",
      "Maximum throughput: 9.863463524675668\n",
      "Exhaustive search results:\n",
      "Optimal link schedule: [0, 0, 0, 0, 0, 0, 1, 0, 0, 0]\n",
      "Maximum throughput: 9.002882847097563\n",
      "Exhaustive search results:\n",
      "Optimal link schedule: [0, 0, 0, 0, 1, 0, 0, 0, 0, 0]\n",
      "Maximum throughput: 9.88966051327885\n",
      "Exhaustive search results:\n",
      "Optimal link schedule: [0, 0, 0, 1, 0, 0, 0, 0, 0, 0]\n",
      "Maximum throughput: 9.45640190869498\n",
      "Exhaustive search results:\n",
      "Optimal link schedule: [0, 0, 1, 0, 0, 0, 0, 0, 0, 0]\n",
      "Maximum throughput: 9.387349856327077\n",
      "Exhaustive search results:\n",
      "Optimal link schedule: [0, 0, 0, 1, 0, 0, 0, 0, 0, 0]\n",
      "Maximum throughput: 9.534488627640743\n",
      "Exhaustive search results:\n",
      "Optimal link schedule: [0, 1, 0, 0, 0, 0, 0, 0, 0, 0]\n",
      "Maximum throughput: 8.531387944747273\n",
      "Exhaustive search results:\n",
      "Optimal link schedule: [1, 1, 0, 0, 0, 0, 0, 0, 0, 0]\n",
      "Maximum throughput: 10.032939960560523\n",
      "Exhaustive search results:\n",
      "Optimal link schedule: [1, 0, 0, 0, 0, 0, 0, 0, 0, 1]\n",
      "Maximum throughput: 9.748200641189426\n",
      "Exhaustive search results:\n",
      "Optimal link schedule: [0, 0, 0, 0, 0, 0, 0, 0, 1, 0]\n",
      "Maximum throughput: 9.452364250746683\n",
      "Exhaustive search results:\n",
      "Optimal link schedule: [0, 0, 0, 0, 0, 0, 0, 1, 0, 0]\n",
      "Maximum throughput: 8.916865666941929\n",
      "Exhaustive search results:\n",
      "Optimal link schedule: [0, 0, 0, 1, 0, 0, 0, 0, 0, 0]\n",
      "Maximum throughput: 9.616992180147378\n",
      "Exhaustive search results:\n",
      "Optimal link schedule: [0, 0, 0, 1, 0, 0, 0, 0, 0, 0]\n",
      "Maximum throughput: 9.241619595074377\n",
      "Exhaustive search results:\n",
      "Optimal link schedule: [1, 0, 0, 0, 0, 0, 0, 0, 0, 0]\n",
      "Maximum throughput: 7.894550959980477\n",
      "Exhaustive search results:\n",
      "Optimal link schedule: [0, 1, 0, 0, 0, 0, 0, 0, 0, 0]\n",
      "Maximum throughput: 9.386991656415706\n",
      "Exhaustive search results:\n",
      "Optimal link schedule: [0, 1, 0, 0, 0, 0, 0, 0, 1, 0]\n",
      "Maximum throughput: 10.548410531276982\n",
      "Exhaustive search results:\n",
      "Optimal link schedule: [0, 0, 1, 0, 0, 0, 0, 0, 0, 0]\n",
      "Maximum throughput: 9.170704836905795\n",
      "Exhaustive search results:\n",
      "Optimal link schedule: [0, 0, 1, 0, 0, 0, 1, 0, 0, 0]\n",
      "Maximum throughput: 9.484959322680082\n",
      "Exhaustive search results:\n",
      "Optimal link schedule: [0, 0, 0, 0, 0, 0, 1, 0, 0, 0]\n",
      "Maximum throughput: 6.638454188124659\n",
      "Exhaustive search results:\n",
      "Optimal link schedule: [1, 0, 0, 0, 0, 0, 0, 0, 0, 0]\n",
      "Maximum throughput: 9.765512903268657\n",
      "Exhaustive search results:\n",
      "Optimal link schedule: [0, 0, 0, 1, 0, 0, 0, 0, 0, 0]\n",
      "Maximum throughput: 9.367956816799209\n",
      "Exhaustive search results:\n",
      "Optimal link schedule: [0, 0, 0, 0, 0, 0, 0, 0, 0, 1]\n",
      "Maximum throughput: 9.776027000248439\n",
      "Exhaustive search results:\n",
      "Optimal link schedule: [0, 0, 0, 0, 0, 0, 1, 1, 0, 0]\n",
      "Maximum throughput: 9.532163911047975\n",
      "Exhaustive search results:\n",
      "Optimal link schedule: [0, 0, 0, 0, 0, 0, 0, 0, 1, 0]\n",
      "Maximum throughput: 7.380372090994056\n",
      "Exhaustive search results:\n",
      "Optimal link schedule: [0, 0, 0, 1, 0, 0, 0, 0, 0, 0]\n",
      "Maximum throughput: 9.793176106366273\n",
      "Exhaustive search results:\n",
      "Optimal link schedule: [0, 0, 0, 0, 0, 0, 1, 0, 0, 0]\n",
      "Maximum throughput: 8.960784196861509\n",
      "Exhaustive search results:\n",
      "Optimal link schedule: [0, 0, 0, 0, 1, 0, 0, 0, 0, 0]\n",
      "Maximum throughput: 9.128605669255503\n",
      "Exhaustive search results:\n",
      "Optimal link schedule: [0, 0, 0, 0, 0, 0, 0, 0, 0, 1]\n",
      "Maximum throughput: 9.952372874603425\n",
      "Exhaustive search results:\n",
      "Optimal link schedule: [0, 0, 0, 0, 0, 0, 0, 0, 0, 1]\n",
      "Maximum throughput: 7.381220218540235\n",
      "Exhaustive search results:\n",
      "Optimal link schedule: [0, 1, 0, 0, 0, 0, 0, 0, 0, 0]\n",
      "Maximum throughput: 9.468339930847579\n",
      "Exhaustive search results:\n",
      "Optimal link schedule: [0, 1, 0, 0, 0, 0, 0, 0, 0, 0]\n",
      "Maximum throughput: 9.938933374293027\n",
      "Exhaustive search results:\n",
      "Optimal link schedule: [0, 0, 0, 0, 0, 0, 0, 1, 0, 0]\n",
      "Maximum throughput: 9.952089965956693\n",
      "Exhaustive search results:\n",
      "Optimal link schedule: [0, 0, 1, 0, 0, 0, 0, 1, 0, 0]\n",
      "Maximum throughput: 12.446225489051034\n",
      "Exhaustive search results:\n",
      "Optimal link schedule: [0, 0, 1, 1, 0, 0, 0, 0, 0, 0]\n",
      "Maximum throughput: 9.831798898071042\n",
      "Exhaustive search results:\n",
      "Optimal link schedule: [0, 0, 1, 0, 0, 0, 0, 0, 0, 0]\n",
      "Maximum throughput: 9.147883391637867\n",
      "Exhaustive search results:\n",
      "Optimal link schedule: [0, 0, 0, 0, 0, 0, 1, 0, 0, 0]\n",
      "Maximum throughput: 9.344217246340627\n",
      "Exhaustive search results:\n",
      "Optimal link schedule: [0, 0, 0, 0, 0, 0, 1, 0, 0, 0]\n",
      "Maximum throughput: 9.852941864544343\n",
      "Exhaustive search results:\n",
      "Optimal link schedule: [0, 1, 0, 0, 0, 0, 0, 1, 0, 0]\n",
      "Maximum throughput: 8.80071129504346\n",
      "Exhaustive search results:\n",
      "Optimal link schedule: [0, 1, 0, 0, 0, 0, 0, 0, 0, 0]\n",
      "Maximum throughput: 5.7265446775333215\n",
      "Exhaustive search results:\n",
      "Optimal link schedule: [0, 0, 0, 0, 0, 0, 0, 0, 0, 1]\n",
      "Maximum throughput: 9.084737316054179\n",
      "Exhaustive search results:\n",
      "Optimal link schedule: [0, 0, 0, 0, 0, 1, 0, 0, 0, 0]\n",
      "Maximum throughput: 8.767357026072483\n",
      "Exhaustive search results:\n",
      "Optimal link schedule: [0, 0, 0, 0, 1, 0, 0, 1, 0, 0]\n",
      "Maximum throughput: 7.919307083076564\n",
      "Exhaustive search results:\n",
      "Optimal link schedule: [0, 0, 0, 0, 1, 0, 0, 0, 0, 0]\n",
      "Maximum throughput: 9.923227185504123\n",
      "Exhaustive search results:\n",
      "Optimal link schedule: [0, 0, 0, 0, 0, 0, 1, 0, 0, 0]\n",
      "Maximum throughput: 8.098445213942115\n",
      "Exhaustive search results:\n",
      "Optimal link schedule: [1, 0, 0, 0, 0, 1, 0, 0, 0, 0]\n",
      "Maximum throughput: 9.487918018776625\n",
      "Exhaustive search results:\n",
      "Optimal link schedule: [0, 0, 0, 0, 0, 0, 0, 0, 1, 0]\n",
      "Maximum throughput: 9.654609895549363\n",
      "Exhaustive search results:\n",
      "Optimal link schedule: [1, 0, 0, 0, 0, 0, 0, 0, 0, 0]\n",
      "Maximum throughput: 9.142487943419189\n",
      "Exhaustive search results:\n",
      "Optimal link schedule: [0, 0, 1, 0, 0, 0, 0, 0, 0, 0]\n",
      "Maximum throughput: 9.911208651531892\n",
      "Exhaustive search results:\n",
      "Optimal link schedule: [0, 0, 0, 0, 1, 0, 0, 0, 0, 0]\n",
      "Maximum throughput: 9.918707808492593\n",
      "Exhaustive search results:\n",
      "Optimal link schedule: [0, 1, 0, 0, 0, 1, 0, 0, 0, 0]\n",
      "Maximum throughput: 10.011961483103224\n",
      "Exhaustive search results:\n",
      "Optimal link schedule: [0, 0, 0, 0, 0, 0, 0, 1, 0, 0]\n",
      "Maximum throughput: 9.26189355659396\n",
      "Exhaustive search results:\n",
      "Optimal link schedule: [1, 0, 0, 0, 0, 0, 0, 0, 0, 0]\n",
      "Maximum throughput: 9.253368604023104\n",
      "Exhaustive search results:\n",
      "Optimal link schedule: [0, 0, 0, 1, 0, 0, 0, 0, 0, 0]\n",
      "Maximum throughput: 9.804846321990135\n",
      "Exhaustive search results:\n",
      "Optimal link schedule: [0, 0, 0, 0, 0, 0, 0, 0, 0, 1]\n",
      "Maximum throughput: 9.376044212293927\n",
      "Exhaustive search results:\n",
      "Optimal link schedule: [0, 0, 0, 0, 1, 0, 0, 0, 0, 0]\n",
      "Maximum throughput: 9.207347348588057\n",
      "Exhaustive search results:\n",
      "Optimal link schedule: [1, 0, 0, 0, 0, 0, 0, 0, 0, 0]\n",
      "Maximum throughput: 8.104272199125518\n",
      "Exhaustive search results:\n",
      "Optimal link schedule: [0, 0, 0, 0, 0, 0, 0, 1, 0, 0]\n",
      "Maximum throughput: 9.435439795280045\n",
      "Exhaustive search results:\n",
      "Optimal link schedule: [1, 0, 0, 0, 0, 0, 0, 0, 0, 0]\n",
      "Maximum throughput: 9.888850152155463\n",
      "Exhaustive search results:\n",
      "Optimal link schedule: [0, 0, 0, 0, 1, 1, 0, 0, 0, 0]\n",
      "Maximum throughput: 14.083722542467687\n",
      "Exhaustive search results:\n",
      "Optimal link schedule: [0, 0, 0, 0, 0, 1, 1, 0, 0, 0]\n",
      "Maximum throughput: 10.758456485610738\n",
      "Exhaustive search results:\n",
      "Optimal link schedule: [1, 0, 0, 0, 0, 0, 0, 0, 0, 0]\n",
      "Maximum throughput: 8.693801842732276\n",
      "Exhaustive search results:\n",
      "Optimal link schedule: [0, 0, 0, 0, 0, 0, 0, 0, 1, 0]\n",
      "Maximum throughput: 8.962929467668234\n",
      "Exhaustive search results:\n",
      "Optimal link schedule: [0, 0, 1, 0, 0, 0, 0, 0, 0, 0]\n",
      "Maximum throughput: 9.857285041663168\n",
      "Exhaustive search results:\n",
      "Optimal link schedule: [1, 0, 0, 0, 0, 0, 0, 0, 0, 0]\n",
      "Maximum throughput: 9.3092923277483\n",
      "Exhaustive search results:\n",
      "Optimal link schedule: [0, 0, 0, 0, 0, 0, 1, 0, 0, 0]\n",
      "Maximum throughput: 8.056530980067963\n",
      "Exhaustive search results:\n",
      "Optimal link schedule: [0, 0, 0, 1, 0, 0, 0, 0, 0, 1]\n",
      "Maximum throughput: 5.790795648238497\n",
      "Exhaustive search results:\n",
      "Optimal link schedule: [0, 0, 1, 0, 0, 0, 0, 0, 0, 0]\n",
      "Maximum throughput: 9.53185650751628\n",
      "Exhaustive search results:\n",
      "Optimal link schedule: [0, 0, 0, 0, 0, 1, 0, 0, 1, 0]\n",
      "Maximum throughput: 12.57159294431506\n",
      "Exhaustive search results:\n",
      "Optimal link schedule: [0, 1, 0, 0, 0, 1, 0, 0, 0, 0]\n",
      "Maximum throughput: 11.02612455070074\n",
      "Exhaustive search results:\n",
      "Optimal link schedule: [0, 1, 1, 0, 0, 0, 0, 0, 0, 0]\n",
      "Maximum throughput: 9.69789377757715\n",
      "Exhaustive search results:\n",
      "Optimal link schedule: [0, 1, 0, 0, 0, 0, 0, 0, 0, 0]\n",
      "Maximum throughput: 9.919612464268619\n",
      "Exhaustive search results:\n",
      "Optimal link schedule: [0, 0, 0, 0, 1, 0, 1, 0, 0, 0]\n",
      "Maximum throughput: 12.471913695545695\n",
      "Exhaustive search results:\n",
      "Optimal link schedule: [0, 1, 0, 0, 0, 0, 0, 0, 0, 1]\n",
      "Maximum throughput: 10.653158572442612\n",
      "Exhaustive search results:\n",
      "Optimal link schedule: [0, 0, 0, 0, 0, 0, 1, 0, 0, 1]\n",
      "Maximum throughput: 12.498219324238907\n",
      "Mean average throughput: 9.484441977754278\n"
     ]
    }
   ],
   "source": [
    "best_throughput_test = []\n",
    "for I, hyperedges in zip(itens_test, hlist_test):\n",
    "    best_throughput, best_schedule = exh_solver(V_H, E_H, V_H*[N], I, hyperedges)\n",
    "    best_throughput_test.append(best_throughput)\n",
    "    print(\"Exhaustive search results:\")\n",
    "    print(\"Optimal link schedule:\", best_schedule)\n",
    "    print(\"Maximum throughput:\", best_throughput)\n",
    "print(f\"Mean average throughput: {np.mean(best_throughput_test)}\")"
   ]
  },
  {
   "cell_type": "markdown",
   "metadata": {},
   "source": [
    "# Learning-Based"
   ]
  },
  {
   "cell_type": "code",
   "execution_count": 6,
   "metadata": {},
   "outputs": [],
   "source": [
    "import torch\n",
    "device = 'cuda' if torch.cuda.is_available() else 'cpu'"
   ]
  },
  {
   "cell_type": "markdown",
   "metadata": {},
   "source": [
    "# Data Preparation"
   ]
  },
  {
   "cell_type": "markdown",
   "metadata": {},
   "source": [
    "Format of Data Should be as follows\n",
    "Dictionary Keys: \"$n$\": Number of hypernodes ($|\\mathcal{V}_H|$), \"$E$\": dictionray of hyperedges, \"$I \\in R^{n\\times n}$\": Interference and Power matrix, \"$H \\in \\{0,1\\}^{n\\times m}$: Incident matrix ($m$ is the size of hyperedges) "
   ]
  },
  {
   "cell_type": "code",
   "execution_count": 7,
   "metadata": {},
   "outputs": [],
   "source": [
    "def hypergraph_generation(V_H, I, hyperedges):\n",
    "    hypergraph = {}\n",
    "\n",
    "    \n",
    "\n",
    "    hypergraph[\"I\"] = torch.DoubleTensor(I)\n",
    "\n",
    "\n",
    "    H = torch.DoubleTensor(hyperedges)\n",
    "    Dv_inv = torch.diag(H.sum(0)**(-1/2))\n",
    "    De_inv = torch.diag(H.sum(1)**(-1))\n",
    "    W = torch.eye(V_H, dtype=torch.float64)\n",
    "    hypergraph[\"H\"] = H\n",
    "    hypergraph[\"Dv_inv\"] = Dv_inv\n",
    "    hypergraph[\"De_inv\"] = De_inv\n",
    "    hypergraph[\"W\"] = W\n",
    "    return hypergraph"
   ]
  },
  {
   "cell_type": "markdown",
   "metadata": {},
   "source": [
    "## HyperDataset"
   ]
  },
  {
   "cell_type": "code",
   "execution_count": 8,
   "metadata": {},
   "outputs": [],
   "source": [
    "from torch.utils.data import Dataset, DataLoader\n",
    "\n",
    "class HyperDataset(Dataset):\n",
    "    def __init__(self, I, Dv_inv, De_inv, H, W):\n",
    "        self.I = I\n",
    "        self.Dv_inv = Dv_inv\n",
    "        self.De_inv = De_inv\n",
    "        self.H = H\n",
    "        self.W = W\n",
    "\n",
    "    def __len__(self):\n",
    "        return len(self.I)\n",
    "\n",
    "    def __getitem__(self, idx):\n",
    "        return self.I[idx], self.Dv_inv[idx], self.De_inv[idx], self.H[idx], self.W[idx]\n"
   ]
  },
  {
   "cell_type": "markdown",
   "metadata": {},
   "source": [
    "### Generating train and test dataste"
   ]
  },
  {
   "cell_type": "code",
   "execution_count": 9,
   "metadata": {},
   "outputs": [],
   "source": [
    "hyps_train, hyps_test = [], []\n",
    "\n",
    "Is = torch.zeros((len(itens_train), V_H, V_H), dtype=torch.float64)\n",
    "Dv_invs = torch.zeros((len(itens_train), V_H, V_H), dtype=torch.float64)\n",
    "De_invs = torch.zeros((len(itens_train), V_H, V_H), dtype=torch.float64)\n",
    "Hs = torch.zeros((len(itens_train), V_H, V_H), dtype=torch.float64)\n",
    "Ws = torch.zeros((len(itens_train), V_H, V_H), dtype=torch.float64)\n",
    "\n",
    "i = 0\n",
    "for I, hyperedges in zip(itens_train, H_train):\n",
    "    hyp = hypergraph_generation(V_H, I, hyperedges)\n",
    "    Is[i] = hyp[\"I\"]\n",
    "    Dv_invs[i] = hyp[\"Dv_inv\"]\n",
    "    De_invs[i] = hyp[\"De_inv\"]\n",
    "    Hs[i] = hyp[\"H\"]\n",
    "    Ws[i] = hyp[\"W\"]\n",
    "    i += 1\n",
    "\n",
    "train_dataset = HyperDataset(Is, Dv_invs, De_invs, Hs, Ws)\n",
    "\n",
    "Is = torch.zeros((len(itens_test), V_H, V_H), dtype=torch.float64)\n",
    "Dv_invs = torch.zeros((len(itens_test), V_H, V_H), dtype=torch.float64)\n",
    "De_invs = torch.zeros((len(itens_test), V_H, V_H), dtype=torch.float64)\n",
    "Hs = torch.zeros((len(itens_test), V_H, V_H), dtype=torch.float64)\n",
    "Ws = torch.zeros((len(itens_test), V_H, V_H), dtype=torch.float64)\n",
    "\n",
    "i = 0\n",
    "for I, hyperedges in zip(itens_test, H_test):\n",
    "    hyp = hypergraph_generation(V_H, I, hyperedges)\n",
    "    Is[i] = hyp[\"I\"]\n",
    "    Dv_invs[i] = hyp[\"Dv_inv\"]\n",
    "    De_invs[i] = hyp[\"De_inv\"]\n",
    "    Hs[i] = hyp[\"H\"]\n",
    "    Ws[i] = hyp[\"W\"]\n",
    "    i += 1\n",
    "\n",
    "test_dataset = HyperDataset(Is, Dv_invs, De_invs, Hs, Ws)\n",
    "    "
   ]
  },
  {
   "cell_type": "markdown",
   "metadata": {},
   "source": [
    "### Defining Train Loader"
   ]
  },
  {
   "cell_type": "code",
   "execution_count": 10,
   "metadata": {},
   "outputs": [],
   "source": [
    "batch_size = 64\n",
    "train_loader = DataLoader(train_dataset, batch_size=batch_size, shuffle=True)\n",
    "test_loader = DataLoader(test_dataset, batch_size=batch_size, shuffle=False)"
   ]
  },
  {
   "cell_type": "markdown",
   "metadata": {
    "jp-MarkdownHeadingCollapsed": true
   },
   "source": [
    "# Training HyperGCN"
   ]
  },
  {
   "cell_type": "code",
   "execution_count": 88,
   "metadata": {},
   "outputs": [
    {
     "data": {
      "text/plain": [
       "<module 'model' from '/Users/rezaramezanpour/Downloads/hyp-sched-main-2/model.py'>"
      ]
     },
     "execution_count": 88,
     "metadata": {},
     "output_type": "execute_result"
    }
   ],
   "source": [
    "import importlib, model, networks, utils\n",
    "importlib.reload(networks)\n",
    "importlib.reload(utils)\n",
    "\n",
    "importlib.reload(model)"
   ]
  },
  {
   "cell_type": "markdown",
   "metadata": {},
   "source": [
    "<span style=\"color:red\">**HyperGCN**</span> is defined in <span style=\"color:cyan\">**networks**</span> file, but it's core layer <span style=\"color:red\">*HyperGraphConvolution*</span> is defined in <span style=\"color:cyan\">**utils**</span>.<br /> If you want change the entire model you can put your model in <span style=\"color:cyan\">**networks**</span> file.<br />\n",
    "The training process is defined in the <span style=\"color:cyan\">**model**</span> file, so if you defined a new model and want to use it in training process, please change that file.<br /> Also the <span style=\"color:red\">**Gumbel+LinSatNet**</span> is defined in <span style=\"color:cyan\">**utils**</span> but it is used in training process. Our custom loss function (negative of our objecive) is defined in <span style=\"color:cyan\">**model**</span>, i double checked it with random inputs, so it should be fine."
   ]
  },
  {
   "cell_type": "code",
   "execution_count": 95,
   "metadata": {},
   "outputs": [],
   "source": [
    "import model\n",
    "HyperGCN = model.initialise(hyp)\n"
   ]
  },
  {
   "cell_type": "code",
   "execution_count": null,
   "metadata": {
    "scrolled": true
   },
   "outputs": [],
   "source": [
    "epochs = 500\n",
    "HyperGCN = model.train(HyperGCN, hyp, epochs)"
   ]
  },
  {
   "cell_type": "markdown",
   "metadata": {},
   "source": [
    "# Training HGNN"
   ]
  },
  {
   "cell_type": "code",
   "execution_count": 11,
   "metadata": {},
   "outputs": [],
   "source": [
    "def get_learnable_parameters(V_H, device):\n",
    "    hidden_dim = [15, 15, 1]  # 3 layers\n",
    "    theta_1 = torch.empty(V_H, hidden_dim[0], dtype=torch.float64, requires_grad=True, device=device)\n",
    "    torch.nn.init.xavier_uniform_(theta_1)\n",
    "    theta_2 = torch.empty(hidden_dim[0], hidden_dim[1], dtype=torch.float64, requires_grad=True, device=device)\n",
    "    torch.nn.init.xavier_uniform_(theta_2)\n",
    "    theta_3 = torch.empty(hidden_dim[1], hidden_dim[2], dtype=torch.float64, requires_grad=True, device=device)\n",
    "    torch.nn.init.xavier_uniform_(theta_3)\n",
    "    theta_HGNN = [theta_1, theta_2, theta_3]\n",
    "    return theta_HGNN"
   ]
  },
  {
   "cell_type": "code",
   "execution_count": 12,
   "metadata": {},
   "outputs": [],
   "source": [
    "def HGNN(X, Dv_inv, De_inv, H, W, theta):\n",
    "    theta_1, theta_2, theta_3 = theta\n",
    "    Xbar1 = Dv_inv @ H @ W @ De_inv @ H.transpose(1, 2) @ Dv_inv @ X @ theta_1.unsqueeze(0)\n",
    "    X1 = torch.nn.functional.relu(Xbar1)\n",
    "    Xbar2 = Dv_inv @ H @ W @ De_inv @ H.transpose(1, 2) @ Dv_inv @ X1 @ theta_2.unsqueeze(0)\n",
    "    X2 = torch.nn.functional.relu(Xbar2)\n",
    "    Xbar3 = Dv_inv @ H @ W @ De_inv @ H.transpose(1, 2) @ Dv_inv @ X2 @ theta_3.unsqueeze(0)\n",
    "    X3 = torch.nn.functional.sigmoid(Xbar3)\n",
    "    X3 = X3.squeeze()\n",
    "    return X3"
   ]
  },
  {
   "cell_type": "markdown",
   "metadata": {},
   "source": [
    "# Training"
   ]
  },
  {
   "cell_type": "code",
   "execution_count": 13,
   "metadata": {},
   "outputs": [],
   "source": [
    "theta_HGNN = get_learnable_parameters(V_H, device)\n",
    "optimizer = torch.optim.Adam(theta_HGNN, lr=0.01)\n",
    "\n",
    "loss_fn = CustomLossBatch()"
   ]
  },
  {
   "cell_type": "code",
   "execution_count": 14,
   "metadata": {},
   "outputs": [
    {
     "name": "stdout",
     "output_type": "stream",
     "text": [
      "Epoch: 0, Loss:-70.91299 | Train Utility: 0.12461, Feasibility: 0.96 | Test Utility: 0.10140, Feasibility: 0.97\n",
      "Epoch: 1, Loss:-71.40113 | Train Utility: 0.12304, Feasibility: 0.96 | Test Utility: 0.10104, Feasibility: 0.97\n",
      "Epoch: 2, Loss:-71.52482 | Train Utility: 0.12317, Feasibility: 0.96 | Test Utility: 0.10100, Feasibility: 0.97\n"
     ]
    },
    {
     "ename": "KeyboardInterrupt",
     "evalue": "",
     "output_type": "error",
     "traceback": [
      "\u001b[0;31m---------------------------------------------------------------------------\u001b[0m",
      "\u001b[0;31mKeyboardInterrupt\u001b[0m                         Traceback (most recent call last)",
      "Cell \u001b[0;32mIn[14], line 18\u001b[0m\n\u001b[1;32m     16\u001b[0m RHS_const \u001b[38;5;241m=\u001b[39m H\u001b[38;5;241m.\u001b[39mtranspose(\u001b[38;5;241m2\u001b[39m, \u001b[38;5;241m1\u001b[39m)\u001b[38;5;241m.\u001b[39msum(dim\u001b[38;5;241m=\u001b[39m\u001b[38;5;241m2\u001b[39m) \u001b[38;5;241m-\u001b[39m \u001b[38;5;241m1\u001b[39m\n\u001b[1;32m     17\u001b[0m LHS_const \u001b[38;5;241m=\u001b[39m H\u001b[38;5;241m.\u001b[39mtranspose(\u001b[38;5;241m2\u001b[39m, \u001b[38;5;241m1\u001b[39m)\n\u001b[0;32m---> 18\u001b[0m z \u001b[38;5;241m=\u001b[39m \u001b[43mlinsat_layer_modified\u001b[49m\u001b[43m(\u001b[49m\u001b[43mz\u001b[49m\u001b[38;5;241;43m.\u001b[39;49m\u001b[43mfloat\u001b[49m\u001b[43m(\u001b[49m\u001b[43m)\u001b[49m\u001b[43m,\u001b[49m\u001b[43m \u001b[49m\u001b[43mA\u001b[49m\u001b[38;5;241;43m=\u001b[39;49m\u001b[43mLHS_const\u001b[49m\u001b[38;5;241;43m.\u001b[39;49m\u001b[43mfloat\u001b[49m\u001b[43m(\u001b[49m\u001b[43m)\u001b[49m\u001b[43m,\u001b[49m\u001b[43m \u001b[49m\u001b[43mb\u001b[49m\u001b[38;5;241;43m=\u001b[39;49m\u001b[43mRHS_const\u001b[49m\u001b[38;5;241;43m.\u001b[39;49m\u001b[43mfloat\u001b[49m\u001b[43m(\u001b[49m\u001b[43m)\u001b[49m\u001b[43m,\u001b[49m\u001b[43m \u001b[49m\u001b[43mtau\u001b[49m\u001b[38;5;241;43m=\u001b[39;49m\u001b[43mtau\u001b[49m\u001b[43m,\u001b[49m\u001b[43m \u001b[49m\u001b[43mmax_iter\u001b[49m\u001b[38;5;241;43m=\u001b[39;49m\u001b[43mmax_iter\u001b[49m\u001b[43m,\u001b[49m\u001b[43m \u001b[49m\u001b[43mdummy_val\u001b[49m\u001b[38;5;241;43m=\u001b[39;49m\u001b[38;5;241;43m0\u001b[39;49m\u001b[43m,\u001b[49m\u001b[43m \u001b[49m\u001b[43mno_warning\u001b[49m\u001b[38;5;241;43m=\u001b[39;49m\u001b[38;5;28;43;01mFalse\u001b[39;49;00m\u001b[43m,\u001b[49m\u001b[43m \u001b[49m\u001b[43mgrouped\u001b[49m\u001b[38;5;241;43m=\u001b[39;49m\u001b[38;5;28;43;01mFalse\u001b[39;49;00m\u001b[43m)\u001b[49m\u001b[38;5;241m.\u001b[39mdouble()\n\u001b[1;32m     19\u001b[0m z \u001b[38;5;241m=\u001b[39m z \u001b[38;5;241m/\u001b[39m beta\n\u001b[1;32m     20\u001b[0m loss \u001b[38;5;241m=\u001b[39m loss_fn(z, X, N, gamma\u001b[38;5;241m=\u001b[39m\u001b[38;5;241m0.0\u001b[39m)[\u001b[38;5;241m0\u001b[39m]\n",
      "File \u001b[0;32m/opt/conda/lib/python3.12/site-packages/LinSATNet/linsat.py:64\u001b[0m, in \u001b[0;36mlinsat_layer_modified\u001b[0;34m(x, A, b, constr_dict, tau, max_iter, dummy_val, mode, grouped, no_warning)\u001b[0m\n\u001b[1;32m     61\u001b[0m \u001b[38;5;28;01melse\u001b[39;00m:\n\u001b[1;32m     62\u001b[0m     \u001b[38;5;28;01mraise\u001b[39;00m \u001b[38;5;167;01mNotImplementedError\u001b[39;00m(\u001b[38;5;124mf\u001b[39m\u001b[38;5;124m'\u001b[39m\u001b[38;5;124mmode=\u001b[39m\u001b[38;5;132;01m{\u001b[39;00mmode\u001b[38;5;132;01m}\u001b[39;00m\u001b[38;5;124m, grouped=\u001b[39m\u001b[38;5;132;01m{\u001b[39;00mgrouped\u001b[38;5;132;01m}\u001b[39;00m\u001b[38;5;124m, is_sparse=\u001b[39m\u001b[38;5;132;01m{\u001b[39;00mis_sparse\u001b[38;5;132;01m}\u001b[39;00m\u001b[38;5;124m'\u001b[39m)\n\u001b[0;32m---> 64\u001b[0m x \u001b[38;5;241m=\u001b[39m \u001b[43mkernel\u001b[49m\u001b[43m(\u001b[49m\u001b[43mx\u001b[49m\u001b[43m,\u001b[49m\u001b[43m \u001b[49m\u001b[38;5;241;43m*\u001b[39;49m\u001b[38;5;241;43m*\u001b[39;49m\u001b[43mparam_dict\u001b[49m\u001b[43m)\u001b[49m\n\u001b[1;32m     66\u001b[0m \u001b[38;5;28;01mif\u001b[39;00m vector_input:\n\u001b[1;32m     67\u001b[0m     x \u001b[38;5;241m=\u001b[39m x\u001b[38;5;241m.\u001b[39msqueeze(\u001b[38;5;241m0\u001b[39m)\n",
      "File \u001b[0;32m/opt/conda/lib/python3.12/site-packages/LinSATNet/linsat.py:357\u001b[0m, in \u001b[0;36mlinsat_kernel_v2\u001b[0;34m(x, A, b, tau, max_iter, dummy_val, batch_size, num_var, num_constr, ori_A, ori_b, no_warning)\u001b[0m\n\u001b[1;32m    354\u001b[0m     mask_A \u001b[38;5;241m=\u001b[39m (A[:,j, :\u001b[38;5;241m-\u001b[39m\u001b[38;5;241m1\u001b[39m] \u001b[38;5;241m!=\u001b[39m \u001b[38;5;241m0\u001b[39m)\u001b[38;5;241m.\u001b[39munsqueeze(\u001b[38;5;241m1\u001b[39m)\n\u001b[1;32m    356\u001b[0m     \u001b[38;5;66;03m# Update log_x only where A[:, j] is not zero\u001b[39;00m\n\u001b[0;32m--> 357\u001b[0m     log_x \u001b[38;5;241m=\u001b[39m \u001b[43mtorch\u001b[49m\u001b[38;5;241;43m.\u001b[39;49m\u001b[43mwhere\u001b[49m\u001b[43m(\u001b[49m\u001b[43mmask_A\u001b[49m\u001b[43m,\u001b[49m\u001b[43m \u001b[49m\u001b[43mlog_nz_x\u001b[49m\u001b[43m[\u001b[49m\u001b[43m:\u001b[49m\u001b[43m,\u001b[49m\u001b[43m \u001b[49m\u001b[43m:\u001b[49m\u001b[43m,\u001b[49m\u001b[43m \u001b[49m\u001b[43m:\u001b[49m\u001b[38;5;241;43m-\u001b[39;49m\u001b[38;5;241;43m1\u001b[39;49m\u001b[43m]\u001b[49m\u001b[43m,\u001b[49m\u001b[43m \u001b[49m\u001b[43mlog_x\u001b[49m\u001b[43m)\u001b[49m\n\u001b[1;32m    358\u001b[0m     log_dum_x1[j][mask] \u001b[38;5;241m=\u001b[39m log_nz_x[mask, :, \u001b[38;5;241m-\u001b[39m\u001b[38;5;241m1\u001b[39m:]\u001b[38;5;241m.\u001b[39mclone()  \u001b[38;5;66;03m# store the last slice separately\u001b[39;00m\n\u001b[1;32m    361\u001b[0m \u001b[38;5;28;01mif\u001b[39;00m num_sat_constrs \u001b[38;5;241m==\u001b[39m num_constr:\n",
      "\u001b[0;31mKeyboardInterrupt\u001b[0m: "
     ]
    }
   ],
   "source": [
    "beta = 1\n",
    "tau = 0.1\n",
    "max_iter = 1000\n",
    "epochs = 15\n",
    "train_utility, test_utility = [], []\n",
    "optimizer.zero_grad()\n",
    "for epoch in range(epochs):\n",
    "    # Train Phase\n",
    "    loss_epoch, utility_epoch, feasibility_epoch = [], [], []\n",
    "    for (X, Dv_inv, De_inv, H, W) in train_loader:\n",
    "        X, H, W = X.to(device), H.to(device), W.to(device)\n",
    "        Dv_inv, De_inv = Dv_inv.to(device), De_inv.to(device)\n",
    "        z = HGNN(X, Dv_inv, De_inv, H, W, theta_HGNN)\n",
    "        # Linsat\n",
    "        z = z * beta\n",
    "        RHS_const = H.transpose(2, 1).sum(dim=2) - 1\n",
    "        LHS_const = H.transpose(2, 1)\n",
    "        z = linsat_layer_modified(z.float(), A=LHS_const.float(), b=RHS_const.float(), tau=tau, max_iter=max_iter, dummy_val=0, no_warning=False, grouped=False).double()\n",
    "        z = z / beta\n",
    "        loss = loss_fn(z, X, N, gamma=0.0)[0]\n",
    "        utility = utility_fn(z, X, N)  # utility based on discrete values of z\n",
    "        feasibility = check_feasibility(H, z)\n",
    "        utility_epoch.append(utility.item()/(batch_size*V_H))\n",
    "        feasibility_epoch.append(feasibility)\n",
    "        loss.backward()\n",
    "        optimizer.step()\n",
    "        optimizer.zero_grad()\n",
    "        loss_epoch.append(loss.item())\n",
    "\n",
    "    # Test Phase\n",
    "    utility_epoch_test, feasibility_epoch_test = [], []\n",
    "    for (X, Dv_inv, De_inv, H, W) in test_loader:\n",
    "        X, H, W = X.to(device), H.to(device), W.to(device)\n",
    "        Dv_inv, De_inv = Dv_inv.to(device), De_inv.to(device)\n",
    "        z = HGNN(X, Dv_inv, De_inv, H, W, theta_HGNN)\n",
    "        # Linsat \n",
    "        z = z * beta\n",
    "        RHS_const = H.transpose(2, 1).sum(dim=2) - 1\n",
    "        LHS_const = H.transpose(2, 1)\n",
    "        z = linsat_layer_modified(z.float(), A=LHS_const.float(), b=RHS_const.float(), tau=tau, max_iter=max_iter, dummy_val=0, no_warning=False, grouped=False).double()\n",
    "        z = z / beta\n",
    "        utility = utility_fn(z, X, N)  # utility based on discrete values of z\n",
    "        feasibility = check_feasibility(H, z)\n",
    "        utility_epoch_test.append(utility.item()/(batch_size*V_H))\n",
    "        feasibility_epoch_test.append(feasibility)\n",
    "    utility_epoch_mean = np.mean(utility_epoch)\n",
    "    utility_epoch_test_mean = np.mean(utility_epoch_test)\n",
    "    feasibility_epoch_mean = np.mean(feasibility_epoch)\n",
    "    feasibility_epoch_test_mean = np.mean(feasibility_epoch_test)\n",
    "    if epoch % 1 == 0:\n",
    "        print(f\"Epoch: {epoch}, Loss:{np.mean(loss_epoch):.5f} | Train Utility: {utility_epoch_mean:.5f}, Feasibility: {feasibility_epoch_mean:.2f}\" \\\n",
    "        f\" | Test Utility: {utility_epoch_test_mean:.5f}, Feasibility: {feasibility_epoch_test_mean:.2f}\")\n",
    "    train_utility.append(utility_epoch_mean)\n",
    "    test_utility.append(utility_epoch_test_mean)\n",
    "print(f\"Final utility per hypergraph: {utility_epoch_test}\")"
   ]
  },
  {
   "cell_type": "code",
   "execution_count": null,
   "metadata": {},
   "outputs": [],
   "source": [
    "import matplotlib.pyplot as plt"
   ]
  },
  {
   "cell_type": "code",
   "execution_count": 204,
   "metadata": {},
   "outputs": [
    {
     "data": {
      "image/png": "[encoded data removed]",
      "text/plain": [
       "<Figure size 640x480 with 1 Axes>"
      ]
     },
     "metadata": {},
     "output_type": "display_data"
    }
   ],
   "source": [
    "plt.plot(torch.stack(train_utility).detach().numpy(), label='train')\n",
    "plt.plot(torch.stack(test_utility).detach().numpy(), label='validation')\n",
    "plt.xlabel('Epoch')\n",
    "plt.ylabel('Utility')\n",
    "plt.grid()\n",
    "plt.legend()\n",
    "# plt.savefig('HGNN_train_reg0.5.jpg')"
   ]
  },
  {
   "cell_type": "code",
   "execution_count": 238,
   "metadata": {},
   "outputs": [
    {
     "data": {
      "text/plain": [
       "tensor([[0.4464],\n",
       "        [0.4477],\n",
       "        [0.4607],\n",
       "        [0.4284],\n",
       "        [0.4309],\n",
       "        [0.4087],\n",
       "        [0.4464],\n",
       "        [0.4238],\n",
       "        [0.4166],\n",
       "        [0.4267]], dtype=torch.float64, grad_fn=<SigmoidBackward0>)"
      ]
     },
     "execution_count": 238,
     "metadata": {},
     "output_type": "execute_result"
    }
   ],
   "source": [
    "Z"
   ]
  },
  {
   "cell_type": "code",
   "execution_count": 138,
   "metadata": {},
   "outputs": [
    {
     "data": {
      "text/plain": [
       "(tensor(-8.7234, dtype=torch.float64, grad_fn=<NegBackward0>),\n",
       " tensor(8.7234, dtype=torch.float64, grad_fn=<SumBackward0>))"
      ]
     },
     "execution_count": 138,
     "metadata": {},
     "output_type": "execute_result"
    }
   ],
   "source": [
    "loss_fn(Z, X, N)"
   ]
  },
  {
   "cell_type": "code",
   "execution_count": 139,
   "metadata": {},
   "outputs": [
    {
     "data": {
      "text/plain": [
       "(tensor(9.7985, dtype=torch.float64), [0, 0, 0, 0, 0, 0, 0, 0, 1, 0])"
      ]
     },
     "execution_count": 139,
     "metadata": {},
     "output_type": "execute_result"
    }
   ],
   "source": [
    "exh_solver(V_H, None, V_H*[N], X, list(hyp['E'].values()))"
   ]
  },
  {
   "cell_type": "code",
   "execution_count": 16,
   "metadata": {},
   "outputs": [
    {
     "data": {
      "text/plain": [
       "[<matplotlib.lines.Line2D at 0x7f95ea363da0>]"
      ]
     },
     "execution_count": 16,
     "metadata": {},
     "output_type": "execute_result"
    },
    {
     "data": {
      "image/png": "[encoded data removed]",
      "text/plain": [
       "<Figure size 640x480 with 1 Axes>"
      ]
     },
     "metadata": {},
     "output_type": "display_data"
    }
   ],
   "source": [
    "plt.plot(torch.stack(HyperGCN['utility']).detach().numpy())"
   ]
  },
  {
   "cell_type": "code",
   "execution_count": null,
   "metadata": {},
   "outputs": [],
   "source": []
  }
 ],
 "metadata": {
  "kernelspec": {
   "display_name": "Python 3 (ipykernel)",
   "language": "python",
   "name": "python3"
  },
  "language_info": {
   "codemirror_mode": {
    "name": "ipython",
    "version": 3
   },
   "file_extension": ".py",
   "mimetype": "text/x-python",
   "name": "python",
   "nbconvert_exporter": "python",
   "pygments_lexer": "ipython3",
   "version": "3.12.2"
  }
 },
 "nbformat": 4,
 "nbformat_minor": 4
}
