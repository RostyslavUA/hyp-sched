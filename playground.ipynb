{
 "cells": [
  {
   "cell_type": "code",
   "execution_count": 1,
   "metadata": {},
   "outputs": [],
   "source": [
    "from utils import get_hyperedges, get_data, get_H, check_feasibility\n",
    "from model import CustomLossBatch\n",
    "from LinSATNet import linsat_layer_modified\n",
    "from model import utility_fn"
   ]
  },
  {
   "cell_type": "markdown",
   "metadata": {
    "jp-MarkdownHeadingCollapsed": true
   },
   "source": [
    "# Pyomo Solver"
   ]
  },
  {
   "cell_type": "code",
   "execution_count": 2,
   "metadata": {
    "scrolled": true
   },
   "outputs": [],
   "source": [
    "# from pyomo.environ import (\n",
    "#     ConcreteModel, Var, Objective, ConstraintList, SolverFactory, NonNegativeReals, Binary, maximize\n",
    "# )\n",
    "# # Step 2: Create Pyomo model\n",
    "# model = ConcreteModel()\n",
    "\n",
    "# # Step 3: Define binary decision variables for each link (b_i)\n",
    "# model.b = Var(range(V_H), domain=Binary)  # b[i] = 1 if link i is active, 0 otherwise\n",
    "\n",
    "# # Step 4: Define the objective function (maximize throughput)\n",
    "# def throughput(model):\n",
    "#     total_throughput = 0\n",
    "#     for i in range(V_H):\n",
    "#         interference = sum(model.b[j] * I[i, j] for j in range(V_H) if j != i)  # Interference from other active links\n",
    "#         denominator = N[i] + interference  # Noise + interference\n",
    "#         total_throughput += (I[i,i] * model.b[i]) / denominator  # Contribution of link i to throughput\n",
    "#     return total_throughput\n",
    "\n",
    "# model.obj = Objective(rule=throughput, sense=maximize)\n",
    "\n",
    "# # Step 5: Add constraints for hyperedges (each hyperedge has a threshold)\n",
    "# model.constraints = ConstraintList()\n",
    "\n",
    "# for e_idx, hyperedge in enumerate(hyperedges):\n",
    "#     model.constraints.add(\n",
    "#         sum(model.b[i] for i in hyperedge) <= len(hyperedge)-1\n",
    "#     )\n",
    "\n",
    "# # Step 6: Solve the model\n",
    "# solver = SolverFactory('ipopt')  # Use Ipopt for nonlinear problems\n",
    "# result = solver.solve(model, tee=True)\n",
    "\n",
    "# # Step 7: Extract the results\n",
    "# optimal_decisions = [model.b[i].value for i in range(V_H)]\n",
    "\n",
    "# # Output the optimal link schedule\n",
    "# print(\"Optimal link schedule:\", optimal_decisions)\n",
    "# print(\"Maximum throughput:\", model.obj())"
   ]
  },
  {
   "cell_type": "markdown",
   "metadata": {},
   "source": [
    "# Generate data"
   ]
  },
  {
   "cell_type": "code",
   "execution_count": 105,
   "metadata": {},
   "outputs": [],
   "source": [
    "import numpy as np\n",
    "\n",
    "# Step 1: Define problem parameters\n",
    "V_H = 10  # Number of nodes (links)\n",
    "E_H = 5   # Number of hyperedges\n",
    "N = 0.1  # Noise power\n",
    "theta = 0.5  # Thresholds for hyperedges\n",
    "k = 4  # max hyperedge cardinality\n",
    "train_samples = 10000\n",
    "test_samples = 100\n",
    "batch_size = 100\n"
   ]
  },
  {
   "cell_type": "code",
   "execution_count": 106,
   "metadata": {},
   "outputs": [],
   "source": [
    "itens_train, hlist_train = get_data(train_samples, V_H, N, theta, k)\n",
    "itens_test, hlist_test = get_data(test_samples, V_H, N, theta, k)\n",
    "H_train = get_H(hlist_train, V_H, train_samples)\n",
    "H_test = get_H(hlist_test, V_H, test_samples)"
   ]
  },
  {
   "cell_type": "markdown",
   "metadata": {},
   "source": [
    "# Exhaustive Search Solver"
   ]
  },
  {
   "cell_type": "code",
   "execution_count": 107,
   "metadata": {},
   "outputs": [],
   "source": [
    "# exhaustive search\n",
    "def exh_solver(V_H, E_H, N, I, hyperedges):\n",
    "    best_throughput = 0\n",
    "    best_schedule = None\n",
    "    for i in range(2**V_H):\n",
    "        schedule = [int(x) for x in bin(i)[2:].zfill(V_H)]\n",
    "        throughput = 0\n",
    "\n",
    "        # check if the schedule satisfies the hyperedge constraints\n",
    "        valid_schedule = True\n",
    "        for hyperedge in hyperedges:\n",
    "            if sum(schedule[j] for j in hyperedge) == len(hyperedge):\n",
    "                valid_schedule = False\n",
    "                break\n",
    "        \n",
    "        if not valid_schedule:\n",
    "            continue\n",
    "        # calculate throughput\n",
    "        for i in range(V_H):\n",
    "            interference = sum(schedule[j] * I[i, j] for j in range(V_H) if j != i)\n",
    "            denominator = N[i] + interference\n",
    "            throughput += (I[i,i] * schedule[i]) / denominator\n",
    "        \n",
    "        if throughput > best_throughput:\n",
    "            best_throughput = throughput\n",
    "            best_schedule = schedule\n",
    "\n",
    "    return best_throughput, best_schedule\n",
    "        "
   ]
  },
  {
   "cell_type": "code",
   "execution_count": 108,
   "metadata": {
    "scrolled": true
   },
   "outputs": [
    {
     "name": "stdout",
     "output_type": "stream",
     "text": [
      "Exhaustive search results:\n",
      "Optimal link schedule: [0, 0, 0, 0, 1, 0, 0, 0, 0, 0]\n",
      "Maximum throughput: 7.226458646448999\n",
      "Exhaustive search results:\n",
      "Optimal link schedule: [0, 0, 0, 0, 0, 0, 0, 0, 1, 0]\n",
      "Maximum throughput: 8.538285590105312\n",
      "Exhaustive search results:\n",
      "Optimal link schedule: [0, 0, 1, 0, 0, 0, 0, 0, 0, 0]\n",
      "Maximum throughput: 9.44807904401771\n",
      "Exhaustive search results:\n",
      "Optimal link schedule: [0, 1, 0, 0, 0, 0, 0, 0, 0, 0]\n",
      "Maximum throughput: 9.688127907472804\n",
      "Exhaustive search results:\n",
      "Optimal link schedule: [0, 1, 0, 0, 1, 0, 0, 0, 0, 0]\n",
      "Maximum throughput: 9.430331871776247\n",
      "Exhaustive search results:\n",
      "Optimal link schedule: [0, 0, 0, 1, 0, 0, 0, 0, 0, 0]\n",
      "Maximum throughput: 6.524916796226012\n",
      "Exhaustive search results:\n",
      "Optimal link schedule: [1, 0, 0, 0, 0, 0, 0, 0, 0, 0]\n",
      "Maximum throughput: 9.541208294471847\n",
      "Exhaustive search results:\n",
      "Optimal link schedule: [0, 1, 0, 0, 0, 0, 0, 0, 0, 0]\n",
      "Maximum throughput: 8.422652351286915\n",
      "Exhaustive search results:\n",
      "Optimal link schedule: [0, 0, 0, 0, 0, 0, 1, 0, 0, 0]\n",
      "Maximum throughput: 8.581306163913906\n",
      "Exhaustive search results:\n",
      "Optimal link schedule: [0, 0, 0, 0, 1, 0, 0, 0, 0, 0]\n",
      "Maximum throughput: 9.871640281095143\n",
      "Exhaustive search results:\n",
      "Optimal link schedule: [1, 0, 0, 0, 0, 0, 0, 0, 0, 0]\n",
      "Maximum throughput: 9.42580047503372\n",
      "Exhaustive search results:\n",
      "Optimal link schedule: [0, 0, 0, 0, 0, 0, 0, 1, 0, 0]\n",
      "Maximum throughput: 6.254517247691638\n",
      "Exhaustive search results:\n",
      "Optimal link schedule: [0, 0, 0, 0, 0, 0, 0, 1, 0, 1]\n",
      "Maximum throughput: 12.350278427894978\n",
      "Exhaustive search results:\n",
      "Optimal link schedule: [0, 0, 0, 0, 0, 0, 0, 0, 0, 1]\n",
      "Maximum throughput: 8.538594552297512\n",
      "Exhaustive search results:\n",
      "Optimal link schedule: [0, 0, 0, 1, 0, 0, 0, 0, 0, 1]\n",
      "Maximum throughput: 7.850658048006242\n",
      "Exhaustive search results:\n",
      "Optimal link schedule: [0, 0, 0, 0, 0, 0, 1, 0, 0, 0]\n",
      "Maximum throughput: 9.191038350525977\n",
      "Exhaustive search results:\n",
      "Optimal link schedule: [0, 0, 0, 0, 0, 0, 0, 0, 1, 0]\n",
      "Maximum throughput: 9.882027175791626\n",
      "Exhaustive search results:\n",
      "Optimal link schedule: [0, 0, 0, 0, 0, 0, 0, 0, 0, 1]\n",
      "Maximum throughput: 7.602723802085147\n",
      "Exhaustive search results:\n",
      "Optimal link schedule: [0, 0, 1, 0, 0, 0, 0, 0, 0, 0]\n",
      "Maximum throughput: 9.801471859117145\n",
      "Exhaustive search results:\n",
      "Optimal link schedule: [0, 0, 0, 0, 0, 0, 0, 1, 0, 1]\n",
      "Maximum throughput: 7.6054120971810875\n",
      "Exhaustive search results:\n",
      "Optimal link schedule: [0, 0, 0, 0, 0, 0, 0, 0, 0, 1]\n",
      "Maximum throughput: 7.587726527727357\n",
      "Exhaustive search results:\n",
      "Optimal link schedule: [0, 1, 0, 0, 0, 0, 0, 0, 0, 0]\n",
      "Maximum throughput: 9.579650387444815\n",
      "Exhaustive search results:\n",
      "Optimal link schedule: [0, 1, 0, 0, 0, 0, 0, 0, 0, 0]\n",
      "Maximum throughput: 9.878888872911809\n",
      "Exhaustive search results:\n",
      "Optimal link schedule: [0, 1, 0, 0, 0, 0, 0, 0, 0, 0]\n",
      "Maximum throughput: 9.246045117895925\n",
      "Exhaustive search results:\n",
      "Optimal link schedule: [0, 0, 1, 0, 0, 0, 0, 0, 0, 0]\n",
      "Maximum throughput: 8.724056718665668\n",
      "Exhaustive search results:\n",
      "Optimal link schedule: [0, 0, 0, 0, 0, 0, 0, 1, 0, 0]\n",
      "Maximum throughput: 7.0751242658334474\n",
      "Exhaustive search results:\n",
      "Optimal link schedule: [0, 0, 0, 0, 0, 0, 0, 0, 0, 1]\n",
      "Maximum throughput: 7.468076856096759\n",
      "Exhaustive search results:\n",
      "Optimal link schedule: [0, 0, 1, 0, 0, 0, 0, 0, 0, 0]\n",
      "Maximum throughput: 9.746011249278444\n",
      "Exhaustive search results:\n",
      "Optimal link schedule: [0, 0, 1, 0, 0, 0, 0, 0, 0, 0]\n",
      "Maximum throughput: 9.451304065815739\n",
      "Exhaustive search results:\n",
      "Optimal link schedule: [0, 0, 0, 0, 0, 0, 0, 0, 1, 0]\n",
      "Maximum throughput: 9.51740567788169\n",
      "Exhaustive search results:\n",
      "Optimal link schedule: [0, 0, 0, 0, 0, 0, 0, 0, 0, 1]\n",
      "Maximum throughput: 9.585633346366436\n",
      "Exhaustive search results:\n",
      "Optimal link schedule: [0, 0, 0, 0, 0, 0, 0, 0, 1, 0]\n",
      "Maximum throughput: 9.048556217458419\n",
      "Exhaustive search results:\n",
      "Optimal link schedule: [0, 0, 0, 0, 1, 0, 1, 0, 0, 0]\n",
      "Maximum throughput: 10.811403538173753\n",
      "Exhaustive search results:\n",
      "Optimal link schedule: [0, 0, 0, 0, 0, 1, 0, 0, 0, 1]\n",
      "Maximum throughput: 9.154893548867884\n",
      "Exhaustive search results:\n",
      "Optimal link schedule: [0, 0, 0, 1, 0, 0, 0, 1, 0, 0]\n",
      "Maximum throughput: 10.324184266530082\n",
      "Exhaustive search results:\n",
      "Optimal link schedule: [0, 0, 0, 0, 1, 0, 0, 0, 0, 1]\n",
      "Maximum throughput: 12.957087202892186\n",
      "Exhaustive search results:\n",
      "Optimal link schedule: [0, 0, 0, 1, 0, 0, 0, 0, 0, 0]\n",
      "Maximum throughput: 9.479353481277014\n",
      "Exhaustive search results:\n",
      "Optimal link schedule: [0, 0, 0, 0, 0, 0, 0, 1, 1, 0]\n",
      "Maximum throughput: 9.87894740719247\n",
      "Exhaustive search results:\n",
      "Optimal link schedule: [0, 0, 0, 0, 0, 0, 0, 0, 1, 0]\n",
      "Maximum throughput: 9.156072452158341\n",
      "Exhaustive search results:\n",
      "Optimal link schedule: [0, 0, 0, 0, 1, 0, 0, 0, 0, 0]\n",
      "Maximum throughput: 9.614511883294211\n",
      "Exhaustive search results:\n",
      "Optimal link schedule: [0, 0, 0, 1, 0, 0, 0, 0, 0, 0]\n",
      "Maximum throughput: 8.62705472597245\n",
      "Exhaustive search results:\n",
      "Optimal link schedule: [0, 0, 0, 0, 0, 0, 0, 0, 0, 1]\n",
      "Maximum throughput: 8.594506954013891\n",
      "Exhaustive search results:\n",
      "Optimal link schedule: [0, 0, 0, 0, 0, 0, 0, 0, 1, 0]\n",
      "Maximum throughput: 9.497158034784789\n",
      "Exhaustive search results:\n",
      "Optimal link schedule: [0, 0, 0, 0, 0, 1, 0, 0, 0, 0]\n",
      "Maximum throughput: 7.372124432495169\n",
      "Exhaustive search results:\n",
      "Optimal link schedule: [0, 0, 0, 0, 0, 1, 0, 0, 0, 0]\n",
      "Maximum throughput: 8.42019325976033\n",
      "Exhaustive search results:\n",
      "Optimal link schedule: [0, 0, 0, 0, 0, 0, 0, 1, 0, 0]\n",
      "Maximum throughput: 9.970417647471464\n",
      "Exhaustive search results:\n",
      "Optimal link schedule: [0, 0, 1, 0, 0, 0, 0, 0, 0, 0]\n",
      "Maximum throughput: 9.974683764568365\n",
      "Exhaustive search results:\n",
      "Optimal link schedule: [0, 0, 0, 0, 0, 0, 0, 1, 0, 0]\n",
      "Maximum throughput: 9.987508290524676\n",
      "Exhaustive search results:\n",
      "Optimal link schedule: [0, 1, 0, 0, 0, 0, 1, 0, 0, 0]\n",
      "Maximum throughput: 14.681007772761115\n",
      "Exhaustive search results:\n",
      "Optimal link schedule: [0, 0, 0, 0, 0, 0, 0, 1, 0, 0]\n",
      "Maximum throughput: 8.768390839783565\n",
      "Exhaustive search results:\n",
      "Optimal link schedule: [0, 0, 0, 0, 0, 0, 0, 0, 1, 0]\n",
      "Maximum throughput: 9.551367421573703\n",
      "Exhaustive search results:\n",
      "Optimal link schedule: [0, 0, 0, 0, 0, 0, 0, 1, 0, 0]\n",
      "Maximum throughput: 9.056038067985057\n",
      "Exhaustive search results:\n",
      "Optimal link schedule: [0, 0, 0, 0, 0, 1, 0, 0, 0, 0]\n",
      "Maximum throughput: 8.77951622548864\n",
      "Exhaustive search results:\n",
      "Optimal link schedule: [0, 0, 0, 0, 1, 1, 0, 0, 0, 0]\n",
      "Maximum throughput: 9.659167551039971\n",
      "Exhaustive search results:\n",
      "Optimal link schedule: [0, 0, 0, 0, 0, 0, 1, 1, 0, 0]\n",
      "Maximum throughput: 9.694133750110009\n",
      "Exhaustive search results:\n",
      "Optimal link schedule: [0, 0, 0, 0, 1, 0, 0, 0, 0, 0]\n",
      "Maximum throughput: 9.60586568927214\n",
      "Exhaustive search results:\n",
      "Optimal link schedule: [0, 0, 0, 0, 0, 0, 0, 1, 0, 0]\n",
      "Maximum throughput: 7.057518392465075\n",
      "Exhaustive search results:\n",
      "Optimal link schedule: [0, 0, 1, 0, 1, 0, 0, 0, 0, 0]\n",
      "Maximum throughput: 10.175033186351975\n",
      "Exhaustive search results:\n",
      "Optimal link schedule: [0, 0, 0, 0, 0, 0, 0, 1, 0, 0]\n",
      "Maximum throughput: 9.43573206635354\n",
      "Exhaustive search results:\n",
      "Optimal link schedule: [0, 0, 1, 0, 0, 0, 0, 1, 0, 0]\n",
      "Maximum throughput: 9.774109020646197\n",
      "Exhaustive search results:\n",
      "Optimal link schedule: [0, 0, 1, 0, 0, 0, 0, 0, 0, 0]\n",
      "Maximum throughput: 9.231967612665365\n",
      "Exhaustive search results:\n",
      "Optimal link schedule: [0, 0, 0, 0, 0, 0, 0, 0, 0, 1]\n",
      "Maximum throughput: 9.269347345255936\n",
      "Exhaustive search results:\n",
      "Optimal link schedule: [0, 0, 0, 0, 0, 0, 0, 0, 1, 0]\n",
      "Maximum throughput: 9.009492808858251\n",
      "Exhaustive search results:\n",
      "Optimal link schedule: [0, 0, 0, 0, 0, 0, 0, 1, 0, 0]\n",
      "Maximum throughput: 8.831109561183153\n",
      "Exhaustive search results:\n",
      "Optimal link schedule: [0, 0, 0, 0, 0, 1, 0, 1, 0, 0]\n",
      "Maximum throughput: 13.988248607567073\n",
      "Exhaustive search results:\n",
      "Optimal link schedule: [0, 0, 0, 0, 1, 0, 0, 0, 0, 0]\n",
      "Maximum throughput: 9.964362176199666\n",
      "Exhaustive search results:\n",
      "Optimal link schedule: [1, 0, 0, 0, 0, 0, 1, 0, 0, 0]\n",
      "Maximum throughput: 11.414622739678666\n",
      "Exhaustive search results:\n",
      "Optimal link schedule: [0, 0, 0, 1, 0, 0, 0, 0, 0, 0]\n",
      "Maximum throughput: 9.305996656135653\n",
      "Exhaustive search results:\n",
      "Optimal link schedule: [0, 0, 0, 1, 0, 0, 0, 0, 0, 0]\n",
      "Maximum throughput: 8.22138022765361\n",
      "Exhaustive search results:\n",
      "Optimal link schedule: [0, 0, 0, 0, 0, 0, 1, 0, 0, 0]\n",
      "Maximum throughput: 9.68446174160386\n",
      "Exhaustive search results:\n",
      "Optimal link schedule: [0, 1, 0, 0, 0, 0, 0, 0, 0, 0]\n",
      "Maximum throughput: 8.549336288280974\n",
      "Exhaustive search results:\n",
      "Optimal link schedule: [0, 0, 1, 0, 0, 0, 0, 0, 1, 0]\n",
      "Maximum throughput: 14.272632056656548\n",
      "Exhaustive search results:\n",
      "Optimal link schedule: [0, 0, 0, 0, 1, 0, 1, 0, 0, 0]\n",
      "Maximum throughput: 12.646195231345565\n",
      "Exhaustive search results:\n",
      "Optimal link schedule: [1, 0, 0, 1, 0, 0, 0, 0, 0, 0]\n",
      "Maximum throughput: 9.634021710767147\n",
      "Exhaustive search results:\n",
      "Optimal link schedule: [1, 0, 0, 0, 0, 0, 0, 0, 0, 0]\n",
      "Maximum throughput: 7.931565433351044\n",
      "Exhaustive search results:\n",
      "Optimal link schedule: [0, 1, 0, 0, 0, 0, 0, 0, 0, 0]\n",
      "Maximum throughput: 9.625700071072979\n",
      "Exhaustive search results:\n",
      "Optimal link schedule: [0, 0, 1, 0, 0, 0, 0, 0, 1, 0]\n",
      "Maximum throughput: 10.115654228464592\n",
      "Exhaustive search results:\n",
      "Optimal link schedule: [0, 0, 0, 0, 0, 0, 0, 0, 0, 1]\n",
      "Maximum throughput: 9.838020046542837\n",
      "Exhaustive search results:\n",
      "Optimal link schedule: [0, 0, 0, 0, 0, 0, 0, 0, 1, 0]\n",
      "Maximum throughput: 8.741398612761266\n",
      "Exhaustive search results:\n",
      "Optimal link schedule: [0, 0, 0, 0, 0, 0, 0, 1, 0, 0]\n",
      "Maximum throughput: 7.5693467762370945\n",
      "Exhaustive search results:\n",
      "Optimal link schedule: [1, 0, 0, 0, 0, 0, 0, 0, 0, 0]\n",
      "Maximum throughput: 8.983244438037735\n",
      "Exhaustive search results:\n",
      "Optimal link schedule: [0, 0, 0, 0, 0, 0, 0, 0, 0, 1]\n",
      "Maximum throughput: 9.408728362395907\n",
      "Exhaustive search results:\n",
      "Optimal link schedule: [0, 0, 0, 1, 0, 0, 0, 0, 0, 0]\n",
      "Maximum throughput: 9.920484940467086\n",
      "Exhaustive search results:\n",
      "Optimal link schedule: [0, 0, 0, 0, 0, 0, 0, 0, 0, 1]\n",
      "Maximum throughput: 9.28550639052903\n",
      "Exhaustive search results:\n",
      "Optimal link schedule: [0, 0, 0, 1, 0, 0, 0, 0, 0, 0]\n",
      "Maximum throughput: 8.475056706765734\n",
      "Exhaustive search results:\n",
      "Optimal link schedule: [1, 0, 0, 0, 0, 0, 0, 0, 0, 0]\n",
      "Maximum throughput: 9.55242068205207\n",
      "Exhaustive search results:\n",
      "Optimal link schedule: [0, 0, 0, 0, 0, 0, 1, 0, 0, 0]\n",
      "Maximum throughput: 7.890663205559571\n",
      "Exhaustive search results:\n",
      "Optimal link schedule: [0, 0, 0, 0, 0, 0, 0, 1, 1, 0]\n",
      "Maximum throughput: 11.99041504417584\n",
      "Exhaustive search results:\n",
      "Optimal link schedule: [1, 0, 0, 0, 0, 0, 0, 0, 0, 0]\n",
      "Maximum throughput: 7.741514733772178\n",
      "Exhaustive search results:\n",
      "Optimal link schedule: [0, 0, 0, 1, 0, 0, 0, 1, 0, 0]\n",
      "Maximum throughput: 8.432160423267486\n",
      "Exhaustive search results:\n",
      "Optimal link schedule: [0, 0, 0, 1, 0, 0, 0, 0, 0, 0]\n",
      "Maximum throughput: 7.533558544869195\n",
      "Exhaustive search results:\n",
      "Optimal link schedule: [1, 0, 0, 0, 0, 0, 0, 0, 0, 0]\n",
      "Maximum throughput: 9.196345075632818\n",
      "Exhaustive search results:\n",
      "Optimal link schedule: [0, 0, 0, 0, 1, 0, 0, 0, 0, 0]\n",
      "Maximum throughput: 9.600615256481065\n",
      "Exhaustive search results:\n",
      "Optimal link schedule: [0, 0, 0, 0, 0, 0, 1, 1, 0, 0]\n",
      "Maximum throughput: 9.059495902030516\n",
      "Exhaustive search results:\n",
      "Optimal link schedule: [0, 0, 0, 0, 1, 0, 0, 0, 0, 0]\n",
      "Maximum throughput: 9.532266299290272\n",
      "Exhaustive search results:\n",
      "Optimal link schedule: [0, 0, 0, 1, 0, 0, 0, 1, 0, 0]\n",
      "Maximum throughput: 10.836364740724672\n",
      "Exhaustive search results:\n",
      "Optimal link schedule: [0, 0, 0, 0, 1, 0, 0, 0, 0, 0]\n",
      "Maximum throughput: 9.778079610164456\n",
      "Exhaustive search results:\n",
      "Optimal link schedule: [0, 0, 0, 0, 0, 0, 0, 1, 0, 0]\n",
      "Maximum throughput: 8.965577863430525\n",
      "Exhaustive search results:\n",
      "Optimal link schedule: [0, 0, 0, 0, 0, 1, 0, 0, 0, 0]\n",
      "Maximum throughput: 8.90877814157949\n",
      "Exhaustive search results:\n",
      "Optimal link schedule: [1, 0, 0, 0, 0, 0, 0, 0, 0, 0]\n",
      "Maximum throughput: 9.016316274289093\n",
      "Mean average throughput: 9.346944417274207\n"
     ]
    }
   ],
   "source": [
    "best_throughput_test = []\n",
    "for I, hyperedges in zip(itens_test, hlist_test):\n",
    "    best_throughput, best_schedule = exh_solver(V_H, E_H, V_H*[N], I, hyperedges)\n",
    "    best_throughput_test.append(best_throughput)\n",
    "    print(\"Exhaustive search results:\")\n",
    "    print(\"Optimal link schedule:\", best_schedule)\n",
    "    print(\"Maximum throughput:\", best_throughput)\n",
    "print(f\"Mean average throughput: {np.mean(best_throughput_test)}\")"
   ]
  },
  {
   "cell_type": "markdown",
   "metadata": {},
   "source": [
    "# Learning-Based"
   ]
  },
  {
   "cell_type": "code",
   "execution_count": 109,
   "metadata": {},
   "outputs": [],
   "source": [
    "import torch\n",
    "device = 'cuda' if torch.cuda.is_available() else 'cpu'"
   ]
  },
  {
   "cell_type": "markdown",
   "metadata": {},
   "source": [
    "# Data Preparation"
   ]
  },
  {
   "cell_type": "markdown",
   "metadata": {},
   "source": [
    "Format of Data Should be as follows\n",
    "Dictionary Keys: \"$n$\": Number of hypernodes ($|\\mathcal{V}_H|$), \"$E$\": dictionray of hyperedges, \"$I \\in R^{n\\times n}$\": Interference and Power matrix, \"$H \\in \\{0,1\\}^{n\\times m}$: Incident matrix ($m$ is the size of hyperedges) "
   ]
  },
  {
   "cell_type": "code",
   "execution_count": 110,
   "metadata": {},
   "outputs": [],
   "source": [
    "def hypergraph_generation(V_H, I, hyperedges):\n",
    "    hypergraph = {}\n",
    "\n",
    "    \n",
    "\n",
    "    hypergraph[\"I\"] = torch.DoubleTensor(I)\n",
    "\n",
    "\n",
    "    H = torch.DoubleTensor(hyperedges)\n",
    "    Dv_inv = torch.diag(H.sum(0)**(-1/2))\n",
    "    De_inv = torch.diag(H.sum(1)**(-1))\n",
    "    W = torch.eye(V_H, dtype=torch.float64)\n",
    "    hypergraph[\"H\"] = H\n",
    "    hypergraph[\"Dv_inv\"] = Dv_inv\n",
    "    hypergraph[\"De_inv\"] = De_inv\n",
    "    hypergraph[\"W\"] = W\n",
    "    return hypergraph"
   ]
  },
  {
   "cell_type": "markdown",
   "metadata": {},
   "source": [
    "## HyperDataset"
   ]
  },
  {
   "cell_type": "code",
   "execution_count": 111,
   "metadata": {},
   "outputs": [],
   "source": [
    "from torch.utils.data import Dataset, DataLoader\n",
    "\n",
    "class HyperDataset(Dataset):\n",
    "    def __init__(self, I, Dv_inv, De_inv, H, W):\n",
    "        self.I = I\n",
    "        self.Dv_inv = Dv_inv\n",
    "        self.De_inv = De_inv\n",
    "        self.H = H\n",
    "        self.W = W\n",
    "\n",
    "    def __len__(self):\n",
    "        return len(self.I)\n",
    "\n",
    "    def __getitem__(self, idx):\n",
    "        return self.I[idx], self.Dv_inv[idx], self.De_inv[idx], self.H[idx], self.W[idx]\n"
   ]
  },
  {
   "cell_type": "markdown",
   "metadata": {},
   "source": [
    "### Generating train and test dataste"
   ]
  },
  {
   "cell_type": "code",
   "execution_count": 112,
   "metadata": {},
   "outputs": [],
   "source": [
    "hyps_train, hyps_test = [], []\n",
    "\n",
    "Is = torch.zeros((len(itens_train), V_H, V_H), dtype=torch.float64)\n",
    "Dv_invs = torch.zeros((len(itens_train), V_H, V_H), dtype=torch.float64)\n",
    "De_invs = torch.zeros((len(itens_train), V_H, V_H), dtype=torch.float64)\n",
    "Hs = torch.zeros((len(itens_train), V_H, V_H), dtype=torch.float64)\n",
    "Ws = torch.zeros((len(itens_train), V_H, V_H), dtype=torch.float64)\n",
    "\n",
    "i = 0\n",
    "for I, hyperedges in zip(itens_train, H_train):\n",
    "    hyp = hypergraph_generation(V_H, I, hyperedges)\n",
    "    Is[i] = hyp[\"I\"]\n",
    "    Dv_invs[i] = hyp[\"Dv_inv\"]\n",
    "    De_invs[i] = hyp[\"De_inv\"]\n",
    "    Hs[i] = hyp[\"H\"]\n",
    "    Ws[i] = hyp[\"W\"]\n",
    "    i += 1\n",
    "\n",
    "train_dataset = HyperDataset(Is, Dv_invs, De_invs, Hs, Ws)\n",
    "\n",
    "Is = torch.zeros((len(itens_test), V_H, V_H), dtype=torch.float64)\n",
    "Dv_invs = torch.zeros((len(itens_test), V_H, V_H), dtype=torch.float64)\n",
    "De_invs = torch.zeros((len(itens_test), V_H, V_H), dtype=torch.float64)\n",
    "Hs = torch.zeros((len(itens_test), V_H, V_H), dtype=torch.float64)\n",
    "Ws = torch.zeros((len(itens_test), V_H, V_H), dtype=torch.float64)\n",
    "\n",
    "i = 0\n",
    "for I, hyperedges in zip(itens_test, H_test):\n",
    "    hyp = hypergraph_generation(V_H, I, hyperedges)\n",
    "    Is[i] = hyp[\"I\"]\n",
    "    Dv_invs[i] = hyp[\"Dv_inv\"]\n",
    "    De_invs[i] = hyp[\"De_inv\"]\n",
    "    Hs[i] = hyp[\"H\"]\n",
    "    Ws[i] = hyp[\"W\"]\n",
    "    i += 1\n",
    "\n",
    "test_dataset = HyperDataset(Is, Dv_invs, De_invs, Hs, Ws)\n",
    "    "
   ]
  },
  {
   "cell_type": "markdown",
   "metadata": {},
   "source": [
    "### Defining Train Loader"
   ]
  },
  {
   "cell_type": "code",
   "execution_count": 113,
   "metadata": {},
   "outputs": [],
   "source": [
    "batch_size = 64\n",
    "train_loader = DataLoader(train_dataset, batch_size=batch_size, shuffle=True)\n",
    "test_loader = DataLoader(test_dataset, batch_size=batch_size, shuffle=False)"
   ]
  },
  {
   "cell_type": "markdown",
   "metadata": {
    "jp-MarkdownHeadingCollapsed": true
   },
   "source": [
    "# Training HyperGCN"
   ]
  },
  {
   "cell_type": "code",
   "execution_count": 88,
   "metadata": {},
   "outputs": [
    {
     "data": {
      "text/plain": [
       "<module 'model' from '/Users/rezaramezanpour/Downloads/hyp-sched-main-2/model.py'>"
      ]
     },
     "execution_count": 88,
     "metadata": {},
     "output_type": "execute_result"
    }
   ],
   "source": [
    "import importlib, model, networks, utils\n",
    "importlib.reload(networks)\n",
    "importlib.reload(utils)\n",
    "\n",
    "importlib.reload(model)"
   ]
  },
  {
   "cell_type": "markdown",
   "metadata": {},
   "source": [
    "<span style=\"color:red\">**HyperGCN**</span> is defined in <span style=\"color:cyan\">**networks**</span> file, but it's core layer <span style=\"color:red\">*HyperGraphConvolution*</span> is defined in <span style=\"color:cyan\">**utils**</span>.<br /> If you want change the entire model you can put your model in <span style=\"color:cyan\">**networks**</span> file.<br />\n",
    "The training process is defined in the <span style=\"color:cyan\">**model**</span> file, so if you defined a new model and want to use it in training process, please change that file.<br /> Also the <span style=\"color:red\">**Gumbel+LinSatNet**</span> is defined in <span style=\"color:cyan\">**utils**</span> but it is used in training process. Our custom loss function (negative of our objecive) is defined in <span style=\"color:cyan\">**model**</span>, i double checked it with random inputs, so it should be fine."
   ]
  },
  {
   "cell_type": "code",
   "execution_count": 95,
   "metadata": {},
   "outputs": [],
   "source": [
    "import model\n",
    "HyperGCN = model.initialise(hyp)\n"
   ]
  },
  {
   "cell_type": "code",
   "execution_count": null,
   "metadata": {
    "scrolled": true
   },
   "outputs": [],
   "source": [
    "epochs = 500\n",
    "HyperGCN = model.train(HyperGCN, hyp, epochs)"
   ]
  },
  {
   "cell_type": "markdown",
   "metadata": {},
   "source": [
    "# Training HGNN"
   ]
  },
  {
   "cell_type": "code",
   "execution_count": 114,
   "metadata": {},
   "outputs": [],
   "source": [
    "def get_learnable_parameters(V_H, device):\n",
    "    hidden_dim = [15, 15, 1]  # 3 layers\n",
    "    theta_1 = torch.empty(V_H, hidden_dim[0], dtype=torch.float64, requires_grad=True, device=device)\n",
    "    torch.nn.init.xavier_uniform_(theta_1)\n",
    "    theta_2 = torch.empty(hidden_dim[0], hidden_dim[1], dtype=torch.float64, requires_grad=True, device=device)\n",
    "    torch.nn.init.xavier_uniform_(theta_2)\n",
    "    theta_3 = torch.empty(hidden_dim[1], hidden_dim[2], dtype=torch.float64, requires_grad=True, device=device)\n",
    "    torch.nn.init.xavier_uniform_(theta_3)\n",
    "    theta_HGNN = [theta_1, theta_2, theta_3]\n",
    "    return theta_HGNN"
   ]
  },
  {
   "cell_type": "code",
   "execution_count": 115,
   "metadata": {},
   "outputs": [],
   "source": [
    "def HGNN(X, Dv_inv, De_inv, H, W, theta, batch_norm=False):\n",
    "    theta_1, theta_2, theta_3 = theta\n",
    "    Xbar1 = Dv_inv @ H @ W @ De_inv @ H.transpose(1, 2) @ Dv_inv @ X @ theta_1.unsqueeze(0)\n",
    "    X1 = torch.nn.functional.relu(Xbar1)\n",
    "    if batch_norm:\n",
    "        X1 = (X1 - torch.mean(X1, dim=0))/torch.sqrt(torch.var(X1, dim=0) + 1e-5)\n",
    "    Xbar2 = Dv_inv @ H @ W @ De_inv @ H.transpose(1, 2) @ Dv_inv @ X1 @ theta_2.unsqueeze(0)\n",
    "    X2 = torch.nn.functional.relu(Xbar2)\n",
    "    if batch_norm:\n",
    "        X2 = (X2 - torch.mean(X2, dim=0))/torch.sqrt(torch.var(X2, dim=0) + 1e-5)\n",
    "    Xbar3 = Dv_inv @ H @ W @ De_inv @ H.transpose(1, 2) @ Dv_inv @ X2 @ theta_3.unsqueeze(0)\n",
    "    X3 = torch.nn.functional.sigmoid(Xbar3)\n",
    "    X3 = X3.squeeze()\n",
    "    return X3"
   ]
  },
  {
   "cell_type": "markdown",
   "metadata": {},
   "source": [
    "# Training"
   ]
  },
  {
   "cell_type": "code",
   "execution_count": 132,
   "metadata": {},
   "outputs": [],
   "source": [
    "theta_HGNN = get_learnable_parameters(V_H, device)\n",
    "# optimizer = torch.optim.Adam(theta_HGNN, lr=0.1)\n",
    "optimizer = torch.optim.SGD(theta_HGNN, lr=0.01)\n",
    "\n",
    "loss_fn = CustomLossBatch()"
   ]
  },
  {
   "cell_type": "code",
   "execution_count": 133,
   "metadata": {},
   "outputs": [
    {
     "name": "stdout",
     "output_type": "stream",
     "text": [
      "tensor([0.3533, 0.5178, 0.3963, 0.3692, 0.2899, 0.2787, 0.2889, 0.3901, 0.4887,\n",
      "        0.4831], device='cuda:0', dtype=torch.float64,\n",
      "       grad_fn=<SelectBackward0>)\n",
      "Epoch: 0, Loss:-66.67801 | Train Utility: 0.93113, Feasibility: 1.00 | Test Utility: 0.92265, Feasibility: 1.00\n",
      "tensor([0.3533, 0.5170, 0.3961, 0.3668, 0.2895, 0.2788, 0.2892, 0.3899, 0.4889,\n",
      "        0.4830], device='cuda:0', dtype=torch.float64,\n",
      "       grad_fn=<SelectBackward0>)\n",
      "Epoch: 1, Loss:-66.68979 | Train Utility: 0.91409, Feasibility: 1.00 | Test Utility: 0.85308, Feasibility: 1.00\n",
      "tensor([0.3530, 0.5114, 0.3965, 0.3647, 0.2824, 0.2788, 0.2924, 0.3851, 0.4881,\n",
      "        0.4832], device='cuda:0', dtype=torch.float64,\n",
      "       grad_fn=<SelectBackward0>)\n",
      "Epoch: 2, Loss:-66.69960 | Train Utility: 0.89982, Feasibility: 1.00 | Test Utility: 0.81458, Feasibility: 1.00\n",
      "tensor([0.3416, 0.5005, 0.3931, 0.3587, 0.2853, 0.2832, 0.2940, 0.3761, 0.4878,\n",
      "        0.4808], device='cuda:0', dtype=torch.float64,\n",
      "       grad_fn=<SelectBackward0>)\n",
      "Epoch: 3, Loss:-66.70599 | Train Utility: 0.88095, Feasibility: 1.00 | Test Utility: 0.81458, Feasibility: 1.00\n",
      "tensor([0.3431, 0.4980, 0.3894, 0.3564, 0.2876, 0.2838, 0.2902, 0.3781, 0.4883,\n",
      "        0.4733], device='cuda:0', dtype=torch.float64,\n",
      "       grad_fn=<SelectBackward0>)\n",
      "Epoch: 4, Loss:-66.71540 | Train Utility: 0.87521, Feasibility: 1.00 | Test Utility: 0.80217, Feasibility: 1.00\n",
      "tensor([0.3442, 0.4971, 0.3878, 0.3557, 0.2886, 0.2835, 0.2875, 0.3796, 0.4876,\n",
      "        0.4702], device='cuda:0', dtype=torch.float64,\n",
      "       grad_fn=<SelectBackward0>)\n",
      "Epoch: 5, Loss:-66.72423 | Train Utility: 0.85930, Feasibility: 1.00 | Test Utility: 0.80217, Feasibility: 1.00\n"
     ]
    },
    {
     "ename": "KeyboardInterrupt",
     "evalue": "",
     "output_type": "error",
     "traceback": [
      "\u001b[0;31m---------------------------------------------------------------------------\u001b[0m",
      "\u001b[0;31mKeyboardInterrupt\u001b[0m                         Traceback (most recent call last)",
      "Cell \u001b[0;32mIn[133], line 26\u001b[0m\n\u001b[1;32m     24\u001b[0m utility_epoch\u001b[38;5;241m.\u001b[39mappend(utility\u001b[38;5;241m.\u001b[39mitem()\u001b[38;5;241m/\u001b[39mbatch_size)\n\u001b[1;32m     25\u001b[0m feasibility_epoch\u001b[38;5;241m.\u001b[39mappend(feasibility)\n\u001b[0;32m---> 26\u001b[0m \u001b[43mloss\u001b[49m\u001b[38;5;241;43m.\u001b[39;49m\u001b[43mbackward\u001b[49m\u001b[43m(\u001b[49m\u001b[43m)\u001b[49m\n\u001b[1;32m     27\u001b[0m \u001b[38;5;66;03m# print(torch.linalg.matrix_norm(theta_HGNN[0].grad))\u001b[39;00m\n\u001b[1;32m     28\u001b[0m optimizer\u001b[38;5;241m.\u001b[39mstep()\n",
      "File \u001b[0;32m/opt/conda/lib/python3.12/site-packages/torch/_tensor.py:581\u001b[0m, in \u001b[0;36mTensor.backward\u001b[0;34m(self, gradient, retain_graph, create_graph, inputs)\u001b[0m\n\u001b[1;32m    571\u001b[0m \u001b[38;5;28;01mif\u001b[39;00m has_torch_function_unary(\u001b[38;5;28mself\u001b[39m):\n\u001b[1;32m    572\u001b[0m     \u001b[38;5;28;01mreturn\u001b[39;00m handle_torch_function(\n\u001b[1;32m    573\u001b[0m         Tensor\u001b[38;5;241m.\u001b[39mbackward,\n\u001b[1;32m    574\u001b[0m         (\u001b[38;5;28mself\u001b[39m,),\n\u001b[0;32m   (...)\u001b[0m\n\u001b[1;32m    579\u001b[0m         inputs\u001b[38;5;241m=\u001b[39minputs,\n\u001b[1;32m    580\u001b[0m     )\n\u001b[0;32m--> 581\u001b[0m \u001b[43mtorch\u001b[49m\u001b[38;5;241;43m.\u001b[39;49m\u001b[43mautograd\u001b[49m\u001b[38;5;241;43m.\u001b[39;49m\u001b[43mbackward\u001b[49m\u001b[43m(\u001b[49m\n\u001b[1;32m    582\u001b[0m \u001b[43m    \u001b[49m\u001b[38;5;28;43mself\u001b[39;49m\u001b[43m,\u001b[49m\u001b[43m \u001b[49m\u001b[43mgradient\u001b[49m\u001b[43m,\u001b[49m\u001b[43m \u001b[49m\u001b[43mretain_graph\u001b[49m\u001b[43m,\u001b[49m\u001b[43m \u001b[49m\u001b[43mcreate_graph\u001b[49m\u001b[43m,\u001b[49m\u001b[43m \u001b[49m\u001b[43minputs\u001b[49m\u001b[38;5;241;43m=\u001b[39;49m\u001b[43minputs\u001b[49m\n\u001b[1;32m    583\u001b[0m \u001b[43m\u001b[49m\u001b[43m)\u001b[49m\n",
      "File \u001b[0;32m/opt/conda/lib/python3.12/site-packages/torch/autograd/__init__.py:347\u001b[0m, in \u001b[0;36mbackward\u001b[0;34m(tensors, grad_tensors, retain_graph, create_graph, grad_variables, inputs)\u001b[0m\n\u001b[1;32m    342\u001b[0m     retain_graph \u001b[38;5;241m=\u001b[39m create_graph\n\u001b[1;32m    344\u001b[0m \u001b[38;5;66;03m# The reason we repeat the same comment below is that\u001b[39;00m\n\u001b[1;32m    345\u001b[0m \u001b[38;5;66;03m# some Python versions print out the first line of a multi-line function\u001b[39;00m\n\u001b[1;32m    346\u001b[0m \u001b[38;5;66;03m# calls in the traceback and some print out the last line\u001b[39;00m\n\u001b[0;32m--> 347\u001b[0m \u001b[43m_engine_run_backward\u001b[49m\u001b[43m(\u001b[49m\n\u001b[1;32m    348\u001b[0m \u001b[43m    \u001b[49m\u001b[43mtensors\u001b[49m\u001b[43m,\u001b[49m\n\u001b[1;32m    349\u001b[0m \u001b[43m    \u001b[49m\u001b[43mgrad_tensors_\u001b[49m\u001b[43m,\u001b[49m\n\u001b[1;32m    350\u001b[0m \u001b[43m    \u001b[49m\u001b[43mretain_graph\u001b[49m\u001b[43m,\u001b[49m\n\u001b[1;32m    351\u001b[0m \u001b[43m    \u001b[49m\u001b[43mcreate_graph\u001b[49m\u001b[43m,\u001b[49m\n\u001b[1;32m    352\u001b[0m \u001b[43m    \u001b[49m\u001b[43minputs\u001b[49m\u001b[43m,\u001b[49m\n\u001b[1;32m    353\u001b[0m \u001b[43m    \u001b[49m\u001b[43mallow_unreachable\u001b[49m\u001b[38;5;241;43m=\u001b[39;49m\u001b[38;5;28;43;01mTrue\u001b[39;49;00m\u001b[43m,\u001b[49m\n\u001b[1;32m    354\u001b[0m \u001b[43m    \u001b[49m\u001b[43maccumulate_grad\u001b[49m\u001b[38;5;241;43m=\u001b[39;49m\u001b[38;5;28;43;01mTrue\u001b[39;49;00m\u001b[43m,\u001b[49m\n\u001b[1;32m    355\u001b[0m \u001b[43m\u001b[49m\u001b[43m)\u001b[49m\n",
      "File \u001b[0;32m/opt/conda/lib/python3.12/site-packages/torch/autograd/graph.py:825\u001b[0m, in \u001b[0;36m_engine_run_backward\u001b[0;34m(t_outputs, *args, **kwargs)\u001b[0m\n\u001b[1;32m    823\u001b[0m     unregister_hooks \u001b[38;5;241m=\u001b[39m _register_logging_hooks_on_whole_graph(t_outputs)\n\u001b[1;32m    824\u001b[0m \u001b[38;5;28;01mtry\u001b[39;00m:\n\u001b[0;32m--> 825\u001b[0m     \u001b[38;5;28;01mreturn\u001b[39;00m \u001b[43mVariable\u001b[49m\u001b[38;5;241;43m.\u001b[39;49m\u001b[43m_execution_engine\u001b[49m\u001b[38;5;241;43m.\u001b[39;49m\u001b[43mrun_backward\u001b[49m\u001b[43m(\u001b[49m\u001b[43m  \u001b[49m\u001b[38;5;66;43;03m# Calls into the C++ engine to run the backward pass\u001b[39;49;00m\n\u001b[1;32m    826\u001b[0m \u001b[43m        \u001b[49m\u001b[43mt_outputs\u001b[49m\u001b[43m,\u001b[49m\u001b[43m \u001b[49m\u001b[38;5;241;43m*\u001b[39;49m\u001b[43margs\u001b[49m\u001b[43m,\u001b[49m\u001b[43m \u001b[49m\u001b[38;5;241;43m*\u001b[39;49m\u001b[38;5;241;43m*\u001b[39;49m\u001b[43mkwargs\u001b[49m\n\u001b[1;32m    827\u001b[0m \u001b[43m    \u001b[49m\u001b[43m)\u001b[49m  \u001b[38;5;66;03m# Calls into the C++ engine to run the backward pass\u001b[39;00m\n\u001b[1;32m    828\u001b[0m \u001b[38;5;28;01mfinally\u001b[39;00m:\n\u001b[1;32m    829\u001b[0m     \u001b[38;5;28;01mif\u001b[39;00m attach_logging_hooks:\n",
      "\u001b[0;31mKeyboardInterrupt\u001b[0m: "
     ]
    }
   ],
   "source": [
    "beta = 1\n",
    "tau = 5\n",
    "max_iter = 1000\n",
    "epochs = 1000\n",
    "batch_norm=True\n",
    "train_utility, test_utility = [], []\n",
    "optimizer.zero_grad()\n",
    "for epoch in range(epochs):\n",
    "    # Train Phase\n",
    "    loss_epoch, utility_epoch, feasibility_epoch = [], [], []\n",
    "    for (X, Dv_inv, De_inv, H, W) in train_loader:\n",
    "        X, H, W = X.to(device), H.to(device), W.to(device)\n",
    "        Dv_inv, De_inv = Dv_inv.to(device), De_inv.to(device)\n",
    "        z = HGNN(X, Dv_inv, De_inv, H, W, theta_HGNN, batch_norm)\n",
    "        # Linsat\n",
    "        z = z * beta\n",
    "        RHS_const = H.transpose(2, 1).sum(dim=2) - 1\n",
    "        LHS_const = H.transpose(2, 1)\n",
    "        z = linsat_layer_modified(z.float(), A=LHS_const.float(), b=RHS_const.float(), tau=tau, max_iter=max_iter, dummy_val=0, no_warning=False, grouped=False).double()\n",
    "        z = z / beta\n",
    "        loss = loss_fn(z, X, N, gamma=0.0)[0]\n",
    "        utility = utility_fn(z, X, N)  # utility based on discrete values of z\n",
    "        feasibility = check_feasibility(H, z)\n",
    "        utility_epoch.append(utility.item()/batch_size)\n",
    "        feasibility_epoch.append(feasibility)\n",
    "        loss.backward()\n",
    "        # print(torch.linalg.matrix_norm(theta_HGNN[0].grad))\n",
    "        optimizer.step()\n",
    "        optimizer.zero_grad()\n",
    "        loss_epoch.append(loss.item())\n",
    "    # Test Phase\n",
    "    utility_epoch_test, feasibility_epoch_test = [], []\n",
    "    for (X, Dv_inv, De_inv, H, W) in test_loader:\n",
    "        X, H, W = X.to(device), H.to(device), W.to(device)\n",
    "        Dv_inv, De_inv = Dv_inv.to(device), De_inv.to(device)\n",
    "        z = HGNN(X, Dv_inv, De_inv, H, W, theta_HGNN, batch_norm)\n",
    "        # Linsat \n",
    "        z = z * beta\n",
    "        RHS_const = H.transpose(2, 1).sum(dim=2) - 1\n",
    "        LHS_const = H.transpose(2, 1)\n",
    "        z = linsat_layer_modified(z.float(), A=LHS_const.float(), b=RHS_const.float(), tau=tau, max_iter=max_iter, dummy_val=0, no_warning=False, grouped=False).double()\n",
    "        z = z / beta\n",
    "        utility = utility_fn(z, X, N)  # utility based on discrete values of z\n",
    "        feasibility = check_feasibility(H, z)\n",
    "        utility_epoch_test.append(utility.item()/batch_size)\n",
    "        feasibility_epoch_test.append(feasibility)\n",
    "    utility_epoch_mean = np.mean(utility_epoch)\n",
    "    utility_epoch_test_mean = np.mean(utility_epoch_test)\n",
    "    feasibility_epoch_mean = np.mean(feasibility_epoch)\n",
    "    feasibility_epoch_test_mean = np.mean(feasibility_epoch_test)\n",
    "    print(z[0])\n",
    "    if epoch % 1 == 0:\n",
    "        print(f\"Epoch: {epoch}, Loss:{np.mean(loss_epoch):.5f} | Train Utility: {utility_epoch_mean:.5f}, Feasibility: {feasibility_epoch_mean:.2f}\" \\\n",
    "        f\" | Test Utility: {utility_epoch_test_mean:.5f}, Feasibility: {feasibility_epoch_test_mean:.2f}\")\n",
    "    train_utility.append(utility_epoch_mean)\n",
    "    test_utility.append(utility_epoch_test_mean)\n",
    "print(f\"Final utility per hypergraph: {utility_epoch_test}\")"
   ]
  },
  {
   "cell_type": "code",
   "execution_count": 119,
   "metadata": {},
   "outputs": [],
   "source": [
    "import matplotlib.pyplot as plt"
   ]
  },
  {
   "cell_type": "code",
   "execution_count": 123,
   "metadata": {},
   "outputs": [
    {
     "data": {
      "image/png": "[encoded data removed]",
      "text/plain": [
       "<Figure size 640x480 with 1 Axes>"
      ]
     },
     "metadata": {},
     "output_type": "display_data"
    }
   ],
   "source": [
    "plt.plot(train_utility, label='train')\n",
    "plt.plot(test_utility, label='validation')\n",
    "plt.xlabel('Epoch')\n",
    "plt.ylabel('Utility')\n",
    "plt.grid()\n",
    "plt.legend()\n",
    "# plt.savefig('HGNN_train_batch_norm.jpg')"
   ]
  },
  {
   "cell_type": "code",
   "execution_count": 204,
   "metadata": {},
   "outputs": [
    {
     "data": {
      "image/png": "[encoded data removed]",
      "text/plain": [
       "<Figure size 640x480 with 1 Axes>"
      ]
     },
     "metadata": {},
     "output_type": "display_data"
    }
   ],
   "source": [
    "plt.plot(torch.stack(train_utility).detach().numpy(), label='train')\n",
    "plt.plot(torch.stack(test_utility).detach().numpy(), label='validation')\n",
    "plt.xlabel('Epoch')\n",
    "plt.ylabel('Utility')\n",
    "plt.grid()\n",
    "plt.legend()\n",
    "# plt.savefig('HGNN_train_reg0.5.jpg')"
   ]
  },
  {
   "cell_type": "code",
   "execution_count": 238,
   "metadata": {},
   "outputs": [
    {
     "data": {
      "text/plain": [
       "tensor([[0.4464],\n",
       "        [0.4477],\n",
       "        [0.4607],\n",
       "        [0.4284],\n",
       "        [0.4309],\n",
       "        [0.4087],\n",
       "        [0.4464],\n",
       "        [0.4238],\n",
       "        [0.4166],\n",
       "        [0.4267]], dtype=torch.float64, grad_fn=<SigmoidBackward0>)"
      ]
     },
     "execution_count": 238,
     "metadata": {},
     "output_type": "execute_result"
    }
   ],
   "source": [
    "Z"
   ]
  },
  {
   "cell_type": "code",
   "execution_count": 138,
   "metadata": {},
   "outputs": [
    {
     "data": {
      "text/plain": [
       "(tensor(-8.7234, dtype=torch.float64, grad_fn=<NegBackward0>),\n",
       " tensor(8.7234, dtype=torch.float64, grad_fn=<SumBackward0>))"
      ]
     },
     "execution_count": 138,
     "metadata": {},
     "output_type": "execute_result"
    }
   ],
   "source": [
    "loss_fn(Z, X, N)"
   ]
  },
  {
   "cell_type": "code",
   "execution_count": 139,
   "metadata": {},
   "outputs": [
    {
     "data": {
      "text/plain": [
       "(tensor(9.7985, dtype=torch.float64), [0, 0, 0, 0, 0, 0, 0, 0, 1, 0])"
      ]
     },
     "execution_count": 139,
     "metadata": {},
     "output_type": "execute_result"
    }
   ],
   "source": [
    "exh_solver(V_H, None, V_H*[N], X, list(hyp['E'].values()))"
   ]
  },
  {
   "cell_type": "code",
   "execution_count": 16,
   "metadata": {},
   "outputs": [
    {
     "data": {
      "text/plain": [
       "[<matplotlib.lines.Line2D at 0x7f95ea363da0>]"
      ]
     },
     "execution_count": 16,
     "metadata": {},
     "output_type": "execute_result"
    },
    {
     "data": {
      "image/png": "[encoded data removed]",
      "text/plain": [
       "<Figure size 640x480 with 1 Axes>"
      ]
     },
     "metadata": {},
     "output_type": "display_data"
    }
   ],
   "source": [
    "plt.plot(torch.stack(HyperGCN['utility']).detach().numpy())"
   ]
  },
  {
   "cell_type": "code",
   "execution_count": null,
   "metadata": {},
   "outputs": [],
   "source": []
  }
 ],
 "metadata": {
  "kernelspec": {
   "display_name": "Python 3 (ipykernel)",
   "language": "python",
   "name": "python3"
  },
  "language_info": {
   "codemirror_mode": {
    "name": "ipython",
    "version": 3
   },
   "file_extension": ".py",
   "mimetype": "text/x-python",
   "name": "python",
   "nbconvert_exporter": "python",
   "pygments_lexer": "ipython3",
   "version": "3.12.2"
  }
 },
 "nbformat": 4,
 "nbformat_minor": 4
}
